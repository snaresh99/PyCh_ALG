{
 "cells": [
  {
   "cell_type": "markdown",
   "metadata": {},
   "source": [
    "# Preface\n",
    "* Software architecture, or creating a blueprint design for a particular software application, is not a walk inthe park.\n",
    "* The two biggest challenges in software architecture are keeping the architecture in sync, first with the requierments as they are uncovered or evolve, and next with the implementaiton as it gets built and evolves.\n",
    "\n",
    "# Key Objectives of this book:\n",
    "* This book will help me understand the ins and outs of python so that you can architect and design highly scalable,\n",
    "- Highly scalable,\n",
    "- robust, \n",
    "- clean, \n",
    "- and performant applicaitons in python.\n",
    "\n",
    "# Chapter 1: Principles of software architecture:\n",
    "* Introduces the topic of software architecture, giving you a brief on architectural quality attributes and the general principles behind them.\n",
    "* This will enable you to have  strong fundamentals in softwaree architectural principles and foundational attributes.\n"
   ]
  }
 ],
 "metadata": {
  "language_info": {
   "name": "python"
  }
 },
 "nbformat": 4,
 "nbformat_minor": 2
}
