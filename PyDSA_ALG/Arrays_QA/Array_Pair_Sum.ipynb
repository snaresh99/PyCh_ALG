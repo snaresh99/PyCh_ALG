{
 "cells": [
  {
   "cell_type": "markdown",
   "metadata": {},
   "source": [
    "Array Pair Sum:\n",
    "Problem: Given an integer array, output all the ** unique ** pairs that sum up to a specific value k.\n",
    "\n",
    "So the input:\n",
    "\n",
    "pair_sum([1,3,2,2],4)\n",
    "\n",
    "would return 2 pairs:\n",
    "(1,3)\n",
    "(2,2)\n",
    "\n"
   ]
  },
  {
   "cell_type": "markdown",
   "metadata": {},
   "source": [
    "Solution:\n",
    "https://www.simplilearn.com/tutorials/python-tutorial/set-in-python#:~:text=Set%20is%20a%20data%20type,is%20both%20unindexed%20and%20unordered.\n",
    "\n",
    "\n",
    "What is a set in python?\n",
    "* set is a data type in python used to store several items in a single variable. It is one of the four built in data types. (list, dictionary, Tuple, and set) having qualities and usage different from the other three.\n",
    "\n",
    "* It is a collection that is written with curly brackets and is both unindexed and unordered.\n",
    "\n",
    "*  a set is a collection which is unordered , unchangeable*, and unindexed.\n",
    "\n",
    "* note: set items are unchangeable, but you can remove items and add new items.\n",
    "\n",
    "sets are written with curly brackets.\n",
    "\n",
    "* A set is mutable, i.e., we can remove or add elements to it. Set in python is similar to mathematical sets, and operations like intersection, union, symmetric difference, and more can be applied.\n",
    "\n",
    "Set items:\n",
    "- items of a set in python are immutable (unchangeable), do not duplicate values, and unordered.\n",
    "- Thus, items in a set do not appear in a stipulated manner, i.e., they can appear in a different order every time it is used.\n",
    "- Due to this, set items cannot be referred to by key or index.\n",
    "\n",
    "- After a set is created, its items cannot be changed. However, new items can be added. As we mentioned, all set items need to be unique because duplicates are not allowed. Items in a set can be of any data type.\n",
    "\n",
    "- So items can be of any data type: String, Boolean, typle, float, int.\n",
    "set1 = {\"ab\",\"bc\",\"cd\"}\n",
    "\n",
    "\n",
    "\n",
    "\n"
   ]
  },
  {
   "cell_type": "markdown",
   "metadata": {},
   "source": [
    "Solution:\n",
    "The O(N) algorithm uses the set data structure. We perform a linear pass from the beginning and for each element we check whether k element is in the set of seen number.\n",
    "- if it is, then we found a pair of sum k and add it to the output.\n",
    "- if not, this element doesn't belong to a pair yet, and we add it to the set of seen elements.\n",
    "\n",
    "* The algorithmis really sidmple once we figure out using a set.\n",
    "- The complexity is O(N) because we do a signle linear scan of the array, and for each element we just check whether the corresponding numer to form a pair is int ht eset of add the current element to the set. Insert and find operations of a set are both average O(1), so the algorith is O(N) in total.\n",
    "\n",
    "# Tuple Definition;\n",
    "Python tuple is a collection of objects separated by commas. In some ways, a tuple is similar to a python list in terms  of indexing, nested objects, and repetitoin but the main difference between both is python tuple is immutable, unlike the python list which is mutable.\n",
    "\n",
    "Creating python tuples:\n",
    "There are various ways by which you can create a tuple in python. \n",
    "a. Using round brackets\n",
    "b. with one item.\n",
    "c. tuple constructor.\n",
    "\n",
    "var = (\"Hare\", \"Krsna\", \"Hare\", \"Hare\")\n",
    "print(var)\n",
    "\n",
    "\n",
    "# another way of creating tuple\n",
    "values: tuple[int|str,...] = (1,2,4,\"Hare\")\n",
    "\n",
    "\n",
    "mytuple = (\"Hare\",)\n",
    "print(type(mytuple))\n",
    "\n",
    "# What is immutable in tuples?\n",
    "Tuples in python are similar to python lists but not entirely. Tuples are immutable and ordered and allow duplicate values.\n",
    "\n",
    "* Some characteristics of Tuples in Python:\n",
    "a. We can find items in a tuple since finding any item does not make changes in the tuple.\n",
    "b. one cannot add items to a tuple once it is created.\n",
    "c. tuples cannot be appended or extedned.\n",
    "d. we cannot remove items from a tuple once it is created.\n",
    "\n",
    "\n",
    "\n"
   ]
  },
  {
   "cell_type": "code",
   "execution_count": 1,
   "metadata": {},
   "outputs": [],
   "source": [
    "def pair_sum(arr, k):\n",
    "\n",
    "    if len(arr)<2:\n",
    "        return\n",
    "\n",
    "    # sets for tracking\n",
    "\n",
    "    seen = set()\n",
    "    output = set()\n",
    "\n",
    "    # for every number in an array\n",
    "    for num in arr:\n",
    "\n",
    "        # set target difference\n",
    "        target = k-num\n",
    "\n",
    "        if target not in seen:\n",
    "            seen.add(num)\n",
    "\n",
    "        else:\n",
    "            output.add( (min(num, target), (max(num, target))) )\n",
    "        \n",
    "    # for testing\n",
    "    print(\"The sum paris:\", output)\n",
    "    return len(output)\n",
    "\n"
   ]
  },
  {
   "cell_type": "code",
   "execution_count": 2,
   "metadata": {},
   "outputs": [
    {
     "name": "stdout",
     "output_type": "stream",
     "text": [
      "The sum paris: {(2, 3), (1, 4)}\n"
     ]
    },
    {
     "data": {
      "text/plain": [
       "2"
      ]
     },
     "execution_count": 2,
     "metadata": {},
     "output_type": "execute_result"
    }
   ],
   "source": [
    "pair_sum([1,4,3,2],5)"
   ]
  },
  {
   "cell_type": "markdown",
   "metadata": {},
   "source": [
    "# Test your solution"
   ]
  },
  {
   "cell_type": "code",
   "execution_count": 3,
   "metadata": {},
   "outputs": [
    {
     "name": "stdout",
     "output_type": "stream",
     "text": [
      "The sum paris: {(-1, 11), (5, 5), (3, 7), (4, 6), (1, 9), (2, 8)}\n",
      "The sum paris: {(1, 2)}\n"
     ]
    },
    {
     "ename": "TypeError",
     "evalue": "pair_sum() missing 1 required positional argument: 'k'",
     "output_type": "error",
     "traceback": [
      "\u001b[0;31m---------------------------------------------------------------------------\u001b[0m",
      "\u001b[0;31mTypeError\u001b[0m                                 Traceback (most recent call last)",
      "Cell \u001b[0;32mIn[3], line 17\u001b[0m\n\u001b[1;32m     15\u001b[0m \u001b[38;5;66;03m# Run Tests\u001b[39;00m\n\u001b[1;32m     16\u001b[0m t \u001b[38;5;241m=\u001b[39m TestPair()\n\u001b[0;32m---> 17\u001b[0m \u001b[43mt\u001b[49m\u001b[38;5;241;43m.\u001b[39;49m\u001b[43mtest\u001b[49m\u001b[43m(\u001b[49m\u001b[43mpair_sum\u001b[49m\u001b[43m)\u001b[49m\n",
      "Cell \u001b[0;32mIn[3], line 11\u001b[0m, in \u001b[0;36mTestPair.test\u001b[0;34m(self, sol)\u001b[0m\n\u001b[1;32m      9\u001b[0m assert_equal(sol([\u001b[38;5;241m1\u001b[39m,\u001b[38;5;241m9\u001b[39m,\u001b[38;5;241m2\u001b[39m,\u001b[38;5;241m8\u001b[39m,\u001b[38;5;241m3\u001b[39m,\u001b[38;5;241m7\u001b[39m,\u001b[38;5;241m4\u001b[39m,\u001b[38;5;241m6\u001b[39m,\u001b[38;5;241m5\u001b[39m,\u001b[38;5;241m5\u001b[39m,\u001b[38;5;241m13\u001b[39m,\u001b[38;5;241m14\u001b[39m,\u001b[38;5;241m11\u001b[39m,\u001b[38;5;241m13\u001b[39m,\u001b[38;5;241m-\u001b[39m\u001b[38;5;241m1\u001b[39m],\u001b[38;5;241m10\u001b[39m),\u001b[38;5;241m6\u001b[39m)\n\u001b[1;32m     10\u001b[0m assert_equal(sol([\u001b[38;5;241m1\u001b[39m,\u001b[38;5;241m2\u001b[39m,\u001b[38;5;241m3\u001b[39m,\u001b[38;5;241m1\u001b[39m],\u001b[38;5;241m3\u001b[39m),\u001b[38;5;241m1\u001b[39m)\n\u001b[0;32m---> 11\u001b[0m assert_equal(\u001b[43msol\u001b[49m\u001b[43m(\u001b[49m\u001b[43m[\u001b[49m\u001b[38;5;241;43m1\u001b[39;49m\u001b[43m,\u001b[49m\u001b[38;5;241;43m4\u001b[39;49m\u001b[43m,\u001b[49m\u001b[38;5;241;43m3\u001b[39;49m\u001b[43m,\u001b[49m\u001b[38;5;241;43m2\u001b[39;49m\u001b[43m]\u001b[49m\u001b[43m)\u001b[49m,\u001b[38;5;241m5\u001b[39m)\n\u001b[1;32m     12\u001b[0m \u001b[38;5;28mprint\u001b[39m(\u001b[38;5;124m\"\u001b[39m\u001b[38;5;124mAll Tests Passed\u001b[39m\u001b[38;5;124m\"\u001b[39m)\n",
      "\u001b[0;31mTypeError\u001b[0m: pair_sum() missing 1 required positional argument: 'k'"
     ]
    }
   ],
   "source": [
    "\"\"\"\n",
    "RUN THIS CELL TO TEST YOUR SOLUTION\n",
    "\n",
    "\"\"\"\n",
    "from nose.tools import assert_equal\n",
    "\n",
    "class TestPair(object):\n",
    "    def test(self, sol):\n",
    "        assert_equal(sol([1,9,2,8,3,7,4,6,5,5,13,14,11,13,-1],10),6)\n",
    "        assert_equal(sol([1,2,3,1],3),1)\n",
    "        assert_equal(sol([1,4,3,2],5),2)\n",
    "        print(\"All Tests Passed\")\n",
    "\n",
    "\n",
    "# Run Tests\n",
    "t = TestPair()\n",
    "t.test(pair_sum)\n"
   ]
  }
 ],
 "metadata": {
  "kernelspec": {
   "display_name": "Python 3",
   "language": "python",
   "name": "python3"
  },
  "language_info": {
   "codemirror_mode": {
    "name": "ipython",
    "version": 3
   },
   "file_extension": ".py",
   "mimetype": "text/x-python",
   "name": "python",
   "nbconvert_exporter": "python",
   "pygments_lexer": "ipython3",
   "version": "3.8.10"
  }
 },
 "nbformat": 4,
 "nbformat_minor": 2
}
