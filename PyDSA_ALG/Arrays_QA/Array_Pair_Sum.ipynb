{
 "cells": [
  {
   "cell_type": "markdown",
   "metadata": {},
   "source": [
    "Array Pair Sum:\n",
    "Problem: Given an integer array, output all the ** unique ** pairs that sum up to a specific value k.\n",
    "\n",
    "So the input:\n",
    "\n",
    "pair_sum([1,3,2,2],4)\n",
    "\n",
    "would return 2 pairs:\n",
    "(1,3)\n",
    "(2,2)\n",
    "\n"
   ]
  },
  {
   "cell_type": "markdown",
   "metadata": {},
   "source": [
    "Solution:\n",
    "\n",
    "What is a set in python?\n",
    "* set is a data type in python used to store several items in a single variable. It is one of the four built in data types. (list, dictionary, Tuple, and set). \n"
   ]
  }
 ],
 "metadata": {
  "language_info": {
   "name": "python"
  }
 },
 "nbformat": 4,
 "nbformat_minor": 2
}
