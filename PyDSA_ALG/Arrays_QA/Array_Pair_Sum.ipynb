{
 "cells": [
  {
   "cell_type": "markdown",
   "metadata": {},
   "source": [
    "Array Pair Sum:\n",
    "Problem: Given an integer array, output all the ** unique ** pairs that sum up to a specific value k.\n",
    "\n",
    "So the input:\n",
    "\n",
    "pair_sum([1,3,2,2],4)\n",
    "\n",
    "would return 2 pairs:\n",
    "(1,3)\n",
    "(2,2)\n",
    "\n"
   ]
  },
  {
   "cell_type": "markdown",
   "metadata": {},
   "source": [
    "Solution:\n",
    "https://www.simplilearn.com/tutorials/python-tutorial/set-in-python#:~:text=Set%20is%20a%20data%20type,is%20both%20unindexed%20and%20unordered.\n",
    "\n",
    "\n",
    "What is a set in python?\n",
    "* set is a data type in python used to store several items in a single variable. It is one of the four built in data types. (list, dictionary, Tuple, and set) having qualities and usage different from the other three.\n",
    "\n",
    "* It is a collection that is written with curly brackets and is both unindexed and unordered.\n",
    "\n",
    "*  a set is a collection which is unordered , unchangeable*, and unindexed.\n",
    "\n",
    "* note: set items are unchangeable, but you can remove items and add new items.\n",
    "\n",
    "sets are written with curly brackets.\n",
    "\n",
    "* A set is mutable, i.e., we can remove or add elements to it. Set in python is similar to mathematical sets, and operations like intersection, union, symmetric difference, and more can be applied.\n",
    "\n",
    "Set items:\n",
    "- items of a set in python are immutable (unchangeable), do not duplicate values, and unordered.\n",
    "- Thus, items in a set do not appear in a stipulated manner, i.e., they can appear in a different order every time it is used.\n",
    "- Due to this, set items cannot be referred to by key or index.\n",
    "\n",
    "- After a set is created, its items cannot be changed. However, new items can be added. As we mentioned, all set items need to be unique because duplicates are not allowed. Items in a set can be of any data type.\n",
    "\n",
    "- So items can be of any data type: String, Boolean, typle, float, int.\n",
    "set1 = {\"ab\",\"bc\",\"cd\"}\n",
    "\n",
    "\n",
    "\n",
    "\n"
   ]
  }
 ],
 "metadata": {
  "language_info": {
   "name": "python"
  }
 },
 "nbformat": 4,
 "nbformat_minor": 2
}
