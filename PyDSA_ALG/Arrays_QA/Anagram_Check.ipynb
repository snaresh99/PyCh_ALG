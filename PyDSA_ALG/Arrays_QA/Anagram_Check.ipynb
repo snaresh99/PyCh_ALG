{
 "cells": [
  {
   "cell_type": "code",
   "execution_count": null,
   "metadata": {},
   "outputs": [],
   "source": []
  },
  {
   "cell_type": "markdown",
   "metadata": {},
   "source": [
    "Anagram Check:\n",
    "Problem:\n",
    "- Given two strings, check to see if they are anagrams. An anagram is when the two strings can be written using the exact same letters so you can just arrange the letters to get a different phase of a word.\n",
    "\n",
    "For example: \n",
    "1. Public relations is an anagram of \"crap built on lies\"\n",
    "2. \"Clint estwood\" is an anagram of \"old west action\".\n",
    "\n",
    "note: Ignore spaces and captilization. So \"d go\" is an anagram of \"God\" and \"dog\" and \"odg\".\n",
    "\n"
   ]
  },
  {
   "cell_type": "code",
   "execution_count": 1,
   "metadata": {},
   "outputs": [],
   "source": [
    "def anagram_Template(s1, s2):\n",
    "    pass\n"
   ]
  },
  {
   "cell_type": "code",
   "execution_count": null,
   "metadata": {},
   "outputs": [],
   "source": [
    "anagram('clint eastwood', 'old west action')"
   ]
  },
  {
   "cell_type": "code",
   "execution_count": null,
   "metadata": {},
   "outputs": [],
   "source": [
    "anagram('aa', 'bb')"
   ]
  },
  {
   "cell_type": "code",
   "execution_count": null,
   "metadata": {},
   "outputs": [],
   "source": [
    "\"\"\"\n",
    "Run this cell to test your solution\n",
    "\"\"\"\n",
    "\n",
    "from nose.tools import assert_equal\n",
    "\n",
    "class AnagramTest(object):\n",
    "    def test(self,sol):\n",
    "        assert_equal(sol('go go go', 'gggooo'), True)\n",
    "        assert_equal(sol('abc','cba'), True)\n",
    "        assert_equal(sol('hi man', 'hi    man'), True)\n",
    "        assert_equal(sol('aabbcc', 'aabbc'), False)\n",
    "        assert_equal(sol('123', '1 2'), False)\n",
    "        print(\"All Test case passed\")\n",
    "\n",
    "# Run Tests\n",
    "t = AnagramTest()\n",
    "t.test(anagram)\n"
   ]
  },
  {
   "cell_type": "markdown",
   "metadata": {},
   "source": [
    "Solution;\n",
    "\n",
    "There are two ways of thinking about this proble, if two strings have the same frequency of letters/elements (meaning each letter show up the same number of times in both strings) then they are anagrams of eachother.\n",
    "-  On a similar vien of logic, if two strings are equal to each other once they are sorted, then they are also anagrams of each other.\n",
    "\n",
    "You would be able to implement this second solution pretty easily in python:"
   ]
  },
  {
   "cell_type": "code",
   "execution_count": 6,
   "metadata": {},
   "outputs": [],
   "source": [
    "def anagram(s1, s2):\n",
    "    print(\"anagram implementation\")\n",
    "    # Remove spaces and lower case letters\n",
    "    s1 = s1.replace(' ', '').lower()\n",
    "    s2 = s2.replace(' ', '').lower()\n",
    "\n",
    "    return sorted(s1) == sorted(s2)\n",
    "\n"
   ]
  },
  {
   "cell_type": "code",
   "execution_count": 7,
   "metadata": {},
   "outputs": [
    {
     "name": "stdout",
     "output_type": "stream",
     "text": [
      "anagram implementation\n"
     ]
    },
    {
     "data": {
      "text/plain": [
       "True"
      ]
     },
     "execution_count": 7,
     "metadata": {},
     "output_type": "execute_result"
    }
   ],
   "source": [
    "anagram('dog','god')\n"
   ]
  },
  {
   "cell_type": "code",
   "execution_count": 8,
   "metadata": {},
   "outputs": [
    {
     "name": "stdout",
     "output_type": "stream",
     "text": [
      "anagram implementation\n"
     ]
    },
    {
     "data": {
      "text/plain": [
       "False"
      ]
     },
     "execution_count": 8,
     "metadata": {},
     "output_type": "execute_result"
    }
   ],
   "source": [
    "anagram('aa1', 'as3')"
   ]
  },
  {
   "cell_type": "markdown",
   "metadata": {},
   "source": [
    "Note: Now the above sorting approach is simple, but is actually not optimal and in an interview setting you would probably be asked to implement a more manual solution involving just counting the number of letters in each string to test your ability to unserstand hash tables. Let's build out a fuller solution using counting and python dictionaries."
   ]
  },
  {
   "cell_type": "code",
   "execution_count": 13,
   "metadata": {},
   "outputs": [],
   "source": [
    "def anagram2(s1, s2):\n",
    "    print (\"Anagram2 implementation using dictionary\")\n",
    "    # Remove spaces and lowercase letters\n",
    "    s1 = s1.replace(' ', '').lower()\n",
    "    s2 = s2.replace(' ', '').lower()\n",
    "\n",
    "    # Edge case to check if same number of letters\n",
    "\n",
    "    if len(s1) != len(s2):\n",
    "        return False\n",
    "    \n",
    "    # Create counting dictionary (Note could use default dict from collections)\n",
    "    count = {}\n",
    "\n",
    "    # Fill dictionary for first string (add count)\n",
    "    for letter in s1:\n",
    "        if letter in count:\n",
    "            count[letter] += 1\n",
    "        else:\n",
    "            count[letter] = 1\n",
    "    \n",
    "    # Fill dictionary for second string (substract counts)\n",
    "    for letter in s2:\n",
    "        if letter in count:\n",
    "            count[letter] -= 1\n",
    "        else:\n",
    "            count[letter] = 1\n",
    "    \n",
    "    # Check that all counts are zero\n",
    "\n",
    "    for k in count:\n",
    "        if count[k] != 0:\n",
    "            return False\n",
    "        \n",
    "    # Otherwise they're anagrams\n",
    "\n",
    "    return True\n"
   ]
  },
  {
   "cell_type": "code",
   "execution_count": 14,
   "metadata": {},
   "outputs": [
    {
     "name": "stdout",
     "output_type": "stream",
     "text": [
      "Anagram2 implementation using dictionary\n"
     ]
    },
    {
     "data": {
      "text/plain": [
       "True"
      ]
     },
     "execution_count": 14,
     "metadata": {},
     "output_type": "execute_result"
    }
   ],
   "source": [
    "anagram2('dog', 'god')"
   ]
  },
  {
   "cell_type": "markdown",
   "metadata": {},
   "source": [
    "A quick note on the second solution, the use of default dict form the collections module would clean up this code quite a bit, and the final for loop could be built into the second for loop, but in the above implementation every step is very clear.\n",
    "\n",
    "Refer to NOSE Framework in Python:\n",
    "https://www.lambdatest.com/blog/selenium-python-nose-tutorial/\n",
    "\n",
    "Introduction to NOSE FRAMEWORK:\n",
    "- Nose is a popular test automation framework in python that extends unittest to make testing easier.\n",
    "- The other advantage of using the nose framework are enablement of auto discovery of test cases and documentaiton collection.\n"
   ]
  },
  {
   "cell_type": "code",
   "execution_count": 15,
   "metadata": {},
   "outputs": [
    {
     "ename": "NameError",
     "evalue": "name 'assert_equal' is not defined",
     "output_type": "error",
     "traceback": [
      "\u001b[0;31m---------------------------------------------------------------------------\u001b[0m",
      "\u001b[0;31mNameError\u001b[0m                                 Traceback (most recent call last)",
      "Cell \u001b[0;32mIn[15], line 16\u001b[0m\n\u001b[1;32m     14\u001b[0m \u001b[38;5;66;03m# Run Tests\u001b[39;00m\n\u001b[1;32m     15\u001b[0m t \u001b[38;5;241m=\u001b[39m AnagramTest()\n\u001b[0;32m---> 16\u001b[0m \u001b[43mt\u001b[49m\u001b[38;5;241;43m.\u001b[39;49m\u001b[43mtest\u001b[49m\u001b[43m(\u001b[49m\u001b[43managram2\u001b[49m\u001b[43m)\u001b[49m\n",
      "Cell \u001b[0;32mIn[15], line 7\u001b[0m, in \u001b[0;36mAnagramTest.test\u001b[0;34m(self, sol)\u001b[0m\n\u001b[1;32m      6\u001b[0m \u001b[38;5;28;01mdef\u001b[39;00m \u001b[38;5;21mtest\u001b[39m(\u001b[38;5;28mself\u001b[39m, sol):\n\u001b[0;32m----> 7\u001b[0m     \u001b[43massert_equal\u001b[49m(sol(\u001b[38;5;124m'\u001b[39m\u001b[38;5;124mgo go go\u001b[39m\u001b[38;5;124m'\u001b[39m, \u001b[38;5;124m'\u001b[39m\u001b[38;5;124mgggooo\u001b[39m\u001b[38;5;124m'\u001b[39m), \u001b[38;5;28;01mTrue\u001b[39;00m)\n\u001b[1;32m      8\u001b[0m     assert_equal(sol(\u001b[38;5;124m'\u001b[39m\u001b[38;5;124mabc\u001b[39m\u001b[38;5;124m'\u001b[39m, \u001b[38;5;124m'\u001b[39m\u001b[38;5;124mcba\u001b[39m\u001b[38;5;124m'\u001b[39m), \u001b[38;5;28;01mTrue\u001b[39;00m)\n\u001b[1;32m      9\u001b[0m     assert_equal(sol(\u001b[38;5;124m'\u001b[39m\u001b[38;5;124mhare krsna\u001b[39m\u001b[38;5;124m'\u001b[39m, \u001b[38;5;124m'\u001b[39m\u001b[38;5;124mhare    krsna\u001b[39m\u001b[38;5;124m'\u001b[39m), \u001b[38;5;28;01mTrue\u001b[39;00m)\n",
      "\u001b[0;31mNameError\u001b[0m: name 'assert_equal' is not defined"
     ]
    }
   ],
   "source": [
    "\"\"\"\n",
    "Run this cell to test your solution\n",
    "\"\"\"\n",
    "\n",
    "from nost.tools import assert_equal\n",
    "\n",
    "class AnagramTest(object):\n",
    "    \n",
    "    def test(self, sol):\n",
    "        assert_equal(sol('go go go', 'gggooo'), True)\n",
    "        assert_equal(sol('abc', 'cba'), True)\n",
    "        assert_equal(sol('hare krsna', 'hare    krsna'), True)\n",
    "        assert_equal(sol('123', '1    3'), True)\n",
    "        print(\"ALL TEST CASES PASSED\")\n",
    "\n",
    "\n",
    "# Run Tests\n",
    "t = AnagramTest()\n",
    "t.test(anagram2)\n",
    "\n"
   ]
  }
 ],
 "metadata": {
  "kernelspec": {
   "display_name": "Python 3",
   "language": "python",
   "name": "python3"
  },
  "language_info": {
   "codemirror_mode": {
    "name": "ipython",
    "version": 3
   },
   "file_extension": ".py",
   "mimetype": "text/x-python",
   "name": "python",
   "nbconvert_exporter": "python",
   "pygments_lexer": "ipython3",
   "version": "3.8.10"
  }
 },
 "nbformat": 4,
 "nbformat_minor": 2
}
