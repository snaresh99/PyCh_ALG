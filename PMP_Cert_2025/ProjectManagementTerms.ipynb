{
 "cells": [
  {
   "cell_type": "markdown",
   "metadata": {},
   "source": [
    "# What is a project:\n",
    "* A temporary endeavor that produces a unique product, service, or result.\n",
    "- A temporary endeavor that produces a unique product, service, or result.\n",
    "- Temporary in natue and has a definite beginning and ending\n",
    "- Temporary in nature and has a definite beginning and ending.\n",
    "- can be part of a large program or portfolio:\n",
    "Terms: Unique, Temporary, progressively elaborated.\n",
    "\n",
    "# What is project management?\n",
    "- Project management is the application of knowledge, skills, tools, and techniques to satisfy project requirements.\n",
    "- Project management is the application of knowledge, skills, tools, and techniques to satisfy project requireements.\n",
    "\n",
    "* Preparing a business case to justify the investment.\n",
    "* estimating resources and times\n",
    "* Developing and implementing a management plan for the project\n",
    "* leading and motivating the project delivery team.\n",
    "* Managing the risks, issues, and changes on the project.\n",
    "monitoring progress against plan\n",
    "closing the project in a controlled fashion when appropriate.\n",
    "\n",
    "* monitoring progress against plan\n",
    "* closing the project in a controlled fashion when appropriate.\n",
    "\n",
    "\n",
    "# Program Management\n",
    "* Group of related projects managed in a co-ordinated way to obtain benefits and control not available from managing them individually.\n",
    "* Must be some value add in managing them together as a program.\n",
    "* Must be some value add in managing them together as a program.\n",
    "* A project may or may not be part of a program, but a program will always have projects.\n",
    "* A project may or may not be part of a program, but a program will always have projects.\n",
    "* Focuses on the project interdependencies and helps to determine the optimal approach for managing them. \n",
    "* Focuses on the project interdependencies and helps to determine the optimal approach for managing them.\n",
    "\n",
    "\n",
    "* "
   ]
  }
 ],
 "metadata": {
  "language_info": {
   "name": "python"
  }
 },
 "nbformat": 4,
 "nbformat_minor": 2
}
