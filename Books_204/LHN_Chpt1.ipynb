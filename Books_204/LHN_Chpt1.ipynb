{
 "cells": [
  {
   "cell_type": "markdown",
   "metadata": {},
   "source": [
    "Introduction from 48 Laws of humman nature:\n",
    "1. Common misconception: We tend to think of our behavir as largely conscious and willed.\n",
    "2. To imagine that we are not always in control of what we do is frightening thought, but in fact it is the reality.\n",
    "3. We are subject to forces from deep within us that drive our behavior and that operate below the level of our awareness. We see the results - our thoughts moods, and actions- but have little Conscious access to what actually moves our emotions and compesl us to behave in certain ways.\n",
    "4. Look at my anger: We  usually identify an individual or a group as the cause of this emotions and comples us to behave in certain ways.\n",
    "5. But if we are hones and dug down deeper, we would see that what often triggers oru anger or frustration has deeper roots.- It could be deeper in our childhood or some particular set of circumstances that triggers the emotion.\n",
    "6. We can discern distinct patters if we look- when this or that happens, we get angry. But in the moment that we feel anger, we are not reflective or rational we merely ride the emotion and and point fingers.\n",
    "\n",
    "# We could saysomething similar about a whole slew of emotions that we feel specific types of events trigger sudden confidence, or insecurity or anxiety or attraction to a particular person or hunger for attention.\n",
    "\n",
    "1. Let us call the collection of these forces that push and pull us from deep within human nature. Human natue steps from the particular wiring of our brains, the configuration of our nervous system, and the way we humans process emotions, all of which developed and emerged over the course of the five million yearss or so of our evolution as a species.\n",
    "\n",
    "2. Survival, learning to cooperate withothers, coordinating our actions with the group on a high leve.\n",
    "- coordinating our actions with the group on a high levelcreating novel forms of communicaiton and ways of maintaining group discipline.\n",
    "- Creating novel forms of communication and ways of maintaining group discipliine.\n",
    "\n",
    "# To take one example, look at the evolution of human emotion. The survival of our earliest ancestors depend on their ability to communicate with one another well before the invention of language.\n",
    "\n",
    "* the signs of these emotions cold be read immediately on their faces, communicating their moods quickly and effectively.\n",
    "* They become extremely permeable to the emotions of others as a way to bind the group more tightly together- to feel joy or grief as one or to remain united in the face of danger.\n",
    "\n",
    "# To this day, we humans remain highly suscptible to the moods nad emotions of those around us, compelling all kinds of behavior on our part- Unconsciously immitating others, wanting what they have, getting swetp up in a viral feelings of anger or outrage. \n",
    "\n",
    "# This book is an attempt to gather together this immense store house of knwoledge and ideas from different branches to piece togher an accurate and instructive guide to human nature, basing itself on the evidence , not on particular view points or moral judgments. It is brutally realistic appraisal of our species dissectiing who we so we can operate with more awareness.\n",
    "\n",
    "Page 16:\n",
    "The laws of humman natrure is designed to immerse you in all aspectes of human behavior and illuminate its root causes. If you let it guide you, it will radically alter how you perdeive people and your entire approach to dealing with them. It will also radically change how you see yourself. It will accomplish these shifts in perspective in following ways:\n",
    "\n",
    "# First the laws will work to tranform you in to a calmer and more strategic observer of people, helping to free you from all the emotional dram that needlessly drains you.\n",
    "\n",
    "a. Being around people stirs up our anxieties and insecurities as to how others perceive us. Once we feel such emotions, it becomes very hard to observepeople as we are drawn into our own feelings, evaluating what people say and do in personal terms.  Do they like me or dislike me.\n",
    "\n",
    "# The laws will help you avoid falling into this trap by revealing that people are generally dealing with emotions and issues that thave deep roots.\n",
    "- They are experiencing some desires and dissappointment that predate you by years and decades.\n",
    "- you cross their path at a particular moment and become the convenient target of their anger or frustration.\n",
    "\n",
    "# The book will teak yo to stop taking personally their insinuating comments, shows of coldnes, or mements of irritation. The more you grasp this, the easier it will be to react not with your emotions but rather with the desire to understand where their behavior might come from.\n",
    "\n",
    "# you will feel much calmer in the process. And as this takes root in you, you will be less prone to moralize and judge people. instead you will accept them and their flaws as part of human nature. \n",
    "\n",
    "People will like you all the more as they sense this tolerant attitude in you.\n",
    "\n",
    "3 Seconod, the laws will make you a master interpreter of the cues that people continually emit, giving yoiu a much greater ability to judge their character.\n",
    "\n",
    "\n",
    "\n"
   ]
  }
 ],
 "metadata": {
  "language_info": {
   "name": "python"
  }
 },
 "nbformat": 4,
 "nbformat_minor": 2
}
