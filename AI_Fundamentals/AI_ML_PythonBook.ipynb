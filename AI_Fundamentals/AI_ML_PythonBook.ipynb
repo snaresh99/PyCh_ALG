{
 "cells": [
  {
   "cell_type": "markdown",
   "metadata": {},
   "source": [
    "# AI - Introduction\n",
    "* All of the complex real world applications and AI solves these fundamental principles that can be used bo tuild such applications.\n",
    "\n",
    "# The goal is to enable me to take up new and challenging AI problems that i might encounter in your everyday life.\n",
    "\n",
    "a. The following list of items:\n",
    "1. what is ai and why do we need to study it?\n",
    "2. what are some common applications of AI?\n",
    "3. a classification of AI branches?\n",
    "4. the five tribes of machine learning?\n",
    "5. what is the turning test?\n",
    "6. what is rational agents?\n",
    "7. What are general problem solvers?\n",
    "8. how to build an intelligent agent?\n",
    "9. how to instal python 3 and related packages.\n",
    "\n",
    "Definition of AI:\n",
    "- The area of computer science that studies how machines can perform tasks that would normally require a sentinent agent.\n",
    "- it could be argued from such a definition that something as simple as a computer multiplying two numbers  is artificial intelligence? This is because, we have designed a machine capable of taking an input and independently producing a logical output that usually would require a living entity to process.\n",
    "\n",
    "\n",
    "# Why do we need to study AI?\n",
    "* The field of AI tries to understand pattersn and behaviors of entities\n",
    "* With AI we want to build smart systems and undertand the concept of intelligence as well. \n",
    "\n",
    "\n",
    "\n",
    "\n"
   ]
  },
  {
   "cell_type": "markdown",
   "metadata": {},
   "source": [
    "# Conversion of data to intelligence\n",
    "Data ------------> When processed ------> Information\n",
    "Information --------> When cognition -----------> knowledge\n",
    "Knowledge -----> Pattern extraction -----> understanding -----> inference ------> Intelligence.\n",
    "\n",
    "\n",
    "* Cognition is a term for the mental processes that take place in the brain, including thinking, attention, language, learning, memory and preception.\n",
    "\n",
    "* These processes are not discrete abilities - they are a raft of different, interacting skills which together allow us to function as healthy adults.\n",
    "\n",
    "* Cognition is a term for the mental processes that take place in the brain, including thinking, attention, language, learning, memory and perception.\n"
   ]
  }
 ],
 "metadata": {
  "language_info": {
   "name": "python"
  }
 },
 "nbformat": 4,
 "nbformat_minor": 2
}
