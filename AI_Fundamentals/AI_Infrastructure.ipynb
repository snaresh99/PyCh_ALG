{
 "cells": [
  {
   "cell_type": "markdown",
   "metadata": {},
   "source": [
    "# Compute Platforms for AI\n",
    "\n",
    "1. Data Center Platforms\n",
    "2. GPUs and CPUs for AI data center\n",
    "3. Multi- GPU systems.\n",
    "4. Introducing DPUs.\n",
    "5. NVIDIA Certified Systems.\n",
    "\n",
    "\n",
    "Objectives:\n",
    "++++++++++\n",
    "1. Iddicate the key components and features of the NVIDIA data center platform.\n",
    "2. Identify the GPU and CPU requireiments for AI data centers, the different products available, and their intended use cases.\n",
    "3. Understand the purpose and capabilities of multi GPU systems, describe the multi node GPU interconnect technology.\n",
    "4. Describe the multi node GPU interconnect technology.\n",
    "\n",
    "# NVIDIA data center platform and review some considerations and requirements for building compute platforms for AI.\n",
    "* Modern data centers are key to solving some of the worlds most important scientific, industrial, and big data challenges using high performance computing and AI.\n",
    "* Accelerated computing is often referred to as a full stack challenges because it involves optimizing and integrating various components across multiple layers of the technology stack to achieve optimal performance for specialized workloads.\n",
    "* Furthermore, accelerated computing represents a data center scale issue.\n",
    "* As the modern data center essentially serves as the computer applications span the entire data center making it crucial to optimize all the diverse components within it.\n",
    "\n",
    "\n",
    "\n",
    "\n"
   ]
  }
 ],
 "metadata": {
  "language_info": {
   "name": "python"
  }
 },
 "nbformat": 4,
 "nbformat_minor": 2
}
