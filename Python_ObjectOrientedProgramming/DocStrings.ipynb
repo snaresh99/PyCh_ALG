{
 "cells": [
  {
   "cell_type": "markdown",
   "metadata": {},
   "source": [
    "# Explaining yourself.\n",
    "\n",
    "* Python is an extremely easy to read programming language; some might say it is self documenting.\n",
    "\n",
    "* However, when doing object oriented programming, it is important to write API documentation that clearly summarizes what each object and method does.\n",
    "\n",
    "* Keeping documentation up to date is difficult; the best way to do it is to write it right into our code.\n",
    "\n",
    "- Python supports this through the use of docstrings.\n",
    "- Each class, functiono, or method header can have a standard python string as the first line following definition (the line that ends in a colon). \n",
    "- This line should be indented the same as the following code\n",
    "- Doc strings are simply python strings enclosed with apostrophe (') or quote(\") characters.\n",
    "- Oftne, docstrings are quite long and span multiple lines ( the style guide suggests that the line length should not exceed 80 characters.), which can be formatted as multi line stings, enclised in matching triple apostrophe or triple quote (\"\"\") characters.\n",
    "\n"
   ]
  }
 ],
 "metadata": {
  "language_info": {
   "name": "python"
  }
 },
 "nbformat": 4,
 "nbformat_minor": 2
}
