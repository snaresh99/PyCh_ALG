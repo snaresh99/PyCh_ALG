{
 "cells": [
  {
   "cell_type": "markdown",
   "metadata": {},
   "source": [
    "# constructor\n",
    "Most object oriented programming languages have the concept of constructor, a special method that creates and initializes the object when it is created.\n",
    "\n",
    "# Python is little differnet it has a constructor and an initializer.\n",
    "\n",
    "# Constructor function is rarely used and unless you are doing something exotic. So, we'll start our discussion with the initialization method.\n",
    "\n",
    "Python initialization method is the same as any other method, except it has a special name, __init__.\n",
    "\n",
    "# The leading and trailing double underscores mean this is a special method that the python interpreter will treat as a special case.\n",
    "\n"
   ]
  },
  {
   "cell_type": "code",
   "execution_count": 2,
   "metadata": {},
   "outputs": [
    {
     "name": "stdout",
     "output_type": "stream",
     "text": [
      "4 5\n"
     ]
    }
   ],
   "source": [
    "class Point:\n",
    "    def __init__(self, x, y):\n",
    "        self.move(x,y)\n",
    "    \n",
    "    def move(self, x, y):\n",
    "        self.x = x\n",
    "        self.y = y\n",
    "    \n",
    "    def reset(self):\n",
    "        self.move(0,0)\n",
    "\n",
    "\n",
    "if __name__ == \"__main__\":\n",
    "    point = Point(4,5)\n",
    "    print(point.x, point.y)\n",
    "\n",
    "\n"
   ]
  },
  {
   "cell_type": "markdown",
   "metadata": {},
   "source": [
    "The above Point class can oever go without a y co-ordinate! if we try to construct a point without including the proper initialization parameters, it will fial with anot enough arguments.\n",
    "\n",
    "# What if we don't want to make those two arguments required? Well, then we can use the same syntax python functions use to provide default arguments. The keyword argument syntax appends an equals sign after each variable name. \n",
    "\n",
    "# if the calling argument does not provide this argument, then the default argument is used instead.\n",
    "\n",
    "class Point:\n",
    "    def __init__(self, x=0, y=0):\n",
    "        self.move(x,y)\n",
    "\n"
   ]
  },
  {
   "cell_type": "markdown",
   "metadata": {},
   "source": [
    "# The constructor function is called __new__ as opposed to __init__\n",
    "\n",
    "The constructor function is called __new__ as poosed to  __init__, and accepts eactly one argument;\n",
    "\n",
    "* the class that is being constructed ( it is called before the object is contsturcted, so there is no self argument). \n",
    "\n",
    "* It also has to return the newly created object.\n",
    "\n",
    "* This has interesting possiblities when it comes to the complicated art of metaprogramming, but is not very useflu in day to day programming. \n",
    "* In practice, you will rarely, if ever, need to use __new__ and __init__ will be sufficient.\n",
    "\n"
   ]
  }
 ],
 "metadata": {
  "kernelspec": {
   "display_name": "Python 3",
   "language": "python",
   "name": "python3"
  },
  "language_info": {
   "codemirror_mode": {
    "name": "ipython",
    "version": 3
   },
   "file_extension": ".py",
   "mimetype": "text/x-python",
   "name": "python",
   "nbconvert_exporter": "python",
   "pygments_lexer": "ipython3",
   "version": "3.8.10"
  }
 },
 "nbformat": 4,
 "nbformat_minor": 2
}
