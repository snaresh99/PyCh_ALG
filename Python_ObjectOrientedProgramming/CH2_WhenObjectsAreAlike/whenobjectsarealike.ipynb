{
 "cells": [
  {
   "cell_type": "markdown",
   "metadata": {},
   "source": [
    "# When objects are alike\n",
    "* In programming world, duplicate code is considered evil. we should not have multiple copies of the same, or similar, code in different places.\n",
    "* When we fix a bug in one copy and fial to fix the same bug in another copy, we've caused no end o fthe problesm for ourselves.\n",
    "* Ther are many ways to merge pieces of code or objects that have a similar functionality \n",
    "\n",
    "# Inheritance\n",
    "Inheritance allows ust ot create \"is-a\" relationships between two or more classes, abstracting common logic into superclasses and extending the superclass with specific details in each subclass.\n",
    "\n",
    "- In particular, we'll be covering the Python syntax and principles for the following:\n",
    "* Basic Inheritance\n",
    "* Inherting from built in types.\n",
    "* multiple inheritance\n",
    "* Polymorphism and duck typing.\n",
    "\n",
    "# Basic Inheritance\n",
    "\n",
    "* Technically, every class we create uses inheritance. All Python classes are subclasses of the special built-in class named object.\n",
    "* This class provides a little bit of metadata and few built in behaviors so python can treat all objects consistently.\n",
    "\n",
    "* All python classes are subclasses of the special built in class named object.\n",
    "This class provides a little bit of metadata and a few built in behaviors so python can treat all objects consistently.\n",
    "- If we don't explicitly inherit form a different class, our classes will automatically inherit from object.. However, we can redundantly state that our class devrives from object using the following syntax.\n",
    "\n",
    "\n",
    "\n",
    "\n"
   ]
  },
  {
   "cell_type": "code",
   "execution_count": null,
   "metadata": {},
   "outputs": [],
   "source": [
    "class MySubClass(object):\n",
    "    pass"
   ]
  },
  {
   "cell_type": "markdown",
   "metadata": {},
   "source": [
    "* This is inheritance!\n",
    "* This example is, technically, no different from our first example in chapter 2, objects in Python. In Python 3, all classes automatically inherit from object \n",
    "if we don't explicitly provide a different super class.\n",
    "\n",
    "In python 3, all classes automatically inherit from object if we don't explicitly provide a different superclass.\n",
    "The superclasses or parent classes, in the relationship are the classes that are being inherited from, object in this example.\n",
    "A subclass - my subclass, in this example -  inherits from a superclass. A subclass is also said to be derived from its parent class, or the subclass extends the parent class.\n",
    "\n",
    "As you've probably figured out from the example, inheritance requires a minimal amount of extra syntax over a basic class definition. Simply include the name of the parent class inside parantheses between the class name and the colon that follows.\n",
    "\n",
    "This is all we have to do to tell python that the new class should be derived from the given superclass.\n",
    "\n",
    "How do we apply inheritance in practice? the simplest and most obvious use of inheritance is to add functionality to an existing class. Let's start with a contact manager that tracks the name and email address of several people.\n",
    "inheritance: To add functionality to an existing class\n",
    "- Let's start witha contact manager that tracks the names and email addresses of several people. The contact class is responsible for maintaining a global list of all contacts ever seen in a class variable, and for initializing the name and address for an individual contact.\n",
    "\n"
   ]
  },
  {
   "cell_type": "code",
   "execution_count": 2,
   "metadata": {},
   "outputs": [
    {
     "name": "stdout",
     "output_type": "stream",
     "text": [
      "[Contact('KCON Krsna', 'krsna.KCON.com'), Contact('KCON Chaitanya', 'Chaitanya.KCON.com'), Supplier('Narayana', 'Narayanas@KCON.com')]\n"
     ]
    }
   ],
   "source": [
    "from typing import List\n",
    "\n",
    "class Contact:\n",
    "    all_contacts: List[\"Contact\"] = []\n",
    "\n",
    "    def __init__(self, name:str, email:str) -> None:\n",
    "        self.name = name\n",
    "        self.email = email\n",
    "        Contact.all_contacts.append(self)\n",
    "\n",
    "    def __repr__(self) -> str:\n",
    "        return(\n",
    "            f\"{self.__class__.__name__}(\"\n",
    "                f\"{self.name!r}, {self.email!r}\"\n",
    "                f\")\"\n",
    "            )\n",
    "\n",
    "\"\"\"\n",
    "This example introduces us to class variables. The all_contancts list, because it is part of the class definition is shared by all instances of this class.\n",
    "\n",
    "the all_contacts list, because it is part of the class defintion, is shared by all instances of this class. \n",
    "\n",
    "* This means that there is only one contact.all_contacts list. We can also access it as self.all_contacts from within any method on an \n",
    "instance of the contact class.\n",
    "\n",
    "1. all_contacts is the name of the variable.\n",
    "2. it will store the collection of contact objects. The variable is meant to hold a list of contacts.\n",
    "3. List[Contact] - \n",
    "- This is a type hint that tells us the expected type of the variable. In this case:\n",
    "* List is a generic type from Python's typing module, which indicates that the variable should be a list (a sequence of items)\n",
    "* [Contact] means that the list will specifically contain elements of type Contact. Contact is typically a class or data structure that is used to represent \n",
    "a contact. Contact is typically a class or data structure that is used to represent a contact, but it could be defined elesewhere in the code. \n",
    "For example, contact miht be a class with attributes like name, phone_number, email etc.\n",
    "\n",
    "so, List[Contact] is saying that all_contacts should be a list where each item is an instance of the Contact class.\n",
    "4. =[] this part initializes the variable all_contacts with an empty list. In other words, when the code runs, all_contacts starts an empty list ([]), and you can later\n",
    "append contact objects to this list.append\n",
    "\n",
    "Full Exmplanation: \n",
    "all_contacts: List[Contact] = [] defines the variable all_contacts with the following characteristics.\n",
    "* It is expected to be a list\n",
    "* The list is specifically for holding Contact Objects.\n",
    "* It is initially set to an empty list.\n",
    "\n",
    "Note: Be careful with the self-based inheritance. It can only provide access to an existing class-based variable. If you ever attempt to set the variable\n",
    "using self.all)contacts, you will actually be creating a new instance variable associated just with that object.mro\n",
    "\n",
    "* The class variable will be unchanged and accessible as Contact.all_contacts.\n",
    "\n",
    "\n",
    "\n",
    "\"\"\"\n",
    "# Supplier class\n",
    "class Supplier(Contact):\n",
    "    def order(self, order: \"Order\") -> None:\n",
    "        print(\n",
    "            \"if this were a real system we would send\"\n",
    "            f\"'{order}' order to '{self.name}'\"\n",
    "\n",
    "        )\n",
    "if __name__ == \"__main__\":\n",
    "    c_1 = Contact(\"KCON Krsna\", \"krsna.KCON.com\")\n",
    "    c_2 = Contact(\"KCON Chaitanya\", \"Chaitanya.KCON.com\")\n",
    "    s = Supplier(\"Narayana\", \"Narayanas@KCON.com\")\n",
    "    print(Contact.all_contacts)\n"
   ]
  },
  {
   "cell_type": "markdown",
   "metadata": {},
   "source": [
    "# Class Variable\n",
    "We created two instances of the contact class and assigned them to variables c_1 and c_2. When we looked at the contact. all_contacts class variable, we saw that the list has been updated to track the two objects.\n",
    "\n",
    "Thisis a simple class that allows us to track a couple of pieces of data about each contact. But, if some of our contacts are also suppliers that we need to order supplies from? we could add an order method to the Contact class, but that would allow poeple to accidentally order things from contacts who are customers or family friends. Instead, let's create a new supplier class that acts like our contact class, but has an additional order method that accepts a yet to be defined order object.\n",
    "\n",
    "Notes:\n",
    "- our supplier class can do everything a contact can do (including adding itself to the list of Contact.All_contacts) and all the special things it needs to handle as a supplier.\n",
    "- This is the beauty of inheritance.\n",
    "- also, note that Contact.all_contacts has collected every instance of the contact class as well as the subclass, supplier. If we used self.all_contacts, then this would not collect all objects in to the contact class, but would put supplier instances into supplier.all_contacts.\n",
    "\n",
    "# Extending built - ins\n",
    "* One interesting use of this kind of inheritance is adding functionality to built in classes. In the contact class seen earlier, we are adding contacts to a list of all contacts.\n",
    "* What if we also wanted to search that list by name?\n",
    "* well we could add a method on the contact class to search it, but it feels like this method actually belongs to the list itself.\n",
    "\n",
    "\n"
   ]
  },
  {
   "cell_type": "markdown",
   "metadata": {},
   "source": [
    "# What does !r meaning \n",
    "n Python, self.name!r is an expression that involves formatted string literals (also known as f-strings) and the !r conversion flag. Let's break it down:\n",
    "\n",
    "1. self.name\n",
    "self refers to the current instance of the class.\n",
    "name is an attribute of the instance, which presumably stores a value (like a string) that represents a name.\n",
    "So, self.name accesses the name attribute of the instance.\n",
    "\n",
    "2. !r (The !r Conversion Flag)\n",
    "The !r is used within an f-string to convert the value to its official string representation (using the repr() function). The repr() function returns a string that provides a more \"formal\" or \"developer-friendly\" representation of an object, often including special characters or quotation marks around strings.\n",
    "\n",
    "For a string self.name, using !r will call repr(self.name), which typically adds quotes around the string.\n",
    "\n",
    "If self.name is \"Alice\", repr(self.name) would return \"'Alice'\" (with single quotes around the string).\n",
    "Example:\n",
    "python\n",
    "Copy code\n",
    "class Person:\n",
    "    def __init__(self, name):\n",
    "        self.name = name\n",
    "\n",
    "    def __repr__(self):\n",
    "        return f\"Person(name={self.name!r})\"\n",
    "\n",
    "# Create a Person object\n",
    "person = Person(\"Alice\")\n",
    "\n",
    "# Print the object\n",
    "print(person)  # Output: Person(name='Alice')\n",
    "Detailed Breakdown:\n",
    "self.name: Accesses the name attribute of the Person instance.\n",
    "!r: Calls repr(self.name), which returns the official string representation of self.name, adding quotes around it.\n",
    "Output of !r:\n",
    "If self.name = \"Alice\", then self.name!r results in \"'Alice'\" (a string with quotes around it).\n",
    "This is useful for debugging or when you want to show the \"raw\" form of a value, particularly when dealing with strings or complex objects.\n",
    "When to Use !r:\n",
    "You would typically use !r when:\n",
    "\n",
    "You want to ensure that the string representation includes quotes (e.g., when logging or debugging).\n",
    "You want to use the repr() representation of an object, especially for debugging or logging purposes.\n",
    "Summary:\n",
    "self.name!r formats self.name using repr(), which provides a more \"formal\" string representation, often with quotes."
   ]
  },
  {
   "cell_type": "code",
   "execution_count": 4,
   "metadata": {},
   "outputs": [
    {
     "ename": "TypeError",
     "evalue": "'type' object is not subscriptable",
     "output_type": "error",
     "traceback": [
      "\u001b[0;31m---------------------------------------------------------------------------\u001b[0m",
      "\u001b[0;31mTypeError\u001b[0m                                 Traceback (most recent call last)",
      "Cell \u001b[0;32mIn[4], line 12\u001b[0m\n\u001b[1;32m      2\u001b[0m \u001b[38;5;124;03m\"\"\"\u001b[39;00m\n\u001b[1;32m      3\u001b[0m \u001b[38;5;124;03mOne interesting use of this kind of inheritance is adding functionality to built-in classes. \u001b[39;00m\n\u001b[1;32m      4\u001b[0m \u001b[38;5;124;03mIn the contact class seen earlier, we are adding contacts to a list of all contacts. What if we also wanted to search that list by name?\u001b[39;00m\n\u001b[0;32m   (...)\u001b[0m\n\u001b[1;32m      7\u001b[0m \n\u001b[1;32m      8\u001b[0m \u001b[38;5;124;03m\"\"\"\u001b[39;00m\n\u001b[1;32m     10\u001b[0m \u001b[38;5;28;01mfrom\u001b[39;00m \u001b[38;5;21;01m__future__\u001b[39;00m \u001b[38;5;28;01mimport\u001b[39;00m annotations\n\u001b[0;32m---> 12\u001b[0m \u001b[38;5;28;01mclass\u001b[39;00m \u001b[38;5;21;01mContactList\u001b[39;00m(\u001b[38;5;28;43mlist\u001b[39;49m\u001b[43m[\u001b[49m\u001b[38;5;124;43m\"\u001b[39;49m\u001b[38;5;124;43mContact\u001b[39;49m\u001b[38;5;124;43m\"\u001b[39;49m\u001b[43m]\u001b[49m):\n\u001b[1;32m     13\u001b[0m     \u001b[38;5;28;01mdef\u001b[39;00m \u001b[38;5;21msearch\u001b[39m(\u001b[38;5;28mself\u001b[39m, name:\u001b[38;5;28mstr\u001b[39m) \u001b[38;5;241m-\u001b[39m\u001b[38;5;241m>\u001b[39m \u001b[38;5;28mlist\u001b[39m[\u001b[38;5;124m\"\u001b[39m\u001b[38;5;124mContact\u001b[39m\u001b[38;5;124m\"\u001b[39m]:\n\u001b[1;32m     14\u001b[0m         matching_contacts: \u001b[38;5;28mlist\u001b[39m[\u001b[38;5;124m\"\u001b[39m\u001b[38;5;124mContact\u001b[39m\u001b[38;5;124m\"\u001b[39m] \u001b[38;5;241m=\u001b[39m []\n",
      "\u001b[0;31mTypeError\u001b[0m: 'type' object is not subscriptable"
     ]
    }
   ],
   "source": [
    "# Extending Built-Ins\n",
    "\"\"\"\n",
    "One interesting use of this kind of inheritance is adding functionality to built-in classes. \n",
    "In the contact class seen earlier, we are adding contacts to a list of all contacts. What if we also wanted to search that list by name?\n",
    "\n",
    "We need to import annotations module from __future__package\n",
    "\n",
    "\"\"\"\n",
    "\n",
    "from __future__ import annotations\n",
    "\n",
    "class ContactList(list[\"Contact\"]):\n",
    "    def search(self, name:str) -> list[\"Contact\"]:\n",
    "        matching_contacts: list[\"Contact\"] = []\n",
    "        for contact in self:\n",
    "            if name in contact.name:\n",
    "                matching_contacts.append(contact)\n",
    "        return matching_contacts\n",
    "    \n",
    "class Contact:\n",
    "    all_contacts = ContactList()\n",
    "\n",
    "    def __init__(self, name:str, email:str) -> None:\n",
    "        self.name = name\n",
    "        self.email = email\n",
    "        Contact.all_contacts.append(self)\n",
    "\n",
    "    def __repr__(self) -> str:\n",
    "        return (\n",
    "            f\"{self.__class__.__name__}(\"\n",
    "            f\"{self.name!r}, {self.email!r}\" f\")\"\n",
    "        )\n",
    "    \n",
    "if __name__ == \"__main__\":\n",
    "    c1 = Contact(\"Hare\", \"Hare@KCON.com\")\n",
    "    c2 = Contact(\"Narayana\", \"Narayana@KCON.com\")\n",
    "    c3 = Contact(\"Naresh\", \"Naresh@KCON.com\")\n",
    "    print([c.name for c in Contact.all_contacts.search('Nar')])\n",
    "    \n",
    "\n"
   ]
  },
  {
   "cell_type": "markdown",
   "metadata": {},
   "source": [
    "* We have two ways to create generic list objects. With type hints, we have another way of talking about lists, separate from actual list instances\n",
    "* first, creating a list with [] is actually a shortcut for creating alist using list()\n",
    "\n",
    "The [] is short and sweet, we can call it as syntatic sugar; it is a call to the list () constructor, written with two characters instead of six. The list name refers to data type it is a class that we can extend.\n",
    "\n",
    "* Because, we provided the contact class definition after the definition of the contactList  class, we had to provide the refernce to a not yet defined class as a string, list[\"Contact\"]. \n",
    "\n",
    "* It's often more common to provide the individual item class definition first, and the collection can then refer to the defined class by name without using a string.\n",
    "- It is often more common to to provide the individual item class definition first, and the collection can then refer to the defined class by name without using a string.\n",
    "\n",
    "As a second example, we can extend the dict class, which is a collection of keys and their associated values. We can create instances of dictionaries using the {} syntax sugar.\n",
    "\n",
    "Here is an extended dictionary that tracks the lognest key it has seen.\n",
    "\n",
    "\n"
   ]
  },
  {
   "cell_type": "code",
   "execution_count": 5,
   "metadata": {},
   "outputs": [
    {
     "data": {
      "text/plain": [
       "True"
      ]
     },
     "execution_count": 5,
     "metadata": {},
     "output_type": "execute_result"
    }
   ],
   "source": [
    "[] == list()"
   ]
  },
  {
   "cell_type": "code",
   "execution_count": null,
   "metadata": {},
   "outputs": [],
   "source": [
    "class LongNameDict(dict[str, int]):\n",
    "    def longest_key(self) -> Optional[str]:\n",
    "        \"\"\" In effect, max(self, key=len), but less obscure \"\"\"\n",
    "        longest = None\n",
    "        for key in self:\n",
    "            if longest is None or len(key) > len(longest):\n",
    "                longest = key\n",
    "        return longest\n",
    "    \n",
    "\"\"\" \n",
    "The hint for the class narrowed the generic dict to a more specific dict[str, int]; the keys are of type str and the values are of type int.as_integer_ratio\n",
    "This helps mypy reason about the longest_key() method. Since the keys are supposed to be str-type objects, the statement for key in self: will iterate over str objects.\n",
    "the result will be a str, or possibly none.\n",
    "\n",
    "That's why the result is described as Optional[str]. \n",
    "\"\"\"\n"
   ]
  },
  {
   "cell_type": "markdown",
   "metadata": {},
   "source": [
    "# Overriding and Super\n",
    "\n",
    "So, inheritance is great for adding new behavior to existing classes, but what about changing behavior? our contact class allows only aname and an email address. This may be sufficient for most contacts, but what if we want to add a phone number for our close friends?\n",
    "\n",
    "* There are multiple says of doing this (adding phone number to the contact)\n",
    "- * In order to make this third variable (phone) available on initialization, we have to override the __init__() method.\n",
    "* Overriding means altering or replacinig a method of the superclass with a new method (with the same name) in the subclass. \n",
    "* No special syntax is needed to do this; the subclass's newly created method is automatically called instead of the superclass's method, as shown in the following code\n",
    "\n",
    "\n",
    "See below code snippet for overriding __init__() method\n",
    "\n",
    "* any method can be overridden, not just __init__() . Before we go on, however, we need to address some problems in this example. Our contact and Friend classes have duplicate code to setup the name and email properties; this can make code maintenance complicated, as we have to update the code in two or more places, more alarmingly, our Friend class is neglecting to add itself to the all_contacts list we have created on the Contact class. Finally, looking forward, if we add a features to the Contact class, we'd like it to also be part of the Friend class.\n",
    "\n",
    "* What we really need is a way to execute the original __init__() method on the contact class from inside our new class. This is what the super() function does; it returns the object as it it was actually an instance of the parent class, allowing us to call the parent method directly.\n",
    "\n",
    "# Notes on Super () method\n",
    "\n",
    "A super () call can be made inside any method. Therefore, all methods can be modified via overriding and calls to super(). The call to super() can also be made at any point in the method; we don't have to make the call as the first line. For example, we may need to manipulate or validate incoming parameters before forwarding them to the superclass.\n",
    "\n",
    "\n",
    "\n",
    "\n",
    "\n",
    "\n",
    "\n"
   ]
  },
  {
   "cell_type": "code",
   "execution_count": null,
   "metadata": {},
   "outputs": [],
   "source": [
    "class Friend(Contact):\n",
    "    def __init__(self, name: str, email: str, phone: str) -> None:\n",
    "        self.name = name\n",
    "        self.email = email\n",
    "        self.phone = phone\n",
    "\n"
   ]
  },
  {
   "cell_type": "code",
   "execution_count": null,
   "metadata": {},
   "outputs": [
    {
     "ename": "SyntaxError",
     "evalue": "invalid syntax (4072933018.py, line 1)",
     "output_type": "error",
     "traceback": [
      "\u001b[0;36m  Cell \u001b[0;32mIn[6], line 1\u001b[0;36m\u001b[0m\n\u001b[0;31m    Class Friend(Contact):\u001b[0m\n\u001b[0m          ^\u001b[0m\n\u001b[0;31mSyntaxError\u001b[0m\u001b[0;31m:\u001b[0m invalid syntax\n"
     ]
    }
   ],
   "source": [
    "class Friend(Contact):\n",
    "    def __init__(self, name:str, email:str, phone:str) -> None:\n",
    "        super().__init__(name, email)\n",
    "        self.phone = phone\n",
    "\n",
    "\n",
    "\"\"\"\n",
    "This example first binds the the instance to the parent class using super() and calls __init__() on that object, passing \n",
    "in the expected arguments. It then does its own initialization, namely, setting the phone attribute, which is unique to  the friend class.all_contacts\n",
    "\n",
    "Note: The super() call can be made inside any method. Therefore, all methods can be modified \n",
    "via overriding and calls to super(). \n",
    "* The call to super() can also be made at any point in the method; we don't have to make the casll \n",
    "as the first line.\n",
    "\n",
    "\n",
    "\"\"\"\n"
   ]
  },
  {
   "cell_type": "markdown",
   "metadata": {},
   "source": [
    "# Multiple Inheritance\n",
    "Multiple inheritance is a touchy subject. In principle, it's simple: a subclass that inherits from more than one parent class can access functionality from both of them.\n",
    "\n",
    "In practice, it requires some care to be sure any method overrides are fully understood.\n",
    "\n",
    "- "
   ]
  },
  {
   "cell_type": "markdown",
   "metadata": {},
   "source": [
    "# Multiple Inheritance"
   ]
  }
 ],
 "metadata": {
  "kernelspec": {
   "display_name": "Python 3",
   "language": "python",
   "name": "python3"
  },
  "language_info": {
   "codemirror_mode": {
    "name": "ipython",
    "version": 3
   },
   "file_extension": ".py",
   "mimetype": "text/x-python",
   "name": "python",
   "nbconvert_exporter": "python",
   "pygments_lexer": "ipython3",
   "version": "3.8.10"
  }
 },
 "nbformat": 4,
 "nbformat_minor": 2
}
