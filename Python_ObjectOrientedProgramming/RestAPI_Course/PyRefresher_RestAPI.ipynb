{
 "cells": [
  {
   "cell_type": "code",
   "execution_count": 1,
   "metadata": {},
   "outputs": [],
   "source": [
    "# Destructor or Destructoring Variables\n",
    "\n",
    "x = 5\n",
    "x = (5,11)\n",
    "# the above line is a tuple\n",
    "# brackets are not necessary\n",
    "# brackets are necessary only not to confuse python.\n",
    "\n",
    "y = 5,11 # this is same as x = (5,11)\n",
    "\n",
    "a,b = 5,10\n",
    "# extra benefit - if you have another tuple, then you can say something like below\n",
    "t = 5,6\n",
    "x, y = t\n",
    "\n",
    "# the above line actually represents the de structuring.\n",
    "\n",
    "\n"
   ]
  },
  {
   "cell_type": "code",
   "execution_count": 2,
   "metadata": {},
   "outputs": [
    {
     "ename": "SyntaxError",
     "evalue": "invalid syntax (2497215805.py, line 1)",
     "output_type": "error",
     "traceback": [
      "\u001b[0;36m  Cell \u001b[0;32mIn[2], line 1\u001b[0;36m\u001b[0m\n\u001b[0;31m    student_attendance = (\"KCON\": 99, \"BHAG\":876, \"CHAIT\":999)\u001b[0m\n\u001b[0m                                ^\u001b[0m\n\u001b[0;31mSyntaxError\u001b[0m\u001b[0;31m:\u001b[0m invalid syntax\n"
     ]
    }
   ],
   "source": [
    "student_attendance = {\"KCON\": 99, \"BHAG\":876, \"CHAIT\":999}\n",
    "\n",
    "print(list(student_attendance.items()))\n"
   ]
  }
 ],
 "metadata": {
  "kernelspec": {
   "display_name": "Python 3",
   "language": "python",
   "name": "python3"
  },
  "language_info": {
   "codemirror_mode": {
    "name": "ipython",
    "version": 3
   },
   "file_extension": ".py",
   "mimetype": "text/x-python",
   "name": "python",
   "nbconvert_exporter": "python",
   "pygments_lexer": "ipython3",
   "version": "3.8.10"
  }
 },
 "nbformat": 4,
 "nbformat_minor": 2
}
