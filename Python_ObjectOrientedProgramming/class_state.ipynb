{
 "cells": [
  {
   "cell_type": "code",
   "execution_count": 1,
   "metadata": {},
   "outputs": [],
   "source": [
    "class MercedezBenz:\n",
    "    doors =2\n",
    "    wheels = 4\n",
    "\n",
    "# The attributes defined under class live in class namespace.\n",
    "# Which are accessible under a special attribute called Dunder dict for\n",
    "# double underscore dictionary.\n",
    "\n"
   ]
  },
  {
   "cell_type": "code",
   "execution_count": 2,
   "metadata": {},
   "outputs": [
    {
     "data": {
      "text/plain": [
       "mappingproxy({'__module__': '__main__',\n",
       "              'doors': 2,\n",
       "              'wheels': 4,\n",
       "              '__dict__': <attribute '__dict__' of 'MercedezBenz' objects>,\n",
       "              '__weakref__': <attribute '__weakref__' of 'MercedezBenz' objects>,\n",
       "              '__doc__': None})"
      ]
     },
     "execution_count": 2,
     "metadata": {},
     "output_type": "execute_result"
    }
   ],
   "source": [
    "#__dict__\n",
    "MercedezBenz.__dict__\n",
    "\"\"\"\n",
    "So this mapping proxy stores the class state in addition to this special\n",
    "attributes.\n",
    "Note: It's possible to extend or modify these class attributes\n",
    "after the class itself is defined.\n",
    "\n",
    "\"\"\""
   ]
  },
  {
   "cell_type": "code",
   "execution_count": 4,
   "metadata": {},
   "outputs": [],
   "source": [
    "#It's possible to extend or modify these class attributes\n",
    "#after the class itself is defined.\n",
    "MercedezBenz.doors = 4"
   ]
  },
  {
   "cell_type": "code",
   "execution_count": 5,
   "metadata": {},
   "outputs": [],
   "source": [
    "#In addition, we can also create bindings that di not exist in the body.\n",
    "MercedezBenz.model = \"C\"\n",
    "# Model does not exist in previous class definitin, but we created after clas \n",
    "# definition."
   ]
  },
  {
   "cell_type": "code",
   "execution_count": 6,
   "metadata": {},
   "outputs": [
    {
     "data": {
      "text/plain": [
       "mappingproxy({'__module__': '__main__',\n",
       "              'doors': 4,\n",
       "              'wheels': 4,\n",
       "              '__dict__': <attribute '__dict__' of 'MercedezBenz' objects>,\n",
       "              '__weakref__': <attribute '__weakref__' of 'MercedezBenz' objects>,\n",
       "              '__doc__': None,\n",
       "              'model': 'C'})"
      ]
     },
     "execution_count": 6,
     "metadata": {},
     "output_type": "execute_result"
    }
   ],
   "source": [
    "# When we revisit the class dictionary, we see that we now have three different variables bound\n",
    "\n",
    "MercedezBenz.__dict__"
   ]
  },
  {
   "cell_type": "code",
   "execution_count": 7,
   "metadata": {},
   "outputs": [
    {
     "data": {
      "text/plain": [
       "('C', 'C')"
      ]
     },
     "execution_count": 7,
     "metadata": {},
     "output_type": "execute_result"
    }
   ],
   "source": [
    "\"\"\"\n",
    "By defining these class attributes, we've modified the blueprint out of which all \n",
    "instances are created.\n",
    "- We have blueprint that has all three properties bound to those values.\n",
    "- so all instances created out of this blueprint should have those same values.\n",
    "- logically we expect all instances to follow this pattern.\n",
    "- All instances of this blueprint will follow the same attribute value \n",
    "bindings that we defined on the class object\n",
    "\n",
    "Recap:\n",
    "1. we traditionally define class state in the class body\n",
    "2. class state is stored in a mapping proxy object and retrieved using __dict__\n",
    "3. class state is shared and accessible by all instances of that class.\n",
    "\"\"\"\n",
    "m3 = MercedezBenz()\n",
    "m4 = MercedezBenz()\n",
    "\n",
    "m3.model, m4.model"
   ]
  },
  {
   "cell_type": "markdown",
   "metadata": {},
   "source": [
    "Class State:\n",
    "We could add more state to our class by binding attribute names to values within the body of the class definition.\n",
    "\n",
    "\n"
   ]
  }
 ],
 "metadata": {
  "kernelspec": {
   "display_name": "Python 3",
   "language": "python",
   "name": "python3"
  },
  "language_info": {
   "codemirror_mode": {
    "name": "ipython",
    "version": 3
   },
   "file_extension": ".py",
   "mimetype": "text/x-python",
   "name": "python",
   "nbconvert_exporter": "python",
   "pygments_lexer": "ipython3",
   "version": "3.8.10"
  }
 },
 "nbformat": 4,
 "nbformat_minor": 2
}
