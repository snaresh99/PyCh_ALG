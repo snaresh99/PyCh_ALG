{
 "cells": [
  {
   "cell_type": "markdown",
   "metadata": {},
   "source": [
    "# Properties\n",
    "\n",
    "* We are going to explore properties which give us a very neat way of exposing simple data attributes publicly while preserving the flexibility to attach additional funcitonality to any operations that happen on that attribute.\n",
    "\n",
    "* Explore properties which expose simple data attributes with customizable logic: Explore properties which give us a very neat way of exposing simple data attributes publicly while preserving the flixibility to attach additional functionality to any operations that happen on that attriute.\n",
    "\n",
    "- For example, we'll be able to validate the values being assigned to an attribute or make it so that no value could be assigned at all.\n",
    "\n",
    "In other words, define read only attributes. \n",
    "\n",
    "We'll explore a special breed of attributes called a managed attribute, where we expose to the outside world what appears to be a plain value but internally delegate the calculation of that value to a method or a group of methods.\n",
    "\n",
    "# Manage Attribute:\n",
    "\n",
    "We'll explore a special breed of attributes called a managed attribute, where we expose to the outside world what appears to be a plain value but internally delegate the calculation of that value to a method or group of methods.\n",
    "\n",
    "Properties are a beautiful feature in object oriented python that not only let us avoid the need for getters or setters which are abundant in other object oriented languages, but also give us the flexibiltiy to evolve our class implementation without affecting client code.\n",
    "\n",
    "* Expose simple data attributes with customizable logic\n",
    "* Add validations to attributes setters\n",
    "* Create read only or write only attributes.\n",
    "* Understand decorators in depth, create managed properties, cache them, and more...\n",
    "\n"
   ]
  },
  {
   "cell_type": "code",
   "execution_count": 5,
   "metadata": {},
   "outputs": [
    {
     "name": "stdout",
     "output_type": "stream",
     "text": [
      "The discount variable value is  0.1\n",
      "your discount is 0.1\n",
      "The discount variable value is  0.2\n",
      "your discount is 0.2\n",
      "The discount variable value is  0.35\n",
      "your discount is 0.35\n"
     ]
    }
   ],
   "source": [
    "class Customer:\n",
    "    def __init__(self, loyalty):\n",
    "        self.loyalty = loyalty\n",
    "\n",
    "\n",
    "def get_discount(customer):\n",
    "    discounts = {\n",
    "        \"bronze\": .1,\n",
    "        \"gold\": .2,\n",
    "        \"platinum\": .35\n",
    "\n",
    "    }\n",
    "\n",
    "    discount = discounts.get(customer.loyalty, None)\n",
    "    print(\"The discount variable value is \", discount)\n",
    "\n",
    "    if not discount:\n",
    "        raise ValueError(\"Could not determine Customers discount\")\n",
    "\n",
    "    return discount\n",
    "\n",
    "if __name__ == \"__main__\":\n",
    "\n",
    "    c = Customer(\"bronze\")\n",
    "    c2 = Customer(\"gold\")\n",
    "    c3 = Customer(\"platinum\")\n",
    "\n",
    "    for customer in [c, c2, c3]:\n",
    "        print(\"your discount is\", get_discount(customer))\n",
    "    \n"
   ]
  },
  {
   "cell_type": "markdown",
   "metadata": {},
   "source": [
    "In Python, In additoin to not having this concept of private or protected at all because everything is public, as we talked in the lecture on access control in the first very seciton on classes as well see in couple of lectures, we also have a fundamentally different approach.\n",
    "\n",
    "while it's certainly possible to create accessor methods right off the bat, in other words, write getters and setters from the start, its really not considered something useful."
   ]
  },
  {
   "cell_type": "code",
   "execution_count": 11,
   "metadata": {},
   "outputs": [
    {
     "name": "stdout",
     "output_type": "stream",
     "text": [
      "This the value of class with object krsna\n",
      "We can call directly in python as krsna\n"
     ]
    },
    {
     "data": {
      "text/plain": [
       "'\\nSo to recap getters and setters before we actually need them considered unnecessary\\ndistractions.\\n\\nThe basic idea is that we should strive to figure out the simplest thing that works for our\\nuse case and then work from there outward if necessary.\\n\\n\\n\\n'"
      ]
     },
     "execution_count": 11,
     "metadata": {},
     "output_type": "execute_result"
    }
   ],
   "source": [
    "class Customer:\n",
    "    def __init__(self, loyalty):\n",
    "        self.loyalty = loyalty\n",
    "    \n",
    "    def get_loyalty(self):\n",
    "        return self.loyalty\n",
    "    \n",
    "    def set_loyalty(self, level):\n",
    "        self.loyalty = level\n",
    "\n",
    "\n",
    "if __name__ == \"__main__\":\n",
    "    c = Customer(\"krsna\")\n",
    "    c.get_loyalty()\n",
    "    print(\"This the value of class with object\", c.get_loyalty())\n",
    "    print(\"We can call directly in python as\", c.loyalty)\n",
    "\"\"\"\n",
    "So to recap getters and setters before we actually need them considered unnecessary\n",
    "distractions.\n",
    "\n",
    "The basic idea is that we should strive to figure out the simplest thing that works for our\n",
    "use case and then work from there outward if necessary.\n",
    "\n",
    "\n",
    "\n",
    "\"\"\"\n",
    "    "
   ]
  },
  {
   "cell_type": "code",
   "execution_count": 12,
   "metadata": {},
   "outputs": [
    {
     "name": "stdout",
     "output_type": "stream",
     "text": [
      "The Zen of Python, by Tim Peters\n",
      "\n",
      "Beautiful is better than ugly.\n",
      "Explicit is better than implicit.\n",
      "Simple is better than complex.\n",
      "Complex is better than complicated.\n",
      "Flat is better than nested.\n",
      "Sparse is better than dense.\n",
      "Readability counts.\n",
      "Special cases aren't special enough to break the rules.\n",
      "Although practicality beats purity.\n",
      "Errors should never pass silently.\n",
      "Unless explicitly silenced.\n",
      "In the face of ambiguity, refuse the temptation to guess.\n",
      "There should be one-- and preferably only one --obvious way to do it.\n",
      "Although that way may not be obvious at first unless you're Dutch.\n",
      "Now is better than never.\n",
      "Although never is often better than *right* now.\n",
      "If the implementation is hard to explain, it's a bad idea.\n",
      "If the implementation is easy to explain, it may be a good idea.\n",
      "Namespaces are one honking great idea -- let's do more of those!\n"
     ]
    }
   ],
   "source": [
    "import this"
   ]
  },
  {
   "cell_type": "markdown",
   "metadata": {},
   "source": [
    "Pythonic way starts with plain:\n",
    "* In python accessor methods - getters and setters for our attributes are best added when needed.\n",
    "\n",
    "* it's considered best practice to start with plain, public attributes and evolve to controlled access only as needed.\n",
    "\n"
   ]
  }
 ],
 "metadata": {
  "kernelspec": {
   "display_name": "Python 3",
   "language": "python",
   "name": "python3"
  },
  "language_info": {
   "codemirror_mode": {
    "name": "ipython",
    "version": 3
   },
   "file_extension": ".py",
   "mimetype": "text/x-python",
   "name": "python",
   "nbconvert_exporter": "python",
   "pygments_lexer": "ipython3",
   "version": "3.8.10"
  }
 },
 "nbformat": 4,
 "nbformat_minor": 2
}
