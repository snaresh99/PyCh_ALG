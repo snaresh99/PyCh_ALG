{
 "cells": [
  {
   "cell_type": "markdown",
   "metadata": {},
   "source": [
    "Moew arguments: \n",
    "\n",
    "How do we pass multiple arguments to a method?\n"
   ]
  },
  {
   "cell_type": "code",
   "execution_count": 4,
   "metadata": {},
   "outputs": [
    {
     "name": "stdout",
     "output_type": "stream",
     "text": [
      "5.0\n",
      "4.47213595499958\n",
      "0.0\n"
     ]
    }
   ],
   "source": [
    "import math\n",
    "\n",
    "class Point:\n",
    "    def move(self, x, y):\n",
    "        self.x =x\n",
    "        self.y = y\n",
    "    \n",
    "    def reset(self):\n",
    "        self.move(0,0)\n",
    "\n",
    "    def calculate_distance(self, other_point):\n",
    "        return math.sqrt(\n",
    "            (self.x -other_point.x)**2 +\n",
    "            (self.y -other_point.y)**2\n",
    "        )\n",
    "\n",
    "if __name__ == \"__main__\":\n",
    "    point1 = Point()\n",
    "    point2 = Point()\n",
    "\n",
    "    point1.reset()\n",
    "    point2.reset()\n",
    "\n",
    "    point2.move(5,0)\n",
    "\n",
    "    print(point2.calculate_distance(point1))\n",
    "    assert (point2.calculate_distance(point1) ==\n",
    "            point1.calculate_distance(point2))\n",
    "\n",
    "    point1.move(3,4)\n",
    "    print(point1.calculate_distance(point2))\n",
    "    print(point2.calculate_distance(point2))\n",
    "\n",
    "    "
   ]
  }
 ],
 "metadata": {
  "kernelspec": {
   "display_name": "Python 3",
   "language": "python",
   "name": "python3"
  },
  "language_info": {
   "codemirror_mode": {
    "name": "ipython",
    "version": 3
   },
   "file_extension": ".py",
   "mimetype": "text/x-python",
   "name": "python",
   "nbconvert_exporter": "python",
   "pygments_lexer": "ipython3",
   "version": "3.8.10"
  }
 },
 "nbformat": 4,
 "nbformat_minor": 2
}
