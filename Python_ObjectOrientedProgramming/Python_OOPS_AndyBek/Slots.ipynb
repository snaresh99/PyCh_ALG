{
 "cells": [
  {
   "cell_type": "markdown",
   "metadata": {},
   "source": [
    "# Slots\n",
    "* Define and work with slots\n",
    "* Demonstrate the memory advantages of working with slots\n",
    "* understand when to use slots and what side effects to watch out for \n",
    "\n",
    "\n",
    "# Why slots exists?\n",
    "* Advantages of memory profile\n",
    "* Good principles\n",
    "* They do have surprise side effects\n",
    "* Practice slots with inheritance\n",
    "\n",
    "# Instance Data Storage Review\n"
   ]
  },
  {
   "cell_type": "code",
   "execution_count": 6,
   "metadata": {},
   "outputs": [],
   "source": [
    "class Employee(object):\n",
    "    def __init__(self, name, surname, age, status, salary):\n",
    "        self.name = name\n",
    "        self.surname = surname\n",
    "        self.age = age\n",
    "        self.status = status\n",
    "        self.salary = salary\n",
    "        "
   ]
  },
  {
   "cell_type": "code",
   "execution_count": 7,
   "metadata": {},
   "outputs": [],
   "source": [
    "m1 = Employee(\"Krsna Dev\", \"Chaitanya\", 99, \"CON\", 10000000000)"
   ]
  },
  {
   "cell_type": "code",
   "execution_count": 8,
   "metadata": {},
   "outputs": [
    {
     "data": {
      "text/plain": [
       "<__main__.Employee at 0x7fc05c0b0040>"
      ]
     },
     "execution_count": 8,
     "metadata": {},
     "output_type": "execute_result"
    }
   ],
   "source": [
    "m1"
   ]
  },
  {
   "cell_type": "code",
   "execution_count": 9,
   "metadata": {},
   "outputs": [
    {
     "data": {
      "text/plain": [
       "'Krsna Dev'"
      ]
     },
     "execution_count": 9,
     "metadata": {},
     "output_type": "execute_result"
    }
   ],
   "source": [
    "m1.name"
   ]
  },
  {
   "cell_type": "code",
   "execution_count": 10,
   "metadata": {},
   "outputs": [
    {
     "data": {
      "text/plain": [
       "{'name': 'Krsna Dev',\n",
       " 'surname': 'Chaitanya',\n",
       " 'age': 99,\n",
       " 'status': 'CON',\n",
       " 'salary': 10000000000}"
      ]
     },
     "execution_count": 10,
     "metadata": {},
     "output_type": "execute_result"
    }
   ],
   "source": [
    "m1.__dict__"
   ]
  },
  {
   "cell_type": "code",
   "execution_count": 11,
   "metadata": {},
   "outputs": [
    {
     "data": {
      "text/plain": [
       "dict"
      ]
     },
     "execution_count": 11,
     "metadata": {},
     "output_type": "execute_result"
    }
   ],
   "source": [
    "type(m1.__dict__)"
   ]
  },
  {
   "cell_type": "code",
   "execution_count": 12,
   "metadata": {},
   "outputs": [
    {
     "data": {
      "text/plain": [
       "mappingproxy"
      ]
     },
     "execution_count": 12,
     "metadata": {},
     "output_type": "execute_result"
    }
   ],
   "source": [
    "type(m1.__class__.__dict__) # class namespace"
   ]
  },
  {
   "cell_type": "markdown",
   "metadata": {},
   "source": [
    "# Flexibility -> cost\n",
    "* Python is to provision a dictionary for all instances created.\n",
    "* There is a memory overhead cost as well as slight execution of speed, too.\n",
    "*  Because, each instance attracts a dictionary that could have an unlimited number of key value bindings.\n",
    "* Because, each instance attracts a dictionary that could have an unlimited number of key value bindings.\n",
    "\n",
    "* The memory allocated for that object is often much bigger than it needs to be in practice and over a large number of instances, the overall program execution also suffers.\n",
    "\n",
    "# Flexibility -> cost\n",
    "\n",
    "# Cost?\n",
    "* Memory problem\n",
    "* Execution problem\n",
    "\n",
    "# Memory problem and execution problem\n",
    "\n",
    "# Precisely these optimization issues that slots help us address when we know the range of attributes.\n",
    "\n",
    "# As we allude in the previous lecture, if we know exactly what attributes a class should support?\n",
    "\n",
    "\n",
    "\n",
    "\n",
    "\n",
    "\n",
    "\n",
    "\n"
   ]
  },
  {
   "cell_type": "code",
   "execution_count": 18,
   "metadata": {},
   "outputs": [],
   "source": [
    "# Using slots\n",
    "class Employee(object):\n",
    "    __slots__ = ('name', 'age', 'status', 'salary')\n",
    "    \n",
    "    def __init__(self, name, surname, age, status, salary):\n",
    "        self.name = name\n",
    "        self.surname = surname\n",
    "        self.age = age\n",
    "        self.status = status\n",
    "        self.salary = salary\n"
   ]
  },
  {
   "cell_type": "code",
   "execution_count": 19,
   "metadata": {},
   "outputs": [
    {
     "ename": "AttributeError",
     "evalue": "'Employee' object has no attribute 'surname'",
     "output_type": "error",
     "traceback": [
      "\u001b[0;31m---------------------------------------------------------------------------\u001b[0m",
      "\u001b[0;31mAttributeError\u001b[0m                            Traceback (most recent call last)",
      "Cell \u001b[0;32mIn[19], line 1\u001b[0m\n\u001b[0;32m----> 1\u001b[0m s1_emp \u001b[38;5;241m=\u001b[39m \u001b[43mEmployee\u001b[49m\u001b[43m(\u001b[49m\u001b[38;5;124;43m\"\u001b[39;49m\u001b[38;5;124;43mHare Krsna\u001b[39;49m\u001b[38;5;124;43m\"\u001b[39;49m\u001b[43m,\u001b[49m\u001b[43m \u001b[49m\u001b[38;5;124;43m\"\u001b[39;49m\u001b[38;5;124;43mRama\u001b[39;49m\u001b[38;5;124;43m\"\u001b[39;49m\u001b[43m,\u001b[49m\u001b[43m \u001b[49m\u001b[38;5;241;43m99\u001b[39;49m\u001b[43m,\u001b[49m\u001b[43m \u001b[49m\u001b[38;5;124;43m\"\u001b[39;49m\u001b[38;5;124;43mGEETA\u001b[39;49m\u001b[38;5;124;43m\"\u001b[39;49m\u001b[43m,\u001b[49m\u001b[43m \u001b[49m\u001b[38;5;241;43m10000000\u001b[39;49m\u001b[43m)\u001b[49m\n",
      "Cell \u001b[0;32mIn[18], line 7\u001b[0m, in \u001b[0;36mEmployee.__init__\u001b[0;34m(self, name, surname, age, status, salary)\u001b[0m\n\u001b[1;32m      5\u001b[0m \u001b[38;5;28;01mdef\u001b[39;00m \u001b[38;5;21m__init__\u001b[39m(\u001b[38;5;28mself\u001b[39m, name, surname, age, status, salary):\n\u001b[1;32m      6\u001b[0m     \u001b[38;5;28mself\u001b[39m\u001b[38;5;241m.\u001b[39mname \u001b[38;5;241m=\u001b[39m name\n\u001b[0;32m----> 7\u001b[0m     \u001b[38;5;28;43mself\u001b[39;49m\u001b[38;5;241;43m.\u001b[39;49m\u001b[43msurname\u001b[49m \u001b[38;5;241m=\u001b[39m surname\n\u001b[1;32m      8\u001b[0m     \u001b[38;5;28mself\u001b[39m\u001b[38;5;241m.\u001b[39mage \u001b[38;5;241m=\u001b[39m age\n\u001b[1;32m      9\u001b[0m     \u001b[38;5;28mself\u001b[39m\u001b[38;5;241m.\u001b[39mstatus \u001b[38;5;241m=\u001b[39m status\n",
      "\u001b[0;31mAttributeError\u001b[0m: 'Employee' object has no attribute 'surname'"
     ]
    }
   ],
   "source": [
    "s1_emp = Employee(\"Hare Krsna\", \"Rama\", 99, \"GEETA\", 10000000)"
   ]
  },
  {
   "cell_type": "code",
   "execution_count": 14,
   "metadata": {},
   "outputs": [
    {
     "data": {
      "text/plain": [
       "<__main__.Employee at 0x7fc05c103d90>"
      ]
     },
     "execution_count": 14,
     "metadata": {},
     "output_type": "execute_result"
    }
   ],
   "source": [
    "s1_emp"
   ]
  },
  {
   "cell_type": "code",
   "execution_count": 15,
   "metadata": {},
   "outputs": [
    {
     "data": {
      "text/plain": [
       "'Hare Krsna'"
      ]
     },
     "execution_count": 15,
     "metadata": {},
     "output_type": "execute_result"
    }
   ],
   "source": [
    "s1_emp.name"
   ]
  },
  {
   "cell_type": "code",
   "execution_count": 16,
   "metadata": {},
   "outputs": [
    {
     "data": {
      "text/plain": [
       "99"
      ]
     },
     "execution_count": 16,
     "metadata": {},
     "output_type": "execute_result"
    }
   ],
   "source": [
    "s1_emp.age"
   ]
  },
  {
   "cell_type": "code",
   "execution_count": 20,
   "metadata": {},
   "outputs": [
    {
     "data": {
      "text/plain": [
       "{'name': 'Hare Krsna',\n",
       " 'surname': 'Rama',\n",
       " 'age': 99,\n",
       " 'status': 'GEETA',\n",
       " 'salary': 10000000}"
      ]
     },
     "execution_count": 20,
     "metadata": {},
     "output_type": "execute_result"
    }
   ],
   "source": [
    "s1_emp.__dict__"
   ]
  },
  {
   "attachments": {
    "image.png": {
     "image/png": "[encoded data removed]"
    }
   },
   "cell_type": "markdown",
   "metadata": {},
   "source": [
    "# Slots Explanation\n",
    "* Note: The above statement s1_emp.__dict__ shall triggern an error but in my case it worked not sure what is happening with slots\n",
    "\n",
    "* Python behind the scenes creates a fixed length sequence data type.\n",
    "\n",
    "* So we can think of this as a list or a tuple, but technically it's just a fixed size array.\n",
    "\n",
    "*  So we can think of this as a list or a tuple, but technically it's just a fixed size array.\n",
    "![image.png](attachment:image.png)\n",
    "\n",
    "* Each index on this data structure is mapped to the attribute names that we specify in the slots.\n",
    "\n",
    "* Two advantages of doing this:\n",
    "- Becuase we're dealing with a fixed size array, the data structure that stores the information, is as small as it needs to be so we save memory.\n",
    "- Second, each attribute is mapped in advance to very specific index.\n",
    "- Because, each attribute we map in advance to a very specific index attribute, attribute access is therefore significantly faster.\n",
    "\n",
    "- More technically, for computer science folks, dictionary dictionary, sets up a lot of memory.\n",
    "\n",
    "- by memory we mean RAM. \n",
    "- Why dictionary consumes lot of memory? because dictionary is a hash map which has a worst case time complexity of order of n.\n",
    "\n",
    "- We moved from hash map data structure to fixed length array.\n",
    "- Fixed length array is entirely written in c and also contributes to it's high efficiency.\n",
    "\n",
    "- high efficiency: Performance gain comes from - its nothing magica, behind the scenes python does the transformation to change it from hash based dictionary to fixed length array.\n",
    "- Because of this we no longer have the option of adding attributes to instances like we did in the previous lecture and we are restricted to only those that we specified in the slots class variable when we define class.\n",
    "\n",
    "# Recap\n",
    "\n",
    "- if we know inadvance what data attributes a class should support, using slots may offer memory and speed improvements.\n",
    "- slots are defined as  a class attributes.\n",
    "- behind the scenes, python switches from a dict to a fixed size array, mapping each attribute to a specific index.\n",
    "\n",
    "This is the transformation.\n",
    "\n",
    "\n",
    "\n",
    "\n",
    "\n",
    "\n",
    "\n"
   ]
  },
  {
   "cell_type": "markdown",
   "metadata": {},
   "source": [
    "* As we saw, when we define slots ina class, all instances of that class lose their dunder dict.\n",
    "\n",
    "* They no longer have instance namespace and all attributes specified in these slots are mapped to specific indices in the new fixed length array that replaces the dictionary.\n",
    "\n",
    "* They no longer have instance namespace and all attributes specified in these slots are mapped to specific indices in the new fixed length array that replaces the dictionary.\n",
    "\n",
    "* But where does the mapping reside?\n",
    "- the mapping reside in the class itself.\n",
    "- so remember, not the instance namespace, but let's take a look at the class namespace.\n",
    "\n",
    "\n",
    "\n"
   ]
  },
  {
   "cell_type": "code",
   "execution_count": 21,
   "metadata": {},
   "outputs": [
    {
     "data": {
      "text/plain": [
       "mappingproxy({'__module__': '__main__',\n",
       "              '__slots__': ('name', 'age', 'status', 'salary'),\n",
       "              '__init__': <function __main__.Employee.__init__(self, name, surname, age, status, salary)>,\n",
       "              'age': <member 'age' of 'Employee' objects>,\n",
       "              'name': <member 'name' of 'Employee' objects>,\n",
       "              'salary': <member 'salary' of 'Employee' objects>,\n",
       "              'status': <member 'status' of 'Employee' objects>,\n",
       "              '__doc__': None})"
      ]
     },
     "execution_count": 21,
     "metadata": {},
     "output_type": "execute_result"
    }
   ],
   "source": [
    "Employee.__dict__"
   ]
  },
  {
   "cell_type": "markdown",
   "metadata": {},
   "source": [
    "* The above representation of attributes looks very similar to properties.\n",
    "* where we had the properties stand on its own\n"
   ]
  },
  {
   "cell_type": "code",
   "execution_count": 1,
   "metadata": {},
   "outputs": [],
   "source": [
    "# using slots and property -  to demonstrate the representation\n",
    "# Using slots\n",
    "class Employee(object):\n",
    "    __slots__ = ('name', 'age', 'status', 'salary')\n",
    "    \n",
    "    def __init__(self, name, surname, age, status, salary):\n",
    "        self.name = name\n",
    "        self.surname = surname\n",
    "        self.age = age\n",
    "        self.status = status\n",
    "        self.salary = salary\n",
    "\n",
    "    @property\n",
    "    def high_salary(self):\n",
    "        return self.salary > 900000\n",
    "    "
   ]
  },
  {
   "cell_type": "code",
   "execution_count": 2,
   "metadata": {},
   "outputs": [
    {
     "data": {
      "text/plain": [
       "mappingproxy({'__module__': '__main__',\n",
       "              '__slots__': ('name', 'age', 'status', 'salary'),\n",
       "              '__init__': <function __main__.Employee.__init__(self, name, surname, age, status, salary)>,\n",
       "              'high_salary': <property at 0x78e9bcb16e00>,\n",
       "              'age': <member 'age' of 'Employee' objects>,\n",
       "              'name': <member 'name' of 'Employee' objects>,\n",
       "              'salary': <member 'salary' of 'Employee' objects>,\n",
       "              'status': <member 'status' of 'Employee' objects>,\n",
       "              '__doc__': None})"
      ]
     },
     "execution_count": 2,
     "metadata": {},
     "output_type": "execute_result"
    }
   ],
   "source": [
    "Employee.__dict__"
   ]
  },
  {
   "cell_type": "code",
   "execution_count": 3,
   "metadata": {},
   "outputs": [
    {
     "ename": "AttributeError",
     "evalue": "'Employee' object has no attribute 'surname'",
     "output_type": "error",
     "traceback": [
      "\u001b[0;31m---------------------------------------------------------------------------\u001b[0m",
      "\u001b[0;31mAttributeError\u001b[0m                            Traceback (most recent call last)",
      "Cell \u001b[0;32mIn[3], line 1\u001b[0m\n\u001b[0;32m----> 1\u001b[0m e1 \u001b[38;5;241m=\u001b[39m \u001b[43mEmployee\u001b[49m\u001b[43m(\u001b[49m\u001b[38;5;124;43m\"\u001b[39;49m\u001b[38;5;124;43mKCON\u001b[39;49m\u001b[38;5;124;43m\"\u001b[39;49m\u001b[43m,\u001b[49m\u001b[43m \u001b[49m\u001b[38;5;124;43m\"\u001b[39;49m\u001b[38;5;124;43mChaitanya\u001b[39;49m\u001b[38;5;124;43m\"\u001b[39;49m\u001b[43m,\u001b[49m\u001b[43m \u001b[49m\u001b[38;5;241;43m99\u001b[39;49m\u001b[43m,\u001b[49m\u001b[43m \u001b[49m\u001b[38;5;124;43m\"\u001b[39;49m\u001b[38;5;124;43mSUP\u001b[39;49m\u001b[38;5;124;43m\"\u001b[39;49m\u001b[43m,\u001b[49m\u001b[43m \u001b[49m\u001b[38;5;241;43m999999\u001b[39;49m\u001b[43m)\u001b[49m\n",
      "Cell \u001b[0;32mIn[1], line 8\u001b[0m, in \u001b[0;36mEmployee.__init__\u001b[0;34m(self, name, surname, age, status, salary)\u001b[0m\n\u001b[1;32m      6\u001b[0m \u001b[38;5;28;01mdef\u001b[39;00m \u001b[38;5;21m__init__\u001b[39m(\u001b[38;5;28mself\u001b[39m, name, surname, age, status, salary):\n\u001b[1;32m      7\u001b[0m     \u001b[38;5;28mself\u001b[39m\u001b[38;5;241m.\u001b[39mname \u001b[38;5;241m=\u001b[39m name\n\u001b[0;32m----> 8\u001b[0m     \u001b[38;5;28;43mself\u001b[39;49m\u001b[38;5;241;43m.\u001b[39;49m\u001b[43msurname\u001b[49m \u001b[38;5;241m=\u001b[39m surname\n\u001b[1;32m      9\u001b[0m     \u001b[38;5;28mself\u001b[39m\u001b[38;5;241m.\u001b[39mage \u001b[38;5;241m=\u001b[39m age\n\u001b[1;32m     10\u001b[0m     \u001b[38;5;28mself\u001b[39m\u001b[38;5;241m.\u001b[39mstatus \u001b[38;5;241m=\u001b[39m status\n",
      "\u001b[0;31mAttributeError\u001b[0m: 'Employee' object has no attribute 'surname'"
     ]
    }
   ],
   "source": [
    "e1 = Employee(\"KCON\", \"Chaitanya\", 99, \"SUP\", 999999)"
   ]
  },
  {
   "cell_type": "markdown",
   "metadata": {},
   "source": [
    "From the above output, the property value of class dictionary looks similar to age, name, salary, class slotted attributes:\n",
    "* At least representation wise.\n",
    "* the resemblance is actually goes beyond superficial\n",
    "\n",
    "# Both properties and slotted attributes are examples of descriptors.\n",
    "\n",
    "* We'll have lot more about descriptors -  simply special python objects that have implement one of the three descriptors methods. They are get, set, and delete\n",
    "\n",
    "* fget\n",
    "* fset\n",
    "* fdelete\n",
    "\n",
    "* So when we define the slotted attribute, let's say name, okay employee name, python overrides the default get attribute behavior, which is a look n the instance dictionary, which by the way doesn't exist anymore.\n",
    "\n",
    "# Recap of slots 2:\n",
    "* __slots__ creates a descriptor for each mapped attribute, thereby overriding the default __getattribute__ behavior.\n",
    "\n",
    "* as a result, just like properties slotted attributes resides in the class mapping proxy, rather than with the isntances.\n",
    "\n"
   ]
  },
  {
   "cell_type": "markdown",
   "metadata": {},
   "source": [
    "# 20 Feb 2025\n"
   ]
  },
  {
   "cell_type": "code",
   "execution_count": 5,
   "metadata": {},
   "outputs": [],
   "source": [
    "# using slots and property -  to demonstrate the representation\n",
    "# Using slots\n",
    "class Employee(object):\n",
    "    __slots__ = ('name', 'surname', 'age', 'status', 'salary')\n",
    "    \n",
    "    def __init__(self, name, surname, age, status, salary):\n",
    "        self.name = name\n",
    "        self.surname = surname\n",
    "        self.age = age\n",
    "        self.status = status\n",
    "        self.salary = salary\n",
    "\n",
    "    @property\n",
    "    def high_salary(self):\n",
    "        return self.salary > 900000\n",
    "    "
   ]
  },
  {
   "cell_type": "code",
   "execution_count": 6,
   "metadata": {},
   "outputs": [],
   "source": [
    "e1 = Employee(\"krsna\", \"Chaitanya\", 99, \"SUP\", 999999)"
   ]
  },
  {
   "cell_type": "code",
   "execution_count": 7,
   "metadata": {},
   "outputs": [
    {
     "ename": "AttributeError",
     "evalue": "'Employee' object has no attribute '__dict__'",
     "output_type": "error",
     "traceback": [
      "\u001b[0;31m---------------------------------------------------------------------------\u001b[0m",
      "\u001b[0;31mAttributeError\u001b[0m                            Traceback (most recent call last)",
      "Cell \u001b[0;32mIn[7], line 1\u001b[0m\n\u001b[0;32m----> 1\u001b[0m \u001b[43me1\u001b[49m\u001b[38;5;241;43m.\u001b[39;49m\u001b[38;5;18;43m__dict__\u001b[39;49m\n",
      "\u001b[0;31mAttributeError\u001b[0m: 'Employee' object has no attribute '__dict__'"
     ]
    }
   ],
   "source": [
    "e1.__dict__"
   ]
  },
  {
   "cell_type": "code",
   "execution_count": 8,
   "metadata": {},
   "outputs": [
    {
     "data": {
      "text/plain": [
       "mappingproxy({'__module__': '__main__',\n",
       "              '__slots__': ('name', 'surname', 'age', 'status', 'salary'),\n",
       "              '__init__': <function __main__.Employee.__init__(self, name, surname, age, status, salary)>,\n",
       "              'high_salary': <property at 0x78e9bc4e1630>,\n",
       "              'age': <member 'age' of 'Employee' objects>,\n",
       "              'name': <member 'name' of 'Employee' objects>,\n",
       "              'salary': <member 'salary' of 'Employee' objects>,\n",
       "              'status': <member 'status' of 'Employee' objects>,\n",
       "              'surname': <member 'surname' of 'Employee' objects>,\n",
       "              '__doc__': None})"
      ]
     },
     "execution_count": 8,
     "metadata": {},
     "output_type": "execute_result"
    }
   ],
   "source": [
    "Employee.__dict__"
   ]
  },
  {
   "cell_type": "markdown",
   "metadata": {},
   "source": [
    "# Class Residents\n",
    "As we saw, the above example, we define slots in a class, all instances of that class lose their dunder dict.\n",
    "- so they no longer have that instance namespace and all attributes specified in these slots are mapped to specific indices in the new fixed length array that replaces the dictionary.\n",
    "- Where does the mapping reside?\n",
    "    * The mapping resides in the class namespace instead of instance namespace  - when we use slots\n",
    "\n",
    "* In terms of representation, at least what we visibly see here, this looks very similar to properties.\n",
    "* Where we had the properties stand on its own.\n",
    "\n",
    "What it turns out is that both properties and slotted attributes are examples of descriptors which i think we've mentioned.\n",
    "\n",
    "# Both properties and slotted attributes are examples of descriptors.\n",
    "\n",
    "# Descriptors are special python objects that implement one of the 3 descriptors methods\n",
    "- get()\n",
    "- set()\n",
    "- delete()\n",
    "\n",
    "Properties are very specific type of descriptor, so descriptor is the super set concept here of which slots are also examples of.\n",
    "\n",
    "# So when we define a slotted attribute, let's say name, employee name, python overrides the default get attribute behavior, which is to look in the instance dictionary, which by the way doesn't exist enymore and python overrides that  and instead delegates it to the descriptor which resides in the class.\n",
    "\n",
    "* So the member name of employee object takes control, which, as we mentioned, uses that fixed array as its store of data.\n",
    "\n",
    "* So the get of this descriptor executes and points to the data that we store in that fixed array.\n",
    "\n",
    "# Recap\n",
    "\n",
    "* __slots__ creates a descriptor for each mapped attribute, thereby overriding the default __getattribute__ behavior.\n",
    "\n",
    "* as a result, just like properties, slotted attributes reside in the class mapping proxy, rather than with the instances.\n",
    "\n",
    "\n"
   ]
  },
  {
   "cell_type": "markdown",
   "metadata": {},
   "source": [
    "# Bonus Lecture: Demonstrating the memory advantage\n",
    "* Memory advantages of using slots\n",
    "- we mentioned earlier that using slots saves memory because the backing data structure that saves the attribute values is smaller.\n",
    "- Let's take a look at memory profile to try to quantify that effect?\n",
    "\n",
    "- # Pympler\n",
    "Pympler is a profiling tool that helps us analyze the memory usage of python objects at runtime.\n",
    "* its a separate package, so we'll need to bring into our environment.\n",
    "\n",
    "#!pip install pympler # we can use exclamation in the beginning of the pip command to install python package from jupyter notebook instead of openning command prompt and installing it.\n"
   ]
  },
  {
   "cell_type": "code",
   "execution_count": 9,
   "metadata": {},
   "outputs": [],
   "source": [
    "# using slots and property -  to demonstrate the representation\n",
    "# Using slots\n",
    "class SlottedEmployee(object):\n",
    "    __slots__ = ('name', 'surname', 'age', 'status', 'salary')\n",
    "    \n",
    "    def __init__(self, name, surname, age, status, salary):\n",
    "        self.name = name\n",
    "        self.surname = surname\n",
    "        self.age = age\n",
    "        self.status = status\n",
    "        self.salary = salary\n",
    "\n",
    "    @property\n",
    "    def high_salary(self):\n",
    "        return self.salary > 900000\n",
    "\n",
    "class RegularEmployee(object):\n",
    "    #__slots__ = ('name', 'surname', 'age', 'status', 'salary')\n",
    "    \n",
    "    def __init__(self, name, surname, age, status, salary):\n",
    "        self.name = name\n",
    "        self.surname = surname\n",
    "        self.age = age\n",
    "        self.status = status\n",
    "        self.salary = salary\n"
   ]
  },
  {
   "cell_type": "code",
   "execution_count": 10,
   "metadata": {},
   "outputs": [],
   "source": [
    "e1 = SlottedEmployee(\"krsna\", \"Chaitanya\", 99, \"SUP\", 999999)\n",
    "e2 = RegularEmployee(\"krsna\", \"Chaitanya\", 99, \"SUP\", 999999)"
   ]
  },
  {
   "cell_type": "code",
   "execution_count": 12,
   "metadata": {},
   "outputs": [
    {
     "name": "stdout",
     "output_type": "stream",
     "text": [
      "Defaulting to user installation because normal site-packages is not writeable\n",
      "Requirement already satisfied: pympler in /home/naresh/.local/lib/python3.10/site-packages (1.1)\n"
     ]
    }
   ],
   "source": [
    "!pip install pympler"
   ]
  },
  {
   "cell_type": "code",
   "execution_count": 18,
   "metadata": {},
   "outputs": [
    {
     "ename": "ModuleNotFoundError",
     "evalue": "No module named 'pympler'",
     "output_type": "error",
     "traceback": [
      "\u001b[0;31m---------------------------------------------------------------------------\u001b[0m",
      "\u001b[0;31mModuleNotFoundError\u001b[0m                       Traceback (most recent call last)",
      "Cell \u001b[0;32mIn[18], line 1\u001b[0m\n\u001b[0;32m----> 1\u001b[0m \u001b[38;5;28;01mimport\u001b[39;00m \u001b[38;5;21;01mpympler\u001b[39;00m\n",
      "\u001b[0;31mModuleNotFoundError\u001b[0m: No module named 'pympler'"
     ]
    }
   ],
   "source": [
    "pympler"
   ]
  },
  {
   "cell_type": "code",
   "execution_count": 15,
   "metadata": {},
   "outputs": [
    {
     "ename": "ModuleNotFoundError",
     "evalue": "No module named 'pympler'",
     "output_type": "error",
     "traceback": [
      "\u001b[0;31m---------------------------------------------------------------------------\u001b[0m",
      "\u001b[0;31mModuleNotFoundError\u001b[0m                       Traceback (most recent call last)",
      "Cell \u001b[0;32mIn[15], line 1\u001b[0m\n\u001b[0;32m----> 1\u001b[0m \u001b[38;5;28;01mfrom\u001b[39;00m \u001b[38;5;21;01mpympler\u001b[39;00m\u001b[38;5;21;01m.\u001b[39;00m\u001b[38;5;21;01masizeof\u001b[39;00m \u001b[38;5;28;01mimport\u001b[39;00m asizeof\n\u001b[1;32m      3\u001b[0m asizeof(e1) \u001b[38;5;66;03m# slotted\u001b[39;00m\n\u001b[1;32m      5\u001b[0m asizeof(e2) \u001b[38;5;66;03m# regular\u001b[39;00m\n",
      "\u001b[0;31mModuleNotFoundError\u001b[0m: No module named 'pympler'"
     ]
    }
   ],
   "source": [
    "from pympler.asizeof import asizeof\n",
    "\n",
    "asizeof(e1) # slotted\n",
    "\n",
    "asizeof(e2) # regular"
   ]
  },
  {
   "cell_type": "markdown",
   "metadata": {},
   "source": [
    "the above output will be as follows:\n",
    "Regular - 664 bytes\n",
    "Slotted - 304 bytes\n",
    "\n",
    "imagine if you are dealing with millions of instances as part of a much bigger application. you could be running your app at half the RAM usage by simply using slotted classes.\n",
    "\n",
    "# Why we didn't use the python standard library to do this\n",
    "\n",
    "under sys module funciton called getsizeof\n"
   ]
  },
  {
   "cell_type": "code",
   "execution_count": 19,
   "metadata": {},
   "outputs": [
    {
     "data": {
      "text/plain": [
       "72"
      ]
     },
     "execution_count": 19,
     "metadata": {},
     "output_type": "execute_result"
    }
   ],
   "source": [
    "from sys import getsizeof\n",
    "getsizeof(e1)"
   ]
  },
  {
   "cell_type": "code",
   "execution_count": 20,
   "metadata": {},
   "outputs": [
    {
     "data": {
      "text/plain": [
       "48"
      ]
     },
     "execution_count": 20,
     "metadata": {},
     "output_type": "execute_result"
    }
   ],
   "source": [
    "getsizeof(e2)"
   ]
  },
  {
   "cell_type": "markdown",
   "metadata": {},
   "source": [
    "Why the values are completely off from pympler library versus function from sys module?\n",
    "* The reason is that get size off from the standard library does not take into account reference objects.\n",
    "\n",
    "* sys.getsizeof does not account for reference objects.\n",
    "# Very important distinction\n",
    "* If it doesn't take account of reference objects, what exactly does it measure?\n",
    "- well, it only measures the size of the structure that implements the type the class.\n",
    "\n",
    "- Because, slots are stored in the class, there's additional information embedded in the slotted type.\n",
    "\n",
    "- Another reason why the size is bigger when we use sys module is that it compares the class, also because the instance dictionary of the regular employee class, which is not slotted because that is also a reference object that alongside all the other refernces are not even taken into account, creating the appearance that regular emplyee, the instance of regular employee is smaller, which is absolutely not true.\n",
    "\n",
    "getsizeof from the standard library simply measures the size of the structure implementing the type.\n",
    "\n",
    "\n"
   ]
  }
 ],
 "metadata": {
  "kernelspec": {
   "display_name": "Python 3",
   "language": "python",
   "name": "python3"
  },
  "language_info": {
   "codemirror_mode": {
    "name": "ipython",
    "version": 3
   },
   "file_extension": ".py",
   "mimetype": "text/x-python",
   "name": "python",
   "nbconvert_exporter": "python",
   "pygments_lexer": "ipython3",
   "version": "3.8.10"
  }
 },
 "nbformat": 4,
 "nbformat_minor": 2
}
