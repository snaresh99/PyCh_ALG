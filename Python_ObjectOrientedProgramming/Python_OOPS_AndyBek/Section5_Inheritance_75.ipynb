{
 "cells": [
  {
   "cell_type": "markdown",
   "metadata": {},
   "source": [
    "# Subclassing Properties\n",
    "* We will continue with SARS Cov 2 variant, but we will add a variant property that validates against the known variants of concern.\n",
    "* "
   ]
  },
  {
   "cell_type": "code",
   "execution_count": 3,
   "metadata": {},
   "outputs": [],
   "source": [
    "class Virus:\n",
    "    def __init__(self, name, reproduction_rate, resistance):\n",
    "        self.name = name\n",
    "        self.reproduction_rate = reproduction_rate\n",
    "        self.load = 1\n",
    "        self.host = None\n",
    "\n",
    "    def infect(self, host):\n",
    "        self.host = host\n",
    "\n",
    "    def reproduce(self):\n",
    "        if self.host is not None:\n",
    "            self.load *= (1 + self.reproduction_rate)\n",
    "\n",
    "            should_mutate = getrandbits(1)\n",
    "            print(f\"Should mutate: {should_mutate}\")\n",
    "\n",
    "            if should_mutate:\n",
    "                try:\n",
    "                    self.mutate()\n",
    "                except AttributeError:\n",
    "                    pass\n",
    "\n",
    "            return True, f\"Virus reproduced in {self.host}. Viral load: {int(self.load)}\"\n",
    "\n",
    "        raise AttributeError(\"Virus needs to infect a host before being able to reproduce.\")\n",
    "\n",
    "\n",
    "class RNAVirus(Virus):\n",
    "    genome = \"ribonucleic\"\n",
    "\n",
    "    def reproduce(self):\n",
    "        success, status = Virus.reproduce(self)\n",
    "\n",
    "        if success:\n",
    "            print(f\"{self.name} just replicated in the cytoplasm of {self.host} cells\")\n",
    "\n",
    "\n",
    "class DNAVirus(Virus):\n",
    "    genome = \"deoxyribonucleic\"\n",
    "\n",
    "    def reproduce(self):\n",
    "        # success, status = Virus.reproduce(self)\n",
    "        success, status = super().reproduce()\n",
    "\n",
    "        if success:\n",
    "            print(f\"{self.name} just replicated in the nucleus of {self.host} cells\")\n",
    "\n",
    "\n",
    "class Coronavirus(RNAVirus):\n",
    "    pass\n",
    "\n",
    "\n",
    "class SARSCov2(Coronavirus):\n",
    "    def __init__(self, variant):\n",
    "        super().__init__(\"SARSCovid2\", 2.49, 1.3)\n",
    "        self.variant = variant\n",
    "\n",
    "    def mutate(self):\n",
    "        print(f\"The {self.name} virus just mutated its spike protein\")"
   ]
  },
  {
   "cell_type": "code",
   "execution_count": 9,
   "metadata": {},
   "outputs": [],
   "source": [
    "class SARSCov2(Coronavirus):\n",
    "    known_variants = [\"alpha\", \"beta\", \"gamma\", \"epsilon\"]\n",
    "\n",
    "    def __init__(self, variant):\n",
    "        super().__init__(\"SARSCovid2\", 2.49, 1.3)\n",
    "        self.variant = variant\n",
    "\n",
    "    def mutate(self):\n",
    "        print(f\"The {self.name} virus just mutated its spike protien\")\n",
    "\n",
    "    @property\n",
    "    def variant(self):\n",
    "        return self._variant\n",
    "\n",
    "    @variant.setter\n",
    "    def variant(self, value):\n",
    "        if value.lower() not in self.known_variants:\n",
    "            raise ValueError(\"Expected a known variant of concern\")\n",
    "        \n",
    "        self._variant = value.lower()\n",
    "\n",
    "    \n"
   ]
  },
  {
   "cell_type": "code",
   "execution_count": 10,
   "metadata": {},
   "outputs": [],
   "source": [
    "cv = SARSCov2(\"ALPHA\")"
   ]
  },
  {
   "cell_type": "code",
   "execution_count": 11,
   "metadata": {},
   "outputs": [
    {
     "data": {
      "text/plain": [
       "{'name': 'SARSCovid2',\n",
       " 'reproduction_rate': 2.49,\n",
       " 'load': 1,\n",
       " 'host': None,\n",
       " '_variant': 'alpha'}"
      ]
     },
     "execution_count": 11,
     "metadata": {},
     "output_type": "execute_result"
    }
   ],
   "source": [
    "cv.__dict__"
   ]
  },
  {
   "cell_type": "code",
   "execution_count": 12,
   "metadata": {},
   "outputs": [
    {
     "ename": "ValueError",
     "evalue": "Expected a known variant of concern",
     "output_type": "error",
     "traceback": [
      "\u001b[0;31m---------------------------------------------------------------------------\u001b[0m",
      "\u001b[0;31mValueError\u001b[0m                                Traceback (most recent call last)",
      "Cell \u001b[0;32mIn[12], line 1\u001b[0m\n\u001b[0;32m----> 1\u001b[0m \u001b[43mcv\u001b[49m\u001b[38;5;241;43m.\u001b[39;49m\u001b[43mvariant\u001b[49m \u001b[38;5;241m=\u001b[39m \u001b[38;5;124m\"\u001b[39m\u001b[38;5;124mSomething Else\u001b[39m\u001b[38;5;124m\"\u001b[39m\n",
      "Cell \u001b[0;32mIn[9], line 18\u001b[0m, in \u001b[0;36mSARSCov2.variant\u001b[0;34m(self, value)\u001b[0m\n\u001b[1;32m     15\u001b[0m \u001b[38;5;129m@variant\u001b[39m\u001b[38;5;241m.\u001b[39msetter\n\u001b[1;32m     16\u001b[0m \u001b[38;5;28;01mdef\u001b[39;00m \u001b[38;5;21mvariant\u001b[39m(\u001b[38;5;28mself\u001b[39m, value):\n\u001b[1;32m     17\u001b[0m     \u001b[38;5;28;01mif\u001b[39;00m value\u001b[38;5;241m.\u001b[39mlower() \u001b[38;5;129;01mnot\u001b[39;00m \u001b[38;5;129;01min\u001b[39;00m \u001b[38;5;28mself\u001b[39m\u001b[38;5;241m.\u001b[39mknown_variants:\n\u001b[0;32m---> 18\u001b[0m         \u001b[38;5;28;01mraise\u001b[39;00m \u001b[38;5;167;01mValueError\u001b[39;00m(\u001b[38;5;124m\"\u001b[39m\u001b[38;5;124mExpected a known variant of concern\u001b[39m\u001b[38;5;124m\"\u001b[39m)\n\u001b[1;32m     20\u001b[0m     \u001b[38;5;28mself\u001b[39m\u001b[38;5;241m.\u001b[39m_variant \u001b[38;5;241m=\u001b[39m value\u001b[38;5;241m.\u001b[39mlower()\n",
      "\u001b[0;31mValueError\u001b[0m: Expected a known variant of concern"
     ]
    }
   ],
   "source": [
    "cv.variant = \"Something Else\""
   ]
  },
  {
   "cell_type": "code",
   "execution_count": 13,
   "metadata": {},
   "outputs": [],
   "source": [
    "cv.variant = \"beta\""
   ]
  },
  {
   "cell_type": "code",
   "execution_count": 14,
   "metadata": {},
   "outputs": [
    {
     "data": {
      "text/plain": [
       "'beta'"
      ]
     },
     "execution_count": 14,
     "metadata": {},
     "output_type": "execute_result"
    }
   ],
   "source": [
    "cv.variant"
   ]
  },
  {
   "cell_type": "code",
   "execution_count": null,
   "metadata": {},
   "outputs": [],
   "source": [
    "class DoubleMutant(SARSCov2):\n",
    "    pass"
   ]
  },
  {
   "cell_type": "markdown",
   "metadata": {},
   "source": [
    "Note: The variant property is not known to the subclass.\n"
   ]
  },
  {
   "cell_type": "markdown",
   "metadata": {},
   "source": [
    "# Inheritance \n",
    "class -> object\n",
    "As we've seen throughout this course, the lifeblood of object oriented programming are objects, and objects are instantiated from classes which act as a blueprint that define theattributes and behaviors.\n",
    "\n",
    "* Objects are instantiated from classes which act as a blueprint that define the attributes and behaviors that certain type of object should have.\n",
    "* inheritance allows us to extend this framework.\n",
    "* Inheritance is an object oriented programming concept that offers us a mechanism to create a new classes that derive behavior and attributes from another class without needeing to implement and rewrite everything from the scratch.\n",
    "* The way we define class relationship via inheritance is by specifying the class that we're inheriting from the parentheses at class definition.\n",
    "\n"
   ]
  },
  {
   "cell_type": "code",
   "execution_count": 2,
   "metadata": {},
   "outputs": [],
   "source": [
    "# Super class, base class, or parent class\n",
    "\n",
    "class Virus:\n",
    "    pass\n",
    "\n",
    "# Derived class, subclass, subtype, or child class\n",
    "class RNAVirus(Virus):\n",
    "    pass\n",
    "\n",
    "class CoronaVirus(RNAVirus):\n",
    "    pass\n",
    "\n",
    "class SARSCov2(CoronaVirus):\n",
    "    pass\n"
   ]
  },
  {
   "cell_type": "code",
   "execution_count": 3,
   "metadata": {},
   "outputs": [
    {
     "data": {
      "text/plain": [
       "True"
      ]
     },
     "execution_count": 3,
     "metadata": {},
     "output_type": "execute_result"
    }
   ],
   "source": [
    "issubclass(SARSCov2, CoronaVirus)"
   ]
  },
  {
   "cell_type": "code",
   "execution_count": 4,
   "metadata": {},
   "outputs": [
    {
     "data": {
      "text/plain": [
       "True"
      ]
     },
     "execution_count": 4,
     "metadata": {},
     "output_type": "execute_result"
    }
   ],
   "source": [
    "issubclass(SARSCov2, Virus)"
   ]
  },
  {
   "cell_type": "markdown",
   "metadata": {},
   "source": [
    "RNAVirus class inherits from Virus class\n",
    "\n",
    "RNAVirus class is called as derived class or subclass or child class \n",
    "* so when we use inheritance, we establish a subclass super class terminology. We use inheritance, we establish a subclass super class terminology. We establish some sort of hierarchy.\n",
    "- We establish some sort of hierarchy.\n",
    "- In other words, these hierarchies are most meaningful when they help us define \"is a\" relationship.\n",
    "- In otherwords, these hierarchies are most meaningful, when they help us define is a relationships. \n",
    "\n",
    "# Inheritance helps us define \"is a\" relationship\n",
    "\n"
   ]
  },
  {
   "cell_type": "markdown",
   "metadata": {},
   "source": [
    "# Inheritance helps us to create some sort of Transitive Relation or Transitivity\n",
    "What is transitive relation?\n",
    "* In mathematics, a relation R on a set X is transitive if, for all elements a, b, c in X whenever R releates a to b and b to c, then R also relates a to c. Each partial order as well as each equivalence relation needs to be transitive.\n",
    "\n",
    "# REcap of Inheritance\n",
    "1. Inheritance offers us a mechanism for creating new classes that modify or extend the behavior of existing classes.\n",
    "2. Inheritance establishes hierarchies between classes, e.g., super/base/parent class -> sub/child clsas.\n",
    "3. well designed inheritance hierarchies define is a relationships between classes.\n",
    "\n",
    "# What is inheritance good for?\n",
    "The single most obvious and simple use of inheritance is to extend the functionality of an existing class without duplicating code or needing to modify that existing class.\n",
    "- The single most obvious and simple use of inheritance is to extend the functionality of an existing clsas without duplicating code or needing to modify that existing class."
   ]
  },
  {
   "cell_type": "code",
   "execution_count": 6,
   "metadata": {},
   "outputs": [],
   "source": [
    "class Virus:\n",
    "    # name: \n",
    "    # reproduction_rate\n",
    "    # resistance \n",
    "    # host \n",
    "    # viral_log\n",
    "\n",
    "    def __init__(self, name, reproduction_rate, resistance):\n",
    "        self.name = name\n",
    "        self.reproduction_rate = reproduction_rate\n",
    "        self.load = 1\n",
    "        self.host = None\n",
    "\n",
    "    def infect(self, host):\n",
    "        self.host = host\n",
    "\n",
    "    def reproduce(self):\n",
    "        if self.host is not None:\n",
    "            self.load *= (1 + self.reproduction_rate)\n",
    "\n",
    "            return True, f\"Virus reproduced in {self.host}. Viral load: {int(self.load)}\"\n",
    "        \n",
    "        return AttributeError(\"Virus needs to infect a host before being able to reproduce.\")"
   ]
  },
  {
   "cell_type": "code",
   "execution_count": null,
   "metadata": {},
   "outputs": [],
   "source": []
  },
  {
   "cell_type": "code",
   "execution_count": 7,
   "metadata": {},
   "outputs": [],
   "source": [
    "v = Virus(\"KrsnaConsciousness\", 1.2, 1.1)"
   ]
  },
  {
   "cell_type": "code",
   "execution_count": 8,
   "metadata": {},
   "outputs": [
    {
     "data": {
      "text/plain": [
       "AttributeError('Virus needs to infect a host before being able to reproduce.')"
      ]
     },
     "execution_count": 8,
     "metadata": {},
     "output_type": "execute_result"
    }
   ],
   "source": [
    "v.reproduce()\n"
   ]
  },
  {
   "cell_type": "code",
   "execution_count": 9,
   "metadata": {},
   "outputs": [],
   "source": [
    "v.infect(\"hummans\")"
   ]
  },
  {
   "cell_type": "code",
   "execution_count": 11,
   "metadata": {},
   "outputs": [
    {
     "data": {
      "text/plain": [
       "(True, 'Virus reproduced in hummans. Viral load: 2')"
      ]
     },
     "execution_count": 11,
     "metadata": {},
     "output_type": "execute_result"
    }
   ],
   "source": [
    "v.reproduce()"
   ]
  },
  {
   "cell_type": "code",
   "execution_count": 15,
   "metadata": {},
   "outputs": [],
   "source": [
    "# Inheritance\n",
    "class RNAVirus(Virus):\n",
    "    genome = \"ribonucleic acid\"\n",
    "\n",
    "    def reproduce(self):\n",
    "        success, status =  Virus.reproduce(self)\n",
    "\n",
    "        if success:\n",
    "            print(f\"{self.name} just replicated in the cytoplasm of {self.host} cells\")\n",
    "\n",
    "\n",
    "class DNAVirus(Virus):\n",
    "    genome = \"deoxyribonucleic acid\"\n",
    "\n",
    "    def reproduce(self):\n",
    "        success, status = Virus.reproduce(self)\n",
    "\n",
    "        if success:\n",
    "            print(f\"{self.name} Just replicated in the nucleus of {self.host} cells\")\n",
    "            "
   ]
  },
  {
   "cell_type": "code",
   "execution_count": 16,
   "metadata": {},
   "outputs": [],
   "source": [
    "r = RNAVirus(\"KCON\", 1.1, 0.2)"
   ]
  },
  {
   "cell_type": "code",
   "execution_count": 18,
   "metadata": {},
   "outputs": [
    {
     "name": "stdout",
     "output_type": "stream",
     "text": [
      "KCON just replicated in the cytoplasm of monkey cells\n"
     ]
    }
   ],
   "source": [
    "r.infect(\"monkey\")\n",
    "r.reproduce()"
   ]
  },
  {
   "cell_type": "markdown",
   "metadata": {},
   "source": [
    "# Recap of What is inheritance good for?\n",
    "* One of the most important uses of inheritance is to add or modify functionality from an existing class without modifying that class.\n",
    "* One of the most important uses of inheritance is to add or modify functionality from an existing class without modifying that class. This ocntributes to code reuse  and orgranization as well as object hierarchies that are easy to reason about.\n",
    "\n",
    "* This contributes to code, reuse, and organization as well as object hierarchies that are easy to reason about.\n"
   ]
  },
  {
   "cell_type": "markdown",
   "metadata": {},
   "source": [
    "# All class inherit from object\n",
    "* All class in python are inherit from object type\n"
   ]
  },
  {
   "cell_type": "code",
   "execution_count": null,
   "metadata": {},
   "outputs": [],
   "source": [
    "class Virus:\n",
    "    pass\n",
    "\n",
    "class RNAVirus(Virus):\n",
    "    pass\n"
   ]
  },
  {
   "cell_type": "code",
   "execution_count": 19,
   "metadata": {},
   "outputs": [
    {
     "data": {
      "text/plain": [
       "object"
      ]
     },
     "execution_count": 19,
     "metadata": {},
     "output_type": "execute_result"
    }
   ],
   "source": [
    "object"
   ]
  },
  {
   "cell_type": "code",
   "execution_count": 20,
   "metadata": {},
   "outputs": [
    {
     "data": {
      "text/plain": [
       "<object at 0x7fccf4aaeb00>"
      ]
     },
     "execution_count": 20,
     "metadata": {},
     "output_type": "execute_result"
    }
   ],
   "source": [
    "object()"
   ]
  },
  {
   "cell_type": "code",
   "execution_count": 21,
   "metadata": {},
   "outputs": [],
   "source": [
    "o1 = object()\n",
    "o2 = object()"
   ]
  },
  {
   "cell_type": "code",
   "execution_count": 22,
   "metadata": {},
   "outputs": [
    {
     "data": {
      "text/plain": [
       "False"
      ]
     },
     "execution_count": 22,
     "metadata": {},
     "output_type": "execute_result"
    }
   ],
   "source": [
    "o1 is o2"
   ]
  },
  {
   "cell_type": "markdown",
   "metadata": {},
   "source": [
    "# The above defined objects are different objects\n",
    "Eventhough they are built from the same base object, they represent different constructs in memory.\n",
    "* This is quite similar to what we saw with custom class instances in the section on double underscores\n",
    "\n",
    "* All classes in python derive from object unless we override dunder EQ in one of those user defined classes, we will inherit the equality implementation from object, which relies on the ID of the instance and therefore is what we see here with two instances of the same type always comparing unequal.\n",
    "\n"
   ]
  },
  {
   "cell_type": "code",
   "execution_count": 23,
   "metadata": {},
   "outputs": [
    {
     "data": {
      "text/plain": [
       "'<object object at 0x7fccf4aaec40>'"
      ]
     },
     "execution_count": 23,
     "metadata": {},
     "output_type": "execute_result"
    }
   ],
   "source": [
    "# There is a __repr__ which gives us the default object representation.\n",
    "o1.__repr__()"
   ]
  },
  {
   "cell_type": "code",
   "execution_count": 24,
   "metadata": {},
   "outputs": [
    {
     "data": {
      "text/plain": [
       "8782390931140"
      ]
     },
     "execution_count": 24,
     "metadata": {},
     "output_type": "execute_result"
    }
   ],
   "source": [
    "o1.__hash__()"
   ]
  },
  {
   "cell_type": "code",
   "execution_count": 25,
   "metadata": {},
   "outputs": [],
   "source": [
    "# By calling class, we create instance of it.\n",
    "\n",
    "class TempVirus:\n",
    "    pass"
   ]
  },
  {
   "cell_type": "code",
   "execution_count": 26,
   "metadata": {},
   "outputs": [
    {
     "data": {
      "text/plain": [
       "[<__main__.TempVirus at 0x7fccf4b0bd60>]"
      ]
     },
     "execution_count": 26,
     "metadata": {},
     "output_type": "execute_result"
    }
   ],
   "source": [
    "[TempVirus()]"
   ]
  },
  {
   "cell_type": "code",
   "execution_count": 27,
   "metadata": {},
   "outputs": [
    {
     "data": {
      "text/plain": [
       "[<__main__.TempVirus at 0x7fccf4ac94c0>,\n",
       " <__main__.TempVirus at 0x7fccf4a9f820>,\n",
       " <__main__.TempVirus at 0x7fccf4a9f0a0>]"
      ]
     },
     "execution_count": 27,
     "metadata": {},
     "output_type": "execute_result"
    }
   ],
   "source": [
    "# if you do over and over (calling class names, we get different instances of it)\n",
    "[TempVirus() for i in range(3)]"
   ]
  },
  {
   "cell_type": "markdown",
   "metadata": {},
   "source": [
    "The reason object is callable is because its type implements __call__"
   ]
  },
  {
   "cell_type": "code",
   "execution_count": null,
   "metadata": {},
   "outputs": [],
   "source": [
    "# the below classes are completely identical and functionally equal\n",
    "\n",
    "class TempVirus:\n",
    "    pass\n",
    "\n",
    "class TempVirus(object):\n",
    "    pass\n"
   ]
  },
  {
   "cell_type": "code",
   "execution_count": 28,
   "metadata": {},
   "outputs": [
    {
     "data": {
      "text/plain": [
       "[<__main__.TempVirus at 0x7fccf4a59910>,\n",
       " <__main__.TempVirus at 0x7fccf4a59160>,\n",
       " <__main__.TempVirus at 0x7fccf4a59af0>]"
      ]
     },
     "execution_count": 28,
     "metadata": {},
     "output_type": "execute_result"
    }
   ],
   "source": [
    "[TempVirus() for i in range(3)]\n",
    "# the TempVirus is callable, because object is callable as defined above (both\n",
    "# class definitions are same).\n",
    "# object is callable is because its type implements __call__"
   ]
  },
  {
   "cell_type": "markdown",
   "metadata": {},
   "source": [
    "# All classes inherit from object\n",
    "\n",
    "Recap:\n",
    "1. all python classes implicitly inherit from object, whether that is specified in the class definition or not.\n",
    "2. this inheritance guarantees certain base behavior in all subclasses, like the fact they're callable, have some default representation, and more.\n",
    "3. All python classes implicitly inherit from object, whether that is specified in the class definition or not.\n",
    "- this inheritance gurantees certain base behavior in all subclasses, like the fact they're callable, have some default representation, and more.\n",
    "* Objects really exists to provide these reasonable, barebones defaults to all subclasses, so as to enable child classes to only customize or extend only what is relevant to the use case, rather than re-implement everything.\n"
   ]
  },
  {
   "cell_type": "markdown",
   "metadata": {},
   "source": [
    "# Method Resolution Order\n",
    "* We have seen in previous lectures and sort of relied on an interesting interplay between the methods defined in the base class and those defined in the subclass.\n",
    "\n",
    "* specifically when the methods have exactly the same name.\n",
    "\n",
    "# Attribute Lookup Rules\n",
    "1. When we reference an attribute on an object, Python first checks the instance dictionary.\n",
    "\n",
    "2. When we reference an attribute on an object, python first checks the instance dictionary, also referenced by dunder dict.\n",
    "* double underscore dictionary\n"
   ]
  },
  {
   "cell_type": "code",
   "execution_count": 29,
   "metadata": {},
   "outputs": [],
   "source": [
    "class TempVirus:\n",
    "    attr = \"some_class_attribute\"\n",
    "    attr_other = \"some_other_class_attribute\"\n",
    "\n",
    "    def __init__(self, attr):\n",
    "        self.attr = attr\n",
    "    "
   ]
  },
  {
   "cell_type": "code",
   "execution_count": 30,
   "metadata": {},
   "outputs": [
    {
     "data": {
      "text/plain": [
       "'instance_attribute'"
      ]
     },
     "execution_count": 30,
     "metadata": {},
     "output_type": "execute_result"
    }
   ],
   "source": [
    "# __dict__\n",
    "v1 = TempVirus(\"instance_attribute\")\n",
    "\n",
    "v1.attr"
   ]
  },
  {
   "cell_type": "code",
   "execution_count": 31,
   "metadata": {},
   "outputs": [
    {
     "data": {
      "text/plain": [
       "{'attr': 'instance_attribute'}"
      ]
     },
     "execution_count": 31,
     "metadata": {},
     "output_type": "execute_result"
    }
   ],
   "source": [
    "v1.__dict__"
   ]
  },
  {
   "cell_type": "markdown",
   "metadata": {},
   "source": [
    "# Note: if the attribute is not found in the instance dictionary, python then checks in the class namespace, in other words the class double underscore dict.\n",
    "# example, if we say v1.attr_other, we do get some value eventhoug we \n",
    "# or this binding is not found in the instance dictionary.\n",
    "\n",
    "# so where do you come from? Well it comes from the class namespace.\n",
    "\n",
    "So python first checks the instance, if it does not find an attribute by the name \"attr_other\", so then it goes to the type of the namespace of the type of that instance or in other words, the namespace of the class of that instance.\n",
    "- and there it finds \"attr_other\" class attribute bind to adder other and gives us that.\n",
    "-  so again this is simply equivalent to saying temp virus dot dict or alternatively v1 class dict. Okay, these are completely synonyms.\n",
    "\n",
    "\n"
   ]
  },
  {
   "cell_type": "code",
   "execution_count": 32,
   "metadata": {},
   "outputs": [
    {
     "data": {
      "text/plain": [
       "'some_other_class_attribute'"
      ]
     },
     "execution_count": 32,
     "metadata": {},
     "output_type": "execute_result"
    }
   ],
   "source": [
    "# example, if we say v1.attr_other, we do get some value eventhoug we \n",
    "# or this binding is not found in the instance dictionary.\n",
    "\n",
    "# so where do you come from? Well it comes from the class namespace.\n",
    "\n",
    "v1.attr_other"
   ]
  },
  {
   "cell_type": "code",
   "execution_count": 33,
   "metadata": {},
   "outputs": [
    {
     "data": {
      "text/plain": [
       "__main__.TempVirus"
      ]
     },
     "execution_count": 33,
     "metadata": {},
     "output_type": "execute_result"
    }
   ],
   "source": [
    "type(v1)"
   ]
  },
  {
   "cell_type": "code",
   "execution_count": 34,
   "metadata": {},
   "outputs": [
    {
     "data": {
      "text/plain": [
       "mappingproxy({'__module__': '__main__',\n",
       "              'attr': 'some_class_attribute',\n",
       "              'attr_other': 'some_other_class_attribute',\n",
       "              '__init__': <function __main__.TempVirus.__init__(self, attr)>,\n",
       "              '__dict__': <attribute '__dict__' of 'TempVirus' objects>,\n",
       "              '__weakref__': <attribute '__weakref__' of 'TempVirus' objects>,\n",
       "              '__doc__': None})"
      ]
     },
     "execution_count": 34,
     "metadata": {},
     "output_type": "execute_result"
    }
   ],
   "source": [
    "type(v1).__dict__"
   ]
  },
  {
   "cell_type": "markdown",
   "metadata": {},
   "source": [
    "TempVirus.__dict__ is synonymous to v1.__class__.__dict__"
   ]
  },
  {
   "cell_type": "code",
   "execution_count": 35,
   "metadata": {},
   "outputs": [
    {
     "data": {
      "text/plain": [
       "mappingproxy({'__module__': '__main__',\n",
       "              'attr': 'some_class_attribute',\n",
       "              'attr_other': 'some_other_class_attribute',\n",
       "              '__init__': <function __main__.TempVirus.__init__(self, attr)>,\n",
       "              '__dict__': <attribute '__dict__' of 'TempVirus' objects>,\n",
       "              '__weakref__': <attribute '__weakref__' of 'TempVirus' objects>,\n",
       "              '__doc__': None})"
      ]
     },
     "execution_count": 35,
     "metadata": {},
     "output_type": "execute_result"
    }
   ],
   "source": [
    "TempVirus.__dict__"
   ]
  },
  {
   "cell_type": "code",
   "execution_count": 36,
   "metadata": {},
   "outputs": [
    {
     "data": {
      "text/plain": [
       "mappingproxy({'__module__': '__main__',\n",
       "              'attr': 'some_class_attribute',\n",
       "              'attr_other': 'some_other_class_attribute',\n",
       "              '__init__': <function __main__.TempVirus.__init__(self, attr)>,\n",
       "              '__dict__': <attribute '__dict__' of 'TempVirus' objects>,\n",
       "              '__weakref__': <attribute '__weakref__' of 'TempVirus' objects>,\n",
       "              '__doc__': None})"
      ]
     },
     "execution_count": 36,
     "metadata": {},
     "output_type": "execute_result"
    }
   ],
   "source": [
    "v1.__class__.__dict__"
   ]
  },
  {
   "cell_type": "markdown",
   "metadata": {},
   "source": [
    "# is this the end?\n",
    "Technically no, after the class namespace, python will check the parent classes one by one up the hierarchy eventually stopping the object.\n",
    "\n",
    "* so if an attribute by that name cannot be found after all of this lookup is done, an attribute error is thrown\n",
    "\n",
    "So really, the order to remember here is as follows:\n",
    "# instance -> instance to class -> class to super class is possible if there's more than one to object else attribute error.\n",
    "\n",
    "There's always the possibility that something that we're trying to access simply does not exist. So if you want imaginary attribute throws, attribute error, why? because, it doesn't exist in the instance.\n",
    "\n",
    "# instance -> class -> superclass(s) -> object, else attribute error"
   ]
  },
  {
   "cell_type": "code",
   "execution_count": 37,
   "metadata": {},
   "outputs": [
    {
     "ename": "AttributeError",
     "evalue": "'TempVirus' object has no attribute 'imaginary'",
     "output_type": "error",
     "traceback": [
      "\u001b[0;31m---------------------------------------------------------------------------\u001b[0m",
      "\u001b[0;31mAttributeError\u001b[0m                            Traceback (most recent call last)",
      "Cell \u001b[0;32mIn[37], line 1\u001b[0m\n\u001b[0;32m----> 1\u001b[0m \u001b[43mv1\u001b[49m\u001b[38;5;241;43m.\u001b[39;49m\u001b[43mimaginary\u001b[49m\n",
      "\u001b[0;31mAttributeError\u001b[0m: 'TempVirus' object has no attribute 'imaginary'"
     ]
    }
   ],
   "source": [
    "v1.imaginary"
   ]
  },
  {
   "cell_type": "code",
   "execution_count": 38,
   "metadata": {},
   "outputs": [
    {
     "data": {
      "text/plain": [
       "(object,)"
      ]
     },
     "execution_count": 38,
     "metadata": {},
     "output_type": "execute_result"
    }
   ],
   "source": [
    "TempVirus.__bases__"
   ]
  },
  {
   "cell_type": "code",
   "execution_count": 39,
   "metadata": {},
   "outputs": [
    {
     "data": {
      "text/plain": [
       "(__main__.Virus,)"
      ]
     },
     "execution_count": 39,
     "metadata": {},
     "output_type": "execute_result"
    }
   ],
   "source": [
    "RNAVirus.__bases__"
   ]
  },
  {
   "cell_type": "code",
   "execution_count": 40,
   "metadata": {},
   "outputs": [
    {
     "data": {
      "text/plain": [
       "(__main__.RNAVirus,)"
      ]
     },
     "execution_count": 40,
     "metadata": {},
     "output_type": "execute_result"
    }
   ],
   "source": [
    "CoronaVirus.__bases__"
   ]
  },
  {
   "cell_type": "markdown",
   "metadata": {},
   "source": [
    "# double underscore bases (__bases__) simply shows the base class for a given subclass.\n",
    "* But the fuller lookup chain that we described here is visible under a different attribute called double underscore MRO\n",
    "\n",
    "# What is MRO?\n",
    "MRO stands for Method Resolution Order\n"
   ]
  },
  {
   "cell_type": "code",
   "execution_count": 41,
   "metadata": {},
   "outputs": [
    {
     "data": {
      "text/plain": [
       "(__main__.RNAVirus, __main__.Virus, object)"
      ]
     },
     "execution_count": 41,
     "metadata": {},
     "output_type": "execute_result"
    }
   ],
   "source": [
    "RNAVirus.__mro__"
   ]
  },
  {
   "cell_type": "code",
   "execution_count": 42,
   "metadata": {},
   "outputs": [
    {
     "data": {
      "text/plain": [
       "(__main__.CoronaVirus, __main__.RNAVirus, __main__.Virus, object)"
      ]
     },
     "execution_count": 42,
     "metadata": {},
     "output_type": "execute_result"
    }
   ],
   "source": [
    "CoronaVirus.__mro__"
   ]
  },
  {
   "cell_type": "markdown",
   "metadata": {},
   "source": [
    "Note: Both attributes and methods are lookedup by exactly the same rules\n",
    "* When we try to access a name from an instance, python tries to figure out what we mean. Eventually the name may be bound to a single value.\n",
    "\n",
    "* it may hold some data, for example, or to a function that is bound to an object which is all the methods are\n",
    "\n",
    "# Method Resolution Order:\n",
    "1. Attributes and method lookup follows a well defined order:\n",
    "instance -> class -> superclass -> object\n",
    "2. the lookup stops on first match, i.e., its possible for our method/attribute name to show up more than once int he lookup chain, but those later matches are not reachable; first match wins\n",
    "3. this lookup is the reason we have the ability to reference attributes or call methods defined in classes (or their parents from within instances of subclasses)\n",
    "4. the lookup could be easily sourced from the read-only __mro__attribute, available on the class.\n",
    "\n"
   ]
  },
  {
   "cell_type": "markdown",
   "metadata": {},
   "source": [
    "# Subclass Overrides\n",
    "* As we discussed in the previous lectures on MRO, descendant classes are always checked before their ancestors.\n",
    "* So when a subclass defines an attribute with the same name as one in its parent class, the method resolution will stop with the method found in the subclass.\n",
    "* So when a subclass defines an attribute with the same name as one in its parent class, the method resolution will stop with the method found in the subclass.\n",
    "\n",
    "# the first match wins\n",
    "\n",
    "When this happens, we said that the subclass is overriding the definition in the superclass, and we  saw this earlier in this section.\n"
   ]
  },
  {
   "cell_type": "code",
   "execution_count": 43,
   "metadata": {},
   "outputs": [],
   "source": [
    "class Virus:\n",
    "    def __init__(self, name, reproduction_rate, resistance):\n",
    "        self.name = name\n",
    "        self.reproduction_rate = reproduction_rate\n",
    "        self.load = 1\n",
    "        self.host = None\n",
    "\n",
    "    def infect(self, host):\n",
    "        self.host = host\n",
    "\n",
    "    def reproduce(self):\n",
    "        if self.host is not None:\n",
    "            self.load *= (1 + self.reproduction_rate)\n",
    "\n",
    "            return True, f\"Virus reproduced in {self.host}. Viral Load: {int(self.load)}\"\n",
    "        \n",
    "        raise AttributeError(\"Virus needs to infect a host before being able to reproduce\")\n",
    "    \n",
    "\n",
    "class RNAVirus(Virus):\n",
    "    genome = \"riboneucleic\"\n",
    "\n",
    "    def reproduce(self):\n",
    "        success, status = Virus.reproduce(self)\n",
    "\n",
    "        if success:\n",
    "            print(f\"{self.name} just replicated in the cytoplasm of {self.host} cells\")\n",
    "\n",
    "\n",
    "class DNAVirus(Virus):\n",
    "    genome = \"deoxyribonucleic\"\n",
    "\n",
    "    def reproduce(self):\n",
    "        success, status = Virus.reproduce(self)\n",
    "\n",
    "        if success:\n",
    "            print(f\"{self.name} just replicated in the nucleus of {self.host} cells\")\n",
    "\n",
    "            \n",
    "\n",
    "        "
   ]
  },
  {
   "cell_type": "code",
   "execution_count": 44,
   "metadata": {},
   "outputs": [],
   "source": [
    "class CoronaVirus(RNAVirus):\n",
    "    def infect(self):\n",
    "        print(\"A coronavirus specific method with a diffeent signature from the parent's\")\n",
    "\n",
    "        raise NotImplementedError()\n",
    "    \n",
    "    "
   ]
  },
  {
   "cell_type": "code",
   "execution_count": 45,
   "metadata": {},
   "outputs": [],
   "source": [
    "cv = CoronaVirus(\"Krsna Consciousness\", .1, .99)"
   ]
  },
  {
   "cell_type": "code",
   "execution_count": 46,
   "metadata": {},
   "outputs": [
    {
     "name": "stdout",
     "output_type": "stream",
     "text": [
      "A coronavirus specific method with a diffeent signature from the parent's\n"
     ]
    },
    {
     "ename": "NotImplementedError",
     "evalue": "",
     "output_type": "error",
     "traceback": [
      "\u001b[0;31m---------------------------------------------------------------------------\u001b[0m",
      "\u001b[0;31mNotImplementedError\u001b[0m                       Traceback (most recent call last)",
      "Cell \u001b[0;32mIn[46], line 1\u001b[0m\n\u001b[0;32m----> 1\u001b[0m \u001b[43mcv\u001b[49m\u001b[38;5;241;43m.\u001b[39;49m\u001b[43minfect\u001b[49m\u001b[43m(\u001b[49m\u001b[43m)\u001b[49m\n",
      "Cell \u001b[0;32mIn[44], line 5\u001b[0m, in \u001b[0;36mCoronaVirus.infect\u001b[0;34m(self)\u001b[0m\n\u001b[1;32m      2\u001b[0m \u001b[38;5;28;01mdef\u001b[39;00m \u001b[38;5;21minfect\u001b[39m(\u001b[38;5;28mself\u001b[39m):\n\u001b[1;32m      3\u001b[0m     \u001b[38;5;28mprint\u001b[39m(\u001b[38;5;124m\"\u001b[39m\u001b[38;5;124mA coronavirus specific method with a diffeent signature from the parent\u001b[39m\u001b[38;5;124m'\u001b[39m\u001b[38;5;124ms\u001b[39m\u001b[38;5;124m\"\u001b[39m)\n\u001b[0;32m----> 5\u001b[0m     \u001b[38;5;28;01mraise\u001b[39;00m \u001b[38;5;167;01mNotImplementedError\u001b[39;00m()\n",
      "\u001b[0;31mNotImplementedError\u001b[0m: "
     ]
    }
   ],
   "source": [
    "cv.infect()"
   ]
  },
  {
   "cell_type": "code",
   "execution_count": 47,
   "metadata": {},
   "outputs": [
    {
     "data": {
      "text/plain": [
       "(__main__.CoronaVirus, __main__.RNAVirus, __main__.Virus, object)"
      ]
     },
     "execution_count": 47,
     "metadata": {},
     "output_type": "execute_result"
    }
   ],
   "source": [
    "CoronaVirus.__mro__"
   ]
  },
  {
   "cell_type": "markdown",
   "metadata": {},
   "source": [
    "# Note: The subclass overridden method comes first in these classes.\n",
    "* So i think the point is clear. Sub class overriding or estending their parent's behavior, and we've described the exact plane attribute and method lookup dynamics that make this possible ofcourse, we could go beyond this and expolre other variations of this interplay between parent and child or superclasses and subclasses.\n",
    "\n",
    "# Other variations of this interplay between parent and child or superclasses and subclasses.\n",
    "\n",
    "For example: we could have methods that only the subclasses define, but the parent exclusively calls.\n"
   ]
  },
  {
   "cell_type": "markdown",
   "metadata": {},
   "source": [
    "* So this is a bit of an inversion. Conceptually, this may sound a bit mind bending. We could have methods that only the subclasses define, but the parent exclusively calls.\n"
   ]
  },
  {
   "cell_type": "code",
   "execution_count": 49,
   "metadata": {},
   "outputs": [
    {
     "name": "stdout",
     "output_type": "stream",
     "text": [
      "0\n",
      "0\n",
      "1\n",
      "0\n"
     ]
    }
   ],
   "source": [
    "from random import getrandbits\n",
    "\n",
    "for i in range(4):\n",
    "    print(getrandbits(1))"
   ]
  }
 ],
 "metadata": {
  "kernelspec": {
   "display_name": "Python 3",
   "language": "python",
   "name": "python3"
  },
  "language_info": {
   "codemirror_mode": {
    "name": "ipython",
    "version": 3
   },
   "file_extension": ".py",
   "mimetype": "text/x-python",
   "name": "python",
   "nbconvert_exporter": "python",
   "pygments_lexer": "ipython3",
   "version": "3.8.10"
  }
 },
 "nbformat": 4,
 "nbformat_minor": 2
}
