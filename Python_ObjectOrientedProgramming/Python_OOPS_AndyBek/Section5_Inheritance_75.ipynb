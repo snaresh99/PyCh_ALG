{
 "cells": [
  {
   "cell_type": "markdown",
   "metadata": {},
   "source": [
    "# Subclassing Properties\n",
    "* We will continue with SARS Cov 2 variant, but we will add a variant property that validates against the known variants of concern.\n",
    "* "
   ]
  },
  {
   "cell_type": "code",
   "execution_count": 3,
   "metadata": {},
   "outputs": [],
   "source": [
    "class Virus:\n",
    "    def __init__(self, name, reproduction_rate, resistance):\n",
    "        self.name = name\n",
    "        self.reproduction_rate = reproduction_rate\n",
    "        self.load = 1\n",
    "        self.host = None\n",
    "\n",
    "    def infect(self, host):\n",
    "        self.host = host\n",
    "\n",
    "    def reproduce(self):\n",
    "        if self.host is not None:\n",
    "            self.load *= (1 + self.reproduction_rate)\n",
    "\n",
    "            should_mutate = getrandbits(1)\n",
    "            print(f\"Should mutate: {should_mutate}\")\n",
    "\n",
    "            if should_mutate:\n",
    "                try:\n",
    "                    self.mutate()\n",
    "                except AttributeError:\n",
    "                    pass\n",
    "\n",
    "            return True, f\"Virus reproduced in {self.host}. Viral load: {int(self.load)}\"\n",
    "\n",
    "        raise AttributeError(\"Virus needs to infect a host before being able to reproduce.\")\n",
    "\n",
    "\n",
    "class RNAVirus(Virus):\n",
    "    genome = \"ribonucleic\"\n",
    "\n",
    "    def reproduce(self):\n",
    "        success, status = Virus.reproduce(self)\n",
    "\n",
    "        if success:\n",
    "            print(f\"{self.name} just replicated in the cytoplasm of {self.host} cells\")\n",
    "\n",
    "\n",
    "class DNAVirus(Virus):\n",
    "    genome = \"deoxyribonucleic\"\n",
    "\n",
    "    def reproduce(self):\n",
    "        # success, status = Virus.reproduce(self)\n",
    "        success, status = super().reproduce()\n",
    "\n",
    "        if success:\n",
    "            print(f\"{self.name} just replicated in the nucleus of {self.host} cells\")\n",
    "\n",
    "\n",
    "class Coronavirus(RNAVirus):\n",
    "    pass\n",
    "\n",
    "\n",
    "class SARSCov2(Coronavirus):\n",
    "    def __init__(self, variant):\n",
    "        super().__init__(\"SARSCovid2\", 2.49, 1.3)\n",
    "        self.variant = variant\n",
    "\n",
    "    def mutate(self):\n",
    "        print(f\"The {self.name} virus just mutated its spike protein\")"
   ]
  },
  {
   "cell_type": "code",
   "execution_count": 9,
   "metadata": {},
   "outputs": [],
   "source": [
    "class SARSCov2(Coronavirus):\n",
    "    known_variants = [\"alpha\", \"beta\", \"gamma\", \"epsilon\"]\n",
    "\n",
    "    def __init__(self, variant):\n",
    "        super().__init__(\"SARSCovid2\", 2.49, 1.3)\n",
    "        self.variant = variant\n",
    "\n",
    "    def mutate(self):\n",
    "        print(f\"The {self.name} virus just mutated its spike protien\")\n",
    "\n",
    "    @property\n",
    "    def variant(self):\n",
    "        return self._variant\n",
    "\n",
    "    @variant.setter\n",
    "    def variant(self, value):\n",
    "        if value.lower() not in self.known_variants:\n",
    "            raise ValueError(\"Expected a known variant of concern\")\n",
    "        \n",
    "        self._variant = value.lower()\n",
    "\n",
    "    \n"
   ]
  },
  {
   "cell_type": "code",
   "execution_count": 10,
   "metadata": {},
   "outputs": [],
   "source": [
    "cv = SARSCov2(\"ALPHA\")"
   ]
  },
  {
   "cell_type": "code",
   "execution_count": 11,
   "metadata": {},
   "outputs": [
    {
     "data": {
      "text/plain": [
       "{'name': 'SARSCovid2',\n",
       " 'reproduction_rate': 2.49,\n",
       " 'load': 1,\n",
       " 'host': None,\n",
       " '_variant': 'alpha'}"
      ]
     },
     "execution_count": 11,
     "metadata": {},
     "output_type": "execute_result"
    }
   ],
   "source": [
    "cv.__dict__"
   ]
  },
  {
   "cell_type": "code",
   "execution_count": 12,
   "metadata": {},
   "outputs": [
    {
     "ename": "ValueError",
     "evalue": "Expected a known variant of concern",
     "output_type": "error",
     "traceback": [
      "\u001b[0;31m---------------------------------------------------------------------------\u001b[0m",
      "\u001b[0;31mValueError\u001b[0m                                Traceback (most recent call last)",
      "Cell \u001b[0;32mIn[12], line 1\u001b[0m\n\u001b[0;32m----> 1\u001b[0m \u001b[43mcv\u001b[49m\u001b[38;5;241;43m.\u001b[39;49m\u001b[43mvariant\u001b[49m \u001b[38;5;241m=\u001b[39m \u001b[38;5;124m\"\u001b[39m\u001b[38;5;124mSomething Else\u001b[39m\u001b[38;5;124m\"\u001b[39m\n",
      "Cell \u001b[0;32mIn[9], line 18\u001b[0m, in \u001b[0;36mSARSCov2.variant\u001b[0;34m(self, value)\u001b[0m\n\u001b[1;32m     15\u001b[0m \u001b[38;5;129m@variant\u001b[39m\u001b[38;5;241m.\u001b[39msetter\n\u001b[1;32m     16\u001b[0m \u001b[38;5;28;01mdef\u001b[39;00m \u001b[38;5;21mvariant\u001b[39m(\u001b[38;5;28mself\u001b[39m, value):\n\u001b[1;32m     17\u001b[0m     \u001b[38;5;28;01mif\u001b[39;00m value\u001b[38;5;241m.\u001b[39mlower() \u001b[38;5;129;01mnot\u001b[39;00m \u001b[38;5;129;01min\u001b[39;00m \u001b[38;5;28mself\u001b[39m\u001b[38;5;241m.\u001b[39mknown_variants:\n\u001b[0;32m---> 18\u001b[0m         \u001b[38;5;28;01mraise\u001b[39;00m \u001b[38;5;167;01mValueError\u001b[39;00m(\u001b[38;5;124m\"\u001b[39m\u001b[38;5;124mExpected a known variant of concern\u001b[39m\u001b[38;5;124m\"\u001b[39m)\n\u001b[1;32m     20\u001b[0m     \u001b[38;5;28mself\u001b[39m\u001b[38;5;241m.\u001b[39m_variant \u001b[38;5;241m=\u001b[39m value\u001b[38;5;241m.\u001b[39mlower()\n",
      "\u001b[0;31mValueError\u001b[0m: Expected a known variant of concern"
     ]
    }
   ],
   "source": [
    "cv.variant = \"Something Else\""
   ]
  },
  {
   "cell_type": "code",
   "execution_count": 13,
   "metadata": {},
   "outputs": [],
   "source": [
    "cv.variant = \"beta\""
   ]
  },
  {
   "cell_type": "code",
   "execution_count": 14,
   "metadata": {},
   "outputs": [
    {
     "data": {
      "text/plain": [
       "'beta'"
      ]
     },
     "execution_count": 14,
     "metadata": {},
     "output_type": "execute_result"
    }
   ],
   "source": [
    "cv.variant"
   ]
  },
  {
   "cell_type": "code",
   "execution_count": null,
   "metadata": {},
   "outputs": [],
   "source": [
    "class DoubleMutant(SARSCov2):\n",
    "    pass"
   ]
  },
  {
   "cell_type": "markdown",
   "metadata": {},
   "source": [
    "Note: The variant property is not known to the subclass.\n"
   ]
  },
  {
   "cell_type": "code",
   "execution_count": null,
   "metadata": {},
   "outputs": [],
   "source": []
  }
 ],
 "metadata": {
  "kernelspec": {
   "display_name": "Python 3",
   "language": "python",
   "name": "python3"
  },
  "language_info": {
   "codemirror_mode": {
    "name": "ipython",
    "version": 3
   },
   "file_extension": ".py",
   "mimetype": "text/x-python",
   "name": "python",
   "nbconvert_exporter": "python",
   "pygments_lexer": "ipython3",
   "version": "3.8.10"
  }
 },
 "nbformat": 4,
 "nbformat_minor": 2
}
