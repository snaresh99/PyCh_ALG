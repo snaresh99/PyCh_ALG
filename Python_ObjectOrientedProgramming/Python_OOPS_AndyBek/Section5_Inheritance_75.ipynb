{
 "cells": [
  {
   "cell_type": "markdown",
   "metadata": {},
   "source": [
    "# Subclassing Properties\n",
    "* We will continue with SARS Cov 2 variant, but we will add a variant property that validates against the known variants of concern.\n",
    "* "
   ]
  },
  {
   "cell_type": "code",
   "execution_count": 3,
   "metadata": {},
   "outputs": [],
   "source": [
    "class Virus:\n",
    "    def __init__(self, name, reproduction_rate, resistance):\n",
    "        self.name = name\n",
    "        self.reproduction_rate = reproduction_rate\n",
    "        self.load = 1\n",
    "        self.host = None\n",
    "\n",
    "    def infect(self, host):\n",
    "        self.host = host\n",
    "\n",
    "    def reproduce(self):\n",
    "        if self.host is not None:\n",
    "            self.load *= (1 + self.reproduction_rate)\n",
    "\n",
    "            should_mutate = getrandbits(1)\n",
    "            print(f\"Should mutate: {should_mutate}\")\n",
    "\n",
    "            if should_mutate:\n",
    "                try:\n",
    "                    self.mutate()\n",
    "                except AttributeError:\n",
    "                    pass\n",
    "\n",
    "            return True, f\"Virus reproduced in {self.host}. Viral load: {int(self.load)}\"\n",
    "\n",
    "        raise AttributeError(\"Virus needs to infect a host before being able to reproduce.\")\n",
    "\n",
    "\n",
    "class RNAVirus(Virus):\n",
    "    genome = \"ribonucleic\"\n",
    "\n",
    "    def reproduce(self):\n",
    "        success, status = Virus.reproduce(self)\n",
    "\n",
    "        if success:\n",
    "            print(f\"{self.name} just replicated in the cytoplasm of {self.host} cells\")\n",
    "\n",
    "\n",
    "class DNAVirus(Virus):\n",
    "    genome = \"deoxyribonucleic\"\n",
    "\n",
    "    def reproduce(self):\n",
    "        # success, status = Virus.reproduce(self)\n",
    "        success, status = super().reproduce()\n",
    "\n",
    "        if success:\n",
    "            print(f\"{self.name} just replicated in the nucleus of {self.host} cells\")\n",
    "\n",
    "\n",
    "class Coronavirus(RNAVirus):\n",
    "    pass\n",
    "\n",
    "\n",
    "class SARSCov2(Coronavirus):\n",
    "    def __init__(self, variant):\n",
    "        super().__init__(\"SARSCovid2\", 2.49, 1.3)\n",
    "        self.variant = variant\n",
    "\n",
    "    def mutate(self):\n",
    "        print(f\"The {self.name} virus just mutated its spike protein\")"
   ]
  },
  {
   "cell_type": "code",
   "execution_count": 9,
   "metadata": {},
   "outputs": [],
   "source": [
    "class SARSCov2(Coronavirus):\n",
    "    known_variants = [\"alpha\", \"beta\", \"gamma\", \"epsilon\"]\n",
    "\n",
    "    def __init__(self, variant):\n",
    "        super().__init__(\"SARSCovid2\", 2.49, 1.3)\n",
    "        self.variant = variant\n",
    "\n",
    "    def mutate(self):\n",
    "        print(f\"The {self.name} virus just mutated its spike protien\")\n",
    "\n",
    "    @property\n",
    "    def variant(self):\n",
    "        return self._variant\n",
    "\n",
    "    @variant.setter\n",
    "    def variant(self, value):\n",
    "        if value.lower() not in self.known_variants:\n",
    "            raise ValueError(\"Expected a known variant of concern\")\n",
    "        \n",
    "        self._variant = value.lower()\n",
    "\n",
    "    \n"
   ]
  },
  {
   "cell_type": "code",
   "execution_count": 10,
   "metadata": {},
   "outputs": [],
   "source": [
    "cv = SARSCov2(\"ALPHA\")"
   ]
  },
  {
   "cell_type": "code",
   "execution_count": 11,
   "metadata": {},
   "outputs": [
    {
     "data": {
      "text/plain": [
       "{'name': 'SARSCovid2',\n",
       " 'reproduction_rate': 2.49,\n",
       " 'load': 1,\n",
       " 'host': None,\n",
       " '_variant': 'alpha'}"
      ]
     },
     "execution_count": 11,
     "metadata": {},
     "output_type": "execute_result"
    }
   ],
   "source": [
    "cv.__dict__"
   ]
  },
  {
   "cell_type": "code",
   "execution_count": 12,
   "metadata": {},
   "outputs": [
    {
     "ename": "ValueError",
     "evalue": "Expected a known variant of concern",
     "output_type": "error",
     "traceback": [
      "\u001b[0;31m---------------------------------------------------------------------------\u001b[0m",
      "\u001b[0;31mValueError\u001b[0m                                Traceback (most recent call last)",
      "Cell \u001b[0;32mIn[12], line 1\u001b[0m\n\u001b[0;32m----> 1\u001b[0m \u001b[43mcv\u001b[49m\u001b[38;5;241;43m.\u001b[39;49m\u001b[43mvariant\u001b[49m \u001b[38;5;241m=\u001b[39m \u001b[38;5;124m\"\u001b[39m\u001b[38;5;124mSomething Else\u001b[39m\u001b[38;5;124m\"\u001b[39m\n",
      "Cell \u001b[0;32mIn[9], line 18\u001b[0m, in \u001b[0;36mSARSCov2.variant\u001b[0;34m(self, value)\u001b[0m\n\u001b[1;32m     15\u001b[0m \u001b[38;5;129m@variant\u001b[39m\u001b[38;5;241m.\u001b[39msetter\n\u001b[1;32m     16\u001b[0m \u001b[38;5;28;01mdef\u001b[39;00m \u001b[38;5;21mvariant\u001b[39m(\u001b[38;5;28mself\u001b[39m, value):\n\u001b[1;32m     17\u001b[0m     \u001b[38;5;28;01mif\u001b[39;00m value\u001b[38;5;241m.\u001b[39mlower() \u001b[38;5;129;01mnot\u001b[39;00m \u001b[38;5;129;01min\u001b[39;00m \u001b[38;5;28mself\u001b[39m\u001b[38;5;241m.\u001b[39mknown_variants:\n\u001b[0;32m---> 18\u001b[0m         \u001b[38;5;28;01mraise\u001b[39;00m \u001b[38;5;167;01mValueError\u001b[39;00m(\u001b[38;5;124m\"\u001b[39m\u001b[38;5;124mExpected a known variant of concern\u001b[39m\u001b[38;5;124m\"\u001b[39m)\n\u001b[1;32m     20\u001b[0m     \u001b[38;5;28mself\u001b[39m\u001b[38;5;241m.\u001b[39m_variant \u001b[38;5;241m=\u001b[39m value\u001b[38;5;241m.\u001b[39mlower()\n",
      "\u001b[0;31mValueError\u001b[0m: Expected a known variant of concern"
     ]
    }
   ],
   "source": [
    "cv.variant = \"Something Else\""
   ]
  },
  {
   "cell_type": "code",
   "execution_count": 13,
   "metadata": {},
   "outputs": [],
   "source": [
    "cv.variant = \"beta\""
   ]
  },
  {
   "cell_type": "code",
   "execution_count": 14,
   "metadata": {},
   "outputs": [
    {
     "data": {
      "text/plain": [
       "'beta'"
      ]
     },
     "execution_count": 14,
     "metadata": {},
     "output_type": "execute_result"
    }
   ],
   "source": [
    "cv.variant"
   ]
  },
  {
   "cell_type": "code",
   "execution_count": null,
   "metadata": {},
   "outputs": [],
   "source": [
    "class DoubleMutant(SARSCov2):\n",
    "    pass"
   ]
  },
  {
   "cell_type": "markdown",
   "metadata": {},
   "source": [
    "Note: The variant property is not known to the subclass.\n"
   ]
  },
  {
   "cell_type": "markdown",
   "metadata": {},
   "source": [
    "# Inheritance \n",
    "class -> object\n",
    "As we've seen throughout this course, the lifeblood of object oriented programming are objects, and objects are instantiated from classes which act as a blueprint that define theattributes and behaviors.\n",
    "\n",
    "* Objects are instantiated from classes which act as a blueprint that define the attributes and behaviors that certain type of object should have.\n",
    "* inheritance allows us to extend this framework.\n",
    "* Inheritance is an object oriented programming concept that offers us a mechanism to create a new classes that derive behavior and attributes from another class without needeing to implement and rewrite everything from the scratch.\n",
    "* The way we define class relationship via inheritance is by specifying the class that we're inheriting from the parentheses at class definition.\n",
    "\n"
   ]
  },
  {
   "cell_type": "code",
   "execution_count": 2,
   "metadata": {},
   "outputs": [],
   "source": [
    "# Super class, base class, or parent class\n",
    "\n",
    "class Virus:\n",
    "    pass\n",
    "\n",
    "# Derived class, subclass, subtype, or child class\n",
    "class RNAVirus(Virus):\n",
    "    pass\n",
    "\n",
    "class CoronaVirus(RNAVirus):\n",
    "    pass\n",
    "\n",
    "class SARSCov2(CoronaVirus):\n",
    "    pass\n"
   ]
  },
  {
   "cell_type": "code",
   "execution_count": 3,
   "metadata": {},
   "outputs": [
    {
     "data": {
      "text/plain": [
       "True"
      ]
     },
     "execution_count": 3,
     "metadata": {},
     "output_type": "execute_result"
    }
   ],
   "source": [
    "issubclass(SARSCov2, CoronaVirus)"
   ]
  },
  {
   "cell_type": "code",
   "execution_count": 4,
   "metadata": {},
   "outputs": [
    {
     "data": {
      "text/plain": [
       "True"
      ]
     },
     "execution_count": 4,
     "metadata": {},
     "output_type": "execute_result"
    }
   ],
   "source": [
    "issubclass(SARSCov2, Virus)"
   ]
  },
  {
   "cell_type": "markdown",
   "metadata": {},
   "source": [
    "RNAVirus class inherits from Virus class\n",
    "\n",
    "RNAVirus class is called as derived class or subclass or child class \n",
    "* so when we use inheritance, we establish a subclass super class terminology. We use inheritance, we establish a subclass super class terminology. We establish some sort of hierarchy.\n",
    "- We establish some sort of hierarchy.\n",
    "- In other words, these hierarchies are most meaningful when they help us define \"is a\" relationship.\n",
    "- In otherwords, these hierarchies are most meaningful, when they help us define is a relationships. \n",
    "\n",
    "# Inheritance helps us define \"is a\" relationship\n",
    "\n"
   ]
  },
  {
   "cell_type": "markdown",
   "metadata": {},
   "source": [
    "# Inheritance helps us to create some sort of Transitive Relation or Transitivity\n",
    "What is transitive relation?\n",
    "* In mathematics, a relation R on a set X is transitive if, for all elements a, b, c in X whenever R releates a to b and b to c, then R also relates a to c. Each partial order as well as each equivalence relation needs to be transitive.\n",
    "\n",
    "# REcap of Inheritance\n",
    "1. Inheritance offers us a mechanism for creating new classes that modify or extend the behavior of existing classes.\n",
    "2. Inheritance establishes hierarchies between classes, e.g., super/base/parent class -> sub/child clsas.\n",
    "3. well designed inheritance hierarchies define is a relationships between classes.\n",
    "\n",
    "# What is inheritance good for?\n",
    "The single most obvious and simple use of inheritance is to extend the functionality of an existing class without duplicating code or needing to modify that existing class.\n",
    "- The single most obvious and simple use of inheritance is to extend the functionality of an existing clsas without duplicating code or needing to modify that existing class."
   ]
  },
  {
   "cell_type": "code",
   "execution_count": 6,
   "metadata": {},
   "outputs": [],
   "source": [
    "class Virus:\n",
    "    # name: \n",
    "    # reproduction_rate\n",
    "    # resistance \n",
    "    # host \n",
    "    # viral_log\n",
    "\n",
    "    def __init__(self, name, reproduction_rate, resistance):\n",
    "        self.name = name\n",
    "        self.reproduction_rate = reproduction_rate\n",
    "        self.load = 1\n",
    "        self.host = None\n",
    "\n",
    "    def infect(self, host):\n",
    "        self.host = host\n",
    "\n",
    "    def reproduce(self):\n",
    "        if self.host is not None:\n",
    "            self.load *= (1 + self.reproduction_rate)\n",
    "\n",
    "            return True, f\"Virus reproduced in {self.host}. Viral load: {int(self.load)}\"\n",
    "        \n",
    "        return AttributeError(\"Virus needs to infect a host before being able to reproduce.\")"
   ]
  },
  {
   "cell_type": "code",
   "execution_count": null,
   "metadata": {},
   "outputs": [],
   "source": []
  },
  {
   "cell_type": "code",
   "execution_count": 7,
   "metadata": {},
   "outputs": [],
   "source": [
    "v = Virus(\"KrsnaConsciousness\", 1.2, 1.1)"
   ]
  },
  {
   "cell_type": "code",
   "execution_count": 8,
   "metadata": {},
   "outputs": [
    {
     "data": {
      "text/plain": [
       "AttributeError('Virus needs to infect a host before being able to reproduce.')"
      ]
     },
     "execution_count": 8,
     "metadata": {},
     "output_type": "execute_result"
    }
   ],
   "source": [
    "v.reproduce()\n"
   ]
  },
  {
   "cell_type": "code",
   "execution_count": 9,
   "metadata": {},
   "outputs": [],
   "source": [
    "v.infect(\"hummans\")"
   ]
  },
  {
   "cell_type": "code",
   "execution_count": 11,
   "metadata": {},
   "outputs": [
    {
     "data": {
      "text/plain": [
       "(True, 'Virus reproduced in hummans. Viral load: 2')"
      ]
     },
     "execution_count": 11,
     "metadata": {},
     "output_type": "execute_result"
    }
   ],
   "source": [
    "v.reproduce()"
   ]
  },
  {
   "cell_type": "code",
   "execution_count": 15,
   "metadata": {},
   "outputs": [],
   "source": [
    "# Inheritance\n",
    "class RNAVirus(Virus):\n",
    "    genome = \"ribonucleic acid\"\n",
    "\n",
    "    def reproduce(self):\n",
    "        success, status =  Virus.reproduce(self)\n",
    "\n",
    "        if success:\n",
    "            print(f\"{self.name} just replicated in the cytoplasm of {self.host} cells\")\n",
    "\n",
    "\n",
    "class DNAVirus(Virus):\n",
    "    genome = \"deoxyribonucleic acid\"\n",
    "\n",
    "    def reproduce(self):\n",
    "        success, status = Virus.reproduce(self)\n",
    "\n",
    "        if success:\n",
    "            print(f\"{self.name} Just replicated in the nucleus of {self.host} cells\")\n",
    "            "
   ]
  },
  {
   "cell_type": "code",
   "execution_count": 16,
   "metadata": {},
   "outputs": [],
   "source": [
    "r = RNAVirus(\"KCON\", 1.1, 0.2)"
   ]
  },
  {
   "cell_type": "code",
   "execution_count": 18,
   "metadata": {},
   "outputs": [
    {
     "name": "stdout",
     "output_type": "stream",
     "text": [
      "KCON just replicated in the cytoplasm of monkey cells\n"
     ]
    }
   ],
   "source": [
    "r.infect(\"monkey\")\n",
    "r.reproduce()"
   ]
  },
  {
   "cell_type": "markdown",
   "metadata": {},
   "source": [
    "# Recap of What is inheritance good for?\n",
    "* One of the most important uses of inheritance is to add or modify functionality from an existing class without modifying that class.\n",
    "* One of the most important uses of inheritance is to add or modify functionality from an existing class without modifying that class. This ocntributes to code reuse  and orgranization as well as object hierarchies that are easy to reason about.\n",
    "\n",
    "* This contributes to code, reuse, and organization as well as object hierarchies that are easy to reason about.\n"
   ]
  },
  {
   "cell_type": "markdown",
   "metadata": {},
   "source": [
    "# All class inherit from object\n",
    "* All class in python are inherit from object type\n"
   ]
  },
  {
   "cell_type": "code",
   "execution_count": null,
   "metadata": {},
   "outputs": [],
   "source": [
    "class Virus:\n",
    "    pass\n",
    "\n",
    "class RNAVirus(Virus):\n",
    "    pass\n"
   ]
  },
  {
   "cell_type": "code",
   "execution_count": 19,
   "metadata": {},
   "outputs": [
    {
     "data": {
      "text/plain": [
       "object"
      ]
     },
     "execution_count": 19,
     "metadata": {},
     "output_type": "execute_result"
    }
   ],
   "source": [
    "object"
   ]
  },
  {
   "cell_type": "code",
   "execution_count": 20,
   "metadata": {},
   "outputs": [
    {
     "data": {
      "text/plain": [
       "<object at 0x7fccf4aaeb00>"
      ]
     },
     "execution_count": 20,
     "metadata": {},
     "output_type": "execute_result"
    }
   ],
   "source": [
    "object()"
   ]
  },
  {
   "cell_type": "code",
   "execution_count": 21,
   "metadata": {},
   "outputs": [],
   "source": [
    "o1 = object()\n",
    "o2 = object()"
   ]
  },
  {
   "cell_type": "code",
   "execution_count": 22,
   "metadata": {},
   "outputs": [
    {
     "data": {
      "text/plain": [
       "False"
      ]
     },
     "execution_count": 22,
     "metadata": {},
     "output_type": "execute_result"
    }
   ],
   "source": [
    "o1 is o2"
   ]
  },
  {
   "cell_type": "markdown",
   "metadata": {},
   "source": [
    "# The above defined objects are different objects\n",
    "Eventhough they are built from the same base object, they represent different constructs in memory.\n",
    "* This is quite similar to what we saw with custom class instances in the section on double underscores\n",
    "\n",
    "* All classes in python derive from object unless we override dunder EQ in one of those user defined classes, we will inherit the equality implementation from object, which relies on the ID of the instance and therefore is what we see here with two instances of the same type always comparing unequal.\n",
    "\n"
   ]
  },
  {
   "cell_type": "code",
   "execution_count": 23,
   "metadata": {},
   "outputs": [
    {
     "data": {
      "text/plain": [
       "'<object object at 0x7fccf4aaec40>'"
      ]
     },
     "execution_count": 23,
     "metadata": {},
     "output_type": "execute_result"
    }
   ],
   "source": [
    "# There is a __repr__ which gives us the default object representation.\n",
    "o1.__repr__()"
   ]
  },
  {
   "cell_type": "code",
   "execution_count": 24,
   "metadata": {},
   "outputs": [
    {
     "data": {
      "text/plain": [
       "8782390931140"
      ]
     },
     "execution_count": 24,
     "metadata": {},
     "output_type": "execute_result"
    }
   ],
   "source": [
    "o1.__hash__()"
   ]
  },
  {
   "cell_type": "code",
   "execution_count": 25,
   "metadata": {},
   "outputs": [],
   "source": [
    "# By calling class, we create instance of it.\n",
    "\n",
    "class TempVirus:\n",
    "    pass"
   ]
  },
  {
   "cell_type": "code",
   "execution_count": 26,
   "metadata": {},
   "outputs": [
    {
     "data": {
      "text/plain": [
       "[<__main__.TempVirus at 0x7fccf4b0bd60>]"
      ]
     },
     "execution_count": 26,
     "metadata": {},
     "output_type": "execute_result"
    }
   ],
   "source": [
    "[TempVirus()]"
   ]
  },
  {
   "cell_type": "code",
   "execution_count": 27,
   "metadata": {},
   "outputs": [
    {
     "data": {
      "text/plain": [
       "[<__main__.TempVirus at 0x7fccf4ac94c0>,\n",
       " <__main__.TempVirus at 0x7fccf4a9f820>,\n",
       " <__main__.TempVirus at 0x7fccf4a9f0a0>]"
      ]
     },
     "execution_count": 27,
     "metadata": {},
     "output_type": "execute_result"
    }
   ],
   "source": [
    "# if you do over and over (calling class names, we get different instances of it)\n",
    "[TempVirus() for i in range(3)]"
   ]
  },
  {
   "cell_type": "markdown",
   "metadata": {},
   "source": [
    "The reason object is callable is because its type implements __call__"
   ]
  },
  {
   "cell_type": "code",
   "execution_count": null,
   "metadata": {},
   "outputs": [],
   "source": [
    "# the below classes are completely identical and functionally equal\n",
    "\n",
    "class TempVirus:\n",
    "    pass\n",
    "\n",
    "class TempVirus(object):\n",
    "    pass\n"
   ]
  },
  {
   "cell_type": "code",
   "execution_count": 28,
   "metadata": {},
   "outputs": [
    {
     "data": {
      "text/plain": [
       "[<__main__.TempVirus at 0x7fccf4a59910>,\n",
       " <__main__.TempVirus at 0x7fccf4a59160>,\n",
       " <__main__.TempVirus at 0x7fccf4a59af0>]"
      ]
     },
     "execution_count": 28,
     "metadata": {},
     "output_type": "execute_result"
    }
   ],
   "source": [
    "[TempVirus() for i in range(3)]\n",
    "# the TempVirus is callable, because object is callable as defined above (both\n",
    "# class definitions are same).\n",
    "# object is callable is because its type implements __call__"
   ]
  },
  {
   "cell_type": "markdown",
   "metadata": {},
   "source": [
    "# All classes inherit from object\n",
    "\n",
    "Recap:\n",
    "1. all python classes implicitly inherit from object, whether that is specified in the class definition or not.\n",
    "2. this inheritance guarantees certain base behavior in all subclasses, like the fact they're callable, have some default representation, and more.\n",
    "3. All python classes implicitly inherit from object, whether that is specified in the class definition or not.\n",
    "- this inheritance gurantees certain base behavior in all subclasses, like the fact they're callable, have some default representation, and more.\n",
    "* Objects really exists to provide these reasonable, barebones defaults to all subclasses, so as to enable child classes to only customize or extend only what is relevant to the use case, rather than re-implement everything.\n"
   ]
  },
  {
   "cell_type": "markdown",
   "metadata": {},
   "source": [
    "# Method Resolution Order\n",
    "* We have seen in previous lectures and sort of relied on an interesting interplay between the methods defined in the base class and those defined in the subclass.\n",
    "\n",
    "* specifically when the methods have exactly the same name.\n",
    "\n",
    "# Attribute Lookup Rules\n",
    "1. When we reference an attribute on an object, Python first checks the instance dictionary.\n",
    "\n",
    "2. When we reference an attribute on an object, python first checks the instance dictionary, also referenced by dunder dict.\n",
    "* double underscore dictionary\n"
   ]
  },
  {
   "cell_type": "code",
   "execution_count": 29,
   "metadata": {},
   "outputs": [],
   "source": [
    "class TempVirus:\n",
    "    attr = \"some_class_attribute\"\n",
    "    attr_other = \"some_other_class_attribute\"\n",
    "\n",
    "    def __init__(self, attr):\n",
    "        self.attr = attr\n",
    "    "
   ]
  },
  {
   "cell_type": "code",
   "execution_count": 30,
   "metadata": {},
   "outputs": [
    {
     "data": {
      "text/plain": [
       "'instance_attribute'"
      ]
     },
     "execution_count": 30,
     "metadata": {},
     "output_type": "execute_result"
    }
   ],
   "source": [
    "# __dict__\n",
    "v1 = TempVirus(\"instance_attribute\")\n",
    "\n",
    "v1.attr"
   ]
  },
  {
   "cell_type": "code",
   "execution_count": 31,
   "metadata": {},
   "outputs": [
    {
     "data": {
      "text/plain": [
       "{'attr': 'instance_attribute'}"
      ]
     },
     "execution_count": 31,
     "metadata": {},
     "output_type": "execute_result"
    }
   ],
   "source": [
    "v1.__dict__"
   ]
  },
  {
   "cell_type": "markdown",
   "metadata": {},
   "source": [
    "# Note: if the attribute is not found in the instance dictionary, python then checks in the class namespace, in other words the class double underscore dict.\n",
    "# example, if we say v1.attr_other, we do get some value eventhoug we \n",
    "# or this binding is not found in the instance dictionary.\n",
    "\n",
    "# so where do you come from? Well it comes from the class namespace.\n",
    "\n",
    "So python first checks the instance, if it does not find an attribute by the name \"attr_other\", so then it goes to the type of the namespace of the type of that instance or in other words, the namespace of the class of that instance.\n",
    "- and there it finds \"attr_other\" class attribute bind to adder other and gives us that.\n",
    "-  so again this is simply equivalent to saying temp virus dot dict or alternatively v1 class dict. Okay, these are completely synonyms.\n",
    "\n",
    "\n"
   ]
  },
  {
   "cell_type": "code",
   "execution_count": 32,
   "metadata": {},
   "outputs": [
    {
     "data": {
      "text/plain": [
       "'some_other_class_attribute'"
      ]
     },
     "execution_count": 32,
     "metadata": {},
     "output_type": "execute_result"
    }
   ],
   "source": [
    "# example, if we say v1.attr_other, we do get some value eventhoug we \n",
    "# or this binding is not found in the instance dictionary.\n",
    "\n",
    "# so where do you come from? Well it comes from the class namespace.\n",
    "\n",
    "v1.attr_other"
   ]
  },
  {
   "cell_type": "code",
   "execution_count": 33,
   "metadata": {},
   "outputs": [
    {
     "data": {
      "text/plain": [
       "__main__.TempVirus"
      ]
     },
     "execution_count": 33,
     "metadata": {},
     "output_type": "execute_result"
    }
   ],
   "source": [
    "type(v1)"
   ]
  },
  {
   "cell_type": "code",
   "execution_count": 34,
   "metadata": {},
   "outputs": [
    {
     "data": {
      "text/plain": [
       "mappingproxy({'__module__': '__main__',\n",
       "              'attr': 'some_class_attribute',\n",
       "              'attr_other': 'some_other_class_attribute',\n",
       "              '__init__': <function __main__.TempVirus.__init__(self, attr)>,\n",
       "              '__dict__': <attribute '__dict__' of 'TempVirus' objects>,\n",
       "              '__weakref__': <attribute '__weakref__' of 'TempVirus' objects>,\n",
       "              '__doc__': None})"
      ]
     },
     "execution_count": 34,
     "metadata": {},
     "output_type": "execute_result"
    }
   ],
   "source": [
    "type(v1).__dict__"
   ]
  },
  {
   "cell_type": "markdown",
   "metadata": {},
   "source": [
    "TempVirus.__dict__ is synonymous to v1.__class__.__dict__"
   ]
  },
  {
   "cell_type": "code",
   "execution_count": 35,
   "metadata": {},
   "outputs": [
    {
     "data": {
      "text/plain": [
       "mappingproxy({'__module__': '__main__',\n",
       "              'attr': 'some_class_attribute',\n",
       "              'attr_other': 'some_other_class_attribute',\n",
       "              '__init__': <function __main__.TempVirus.__init__(self, attr)>,\n",
       "              '__dict__': <attribute '__dict__' of 'TempVirus' objects>,\n",
       "              '__weakref__': <attribute '__weakref__' of 'TempVirus' objects>,\n",
       "              '__doc__': None})"
      ]
     },
     "execution_count": 35,
     "metadata": {},
     "output_type": "execute_result"
    }
   ],
   "source": [
    "TempVirus.__dict__"
   ]
  },
  {
   "cell_type": "code",
   "execution_count": 36,
   "metadata": {},
   "outputs": [
    {
     "data": {
      "text/plain": [
       "mappingproxy({'__module__': '__main__',\n",
       "              'attr': 'some_class_attribute',\n",
       "              'attr_other': 'some_other_class_attribute',\n",
       "              '__init__': <function __main__.TempVirus.__init__(self, attr)>,\n",
       "              '__dict__': <attribute '__dict__' of 'TempVirus' objects>,\n",
       "              '__weakref__': <attribute '__weakref__' of 'TempVirus' objects>,\n",
       "              '__doc__': None})"
      ]
     },
     "execution_count": 36,
     "metadata": {},
     "output_type": "execute_result"
    }
   ],
   "source": [
    "v1.__class__.__dict__"
   ]
  },
  {
   "cell_type": "markdown",
   "metadata": {},
   "source": [
    "# is this the end?\n",
    "Technically no, after the class namespace, python will check the parent classes one by one up the hierarchy eventually stopping the object.\n",
    "\n",
    "* so if an attribute by that name cannot be found after all of this lookup is done, an attribute error is thrown\n",
    "\n",
    "So really, the order to remember here is as follows:\n",
    "# instance -> instance to class -> class to super class is possible if there's more than one to object else attribute error.\n",
    "\n",
    "There's always the possibility that something that we're trying to access simply does not exist. So if you want imaginary attribute throws, attribute error, why? because, it doesn't exist in the instance.\n",
    "\n",
    "# instance -> class -> superclass(s) -> object, else attribute error"
   ]
  },
  {
   "cell_type": "code",
   "execution_count": 37,
   "metadata": {},
   "outputs": [
    {
     "ename": "AttributeError",
     "evalue": "'TempVirus' object has no attribute 'imaginary'",
     "output_type": "error",
     "traceback": [
      "\u001b[0;31m---------------------------------------------------------------------------\u001b[0m",
      "\u001b[0;31mAttributeError\u001b[0m                            Traceback (most recent call last)",
      "Cell \u001b[0;32mIn[37], line 1\u001b[0m\n\u001b[0;32m----> 1\u001b[0m \u001b[43mv1\u001b[49m\u001b[38;5;241;43m.\u001b[39;49m\u001b[43mimaginary\u001b[49m\n",
      "\u001b[0;31mAttributeError\u001b[0m: 'TempVirus' object has no attribute 'imaginary'"
     ]
    }
   ],
   "source": [
    "v1.imaginary"
   ]
  },
  {
   "cell_type": "code",
   "execution_count": 38,
   "metadata": {},
   "outputs": [
    {
     "data": {
      "text/plain": [
       "(object,)"
      ]
     },
     "execution_count": 38,
     "metadata": {},
     "output_type": "execute_result"
    }
   ],
   "source": [
    "TempVirus.__bases__"
   ]
  },
  {
   "cell_type": "code",
   "execution_count": 39,
   "metadata": {},
   "outputs": [
    {
     "data": {
      "text/plain": [
       "(__main__.Virus,)"
      ]
     },
     "execution_count": 39,
     "metadata": {},
     "output_type": "execute_result"
    }
   ],
   "source": [
    "RNAVirus.__bases__"
   ]
  },
  {
   "cell_type": "code",
   "execution_count": 40,
   "metadata": {},
   "outputs": [
    {
     "data": {
      "text/plain": [
       "(__main__.RNAVirus,)"
      ]
     },
     "execution_count": 40,
     "metadata": {},
     "output_type": "execute_result"
    }
   ],
   "source": [
    "CoronaVirus.__bases__"
   ]
  },
  {
   "cell_type": "markdown",
   "metadata": {},
   "source": [
    "# double underscore bases (__bases__) simply shows the base class for a given subclass.\n",
    "* But the fuller lookup chain that we described here is visible under a different attribute called double underscore MRO\n",
    "\n",
    "# What is MRO?\n",
    "MRO stands for Method Resolution Order\n"
   ]
  },
  {
   "cell_type": "code",
   "execution_count": 41,
   "metadata": {},
   "outputs": [
    {
     "data": {
      "text/plain": [
       "(__main__.RNAVirus, __main__.Virus, object)"
      ]
     },
     "execution_count": 41,
     "metadata": {},
     "output_type": "execute_result"
    }
   ],
   "source": [
    "RNAVirus.__mro__"
   ]
  },
  {
   "cell_type": "code",
   "execution_count": 42,
   "metadata": {},
   "outputs": [
    {
     "data": {
      "text/plain": [
       "(__main__.CoronaVirus, __main__.RNAVirus, __main__.Virus, object)"
      ]
     },
     "execution_count": 42,
     "metadata": {},
     "output_type": "execute_result"
    }
   ],
   "source": [
    "CoronaVirus.__mro__"
   ]
  },
  {
   "cell_type": "markdown",
   "metadata": {},
   "source": [
    "Note: Both attributes and methods are lookedup by exactly the same rules\n",
    "* When we try to access a name from an instance, python tries to figure out what we mean. Eventually the name may be bound to a single value.\n",
    "\n",
    "* it may hold some data, for example, or to a function that is bound to an object which is all the methods are\n",
    "\n",
    "# Method Resolution Order:\n",
    "1. Attributes and method lookup follows a well defined order:\n",
    "instance -> class -> superclass -> object\n",
    "2. the lookup stops on first match, i.e., its possible for our method/attribute name to show up more than once int he lookup chain, but those later matches are not reachable; first match wins\n",
    "3. this lookup is the reason we have the ability to reference attributes or call methods defined in classes (or their parents from within instances of subclasses)\n",
    "4. the lookup could be easily sourced from the read-only __mro__attribute, available on the class.\n",
    "\n"
   ]
  },
  {
   "cell_type": "markdown",
   "metadata": {},
   "source": [
    "# Subclass Overrides\n",
    "* As we discussed in the previous lectures on MRO, descendant classes are always checked before their ancestors.\n",
    "* So when a subclass defines an attribute with the same name as one in its parent class, the method resolution will stop with the method found in the subclass.\n",
    "* So when a subclass defines an attribute with the same name as one in its parent class, the method resolution will stop with the method found in the subclass.\n",
    "\n",
    "# the first match wins\n",
    "\n",
    "When this happens, we said that the subclass is overriding the definition in the superclass, and we  saw this earlier in this section.\n"
   ]
  },
  {
   "cell_type": "code",
   "execution_count": 43,
   "metadata": {},
   "outputs": [],
   "source": [
    "class Virus:\n",
    "    def __init__(self, name, reproduction_rate, resistance):\n",
    "        self.name = name\n",
    "        self.reproduction_rate = reproduction_rate\n",
    "        self.load = 1\n",
    "        self.host = None\n",
    "\n",
    "    def infect(self, host):\n",
    "        self.host = host\n",
    "\n",
    "    def reproduce(self):\n",
    "        if self.host is not None:\n",
    "            self.load *= (1 + self.reproduction_rate)\n",
    "\n",
    "            return True, f\"Virus reproduced in {self.host}. Viral Load: {int(self.load)}\"\n",
    "        \n",
    "        raise AttributeError(\"Virus needs to infect a host before being able to reproduce\")\n",
    "    \n",
    "\n",
    "class RNAVirus(Virus):\n",
    "    genome = \"riboneucleic\"\n",
    "\n",
    "    def reproduce(self):\n",
    "        success, status = Virus.reproduce(self)\n",
    "\n",
    "        if success:\n",
    "            print(f\"{self.name} just replicated in the cytoplasm of {self.host} cells\")\n",
    "\n",
    "\n",
    "class DNAVirus(Virus):\n",
    "    genome = \"deoxyribonucleic\"\n",
    "\n",
    "    def reproduce(self):\n",
    "        success, status = Virus.reproduce(self)\n",
    "\n",
    "        if success:\n",
    "            print(f\"{self.name} just replicated in the nucleus of {self.host} cells\")\n",
    "\n",
    "            \n",
    "\n",
    "        "
   ]
  },
  {
   "cell_type": "code",
   "execution_count": 44,
   "metadata": {},
   "outputs": [],
   "source": [
    "class CoronaVirus(RNAVirus):\n",
    "    def infect(self):\n",
    "        print(\"A coronavirus specific method with a diffeent signature from the parent's\")\n",
    "\n",
    "        raise NotImplementedError()\n",
    "    \n",
    "    "
   ]
  },
  {
   "cell_type": "code",
   "execution_count": 45,
   "metadata": {},
   "outputs": [],
   "source": [
    "cv = CoronaVirus(\"Krsna Consciousness\", .1, .99)"
   ]
  },
  {
   "cell_type": "code",
   "execution_count": 46,
   "metadata": {},
   "outputs": [
    {
     "name": "stdout",
     "output_type": "stream",
     "text": [
      "A coronavirus specific method with a diffeent signature from the parent's\n"
     ]
    },
    {
     "ename": "NotImplementedError",
     "evalue": "",
     "output_type": "error",
     "traceback": [
      "\u001b[0;31m---------------------------------------------------------------------------\u001b[0m",
      "\u001b[0;31mNotImplementedError\u001b[0m                       Traceback (most recent call last)",
      "Cell \u001b[0;32mIn[46], line 1\u001b[0m\n\u001b[0;32m----> 1\u001b[0m \u001b[43mcv\u001b[49m\u001b[38;5;241;43m.\u001b[39;49m\u001b[43minfect\u001b[49m\u001b[43m(\u001b[49m\u001b[43m)\u001b[49m\n",
      "Cell \u001b[0;32mIn[44], line 5\u001b[0m, in \u001b[0;36mCoronaVirus.infect\u001b[0;34m(self)\u001b[0m\n\u001b[1;32m      2\u001b[0m \u001b[38;5;28;01mdef\u001b[39;00m \u001b[38;5;21minfect\u001b[39m(\u001b[38;5;28mself\u001b[39m):\n\u001b[1;32m      3\u001b[0m     \u001b[38;5;28mprint\u001b[39m(\u001b[38;5;124m\"\u001b[39m\u001b[38;5;124mA coronavirus specific method with a diffeent signature from the parent\u001b[39m\u001b[38;5;124m'\u001b[39m\u001b[38;5;124ms\u001b[39m\u001b[38;5;124m\"\u001b[39m)\n\u001b[0;32m----> 5\u001b[0m     \u001b[38;5;28;01mraise\u001b[39;00m \u001b[38;5;167;01mNotImplementedError\u001b[39;00m()\n",
      "\u001b[0;31mNotImplementedError\u001b[0m: "
     ]
    }
   ],
   "source": [
    "cv.infect()"
   ]
  },
  {
   "cell_type": "code",
   "execution_count": 47,
   "metadata": {},
   "outputs": [
    {
     "data": {
      "text/plain": [
       "(__main__.CoronaVirus, __main__.RNAVirus, __main__.Virus, object)"
      ]
     },
     "execution_count": 47,
     "metadata": {},
     "output_type": "execute_result"
    }
   ],
   "source": [
    "CoronaVirus.__mro__"
   ]
  },
  {
   "cell_type": "markdown",
   "metadata": {},
   "source": [
    "# Note: The subclass overridden method comes first in these classes.\n",
    "* So i think the point is clear. Sub class overriding or estending their parent's behavior, and we've described the exact plane attribute and method lookup dynamics that make this possible ofcourse, we could go beyond this and expolre other variations of this interplay between parent and child or superclasses and subclasses.\n",
    "\n",
    "# Other variations of this interplay between parent and child or superclasses and subclasses.\n",
    "\n",
    "For example: we could have methods that only the subclasses define, but the parent exclusively calls.\n"
   ]
  },
  {
   "cell_type": "markdown",
   "metadata": {},
   "source": [
    "* So this is a bit of an inversion. Conceptually, this may sound a bit mind bending. We could have methods that only the subclasses define, but the parent exclusively calls.\n"
   ]
  },
  {
   "cell_type": "code",
   "execution_count": 49,
   "metadata": {},
   "outputs": [
    {
     "name": "stdout",
     "output_type": "stream",
     "text": [
      "0\n",
      "0\n",
      "1\n",
      "0\n"
     ]
    }
   ],
   "source": [
    "from random import getrandbits\n",
    "\n",
    "for i in range(4):\n",
    "    print(getrandbits(1))"
   ]
  },
  {
   "cell_type": "code",
   "execution_count": 1,
   "metadata": {},
   "outputs": [],
   "source": [
    "from random import getrandbits\n",
    "class Virus:\n",
    "    def __init__(self, name, reproduction_rate, resistance):\n",
    "        self.name = name\n",
    "        self.reproduction_rate = reproduction_rate\n",
    "        self.load = 1\n",
    "        self.host = None\n",
    "\n",
    "    def infect(self, host):\n",
    "        self.host = host\n",
    "\n",
    "    def reproduce(self):\n",
    "        if self.host is not None:\n",
    "            self.load *= (1 + self.reproduction_rate)\n",
    "\n",
    "            should_mutate = getrandbits(1)\n",
    "            print(f\"should mutate: {should_mutate}\")\n",
    "\n",
    "            if should_mutate:\n",
    "                try:\n",
    "                    self.mutate()\n",
    "\n",
    "                except AttributeError:\n",
    "                    pass\n",
    "            \n",
    "\n",
    "\n",
    "            return True, f\"Virus reproduced in {self.host}. Viral Load: {int(self.load)}\"\n",
    "        \n",
    "        raise AttributeError(\"Virus needs to infect a host before being able to reproduce\")\n",
    "    \n",
    "\n",
    "class RNAVirus(Virus):\n",
    "    genome = \"riboneucleic\"\n",
    "\n",
    "    def reproduce(self):\n",
    "        #success, status = Virus.reproduce(self)\n",
    "        success, status = super().reproduce(self)\n",
    "\n",
    "        if success:\n",
    "            print(f\"{self.name} just replicated in the cytoplasm of {self.host} cells\")\n",
    "\n",
    "\n",
    "class DNAVirus(Virus):\n",
    "    genome = \"deoxyribonucleic\"\n",
    "\n",
    "    def reproduce(self):\n",
    "        success, status = Virus.reproduce(self)\n",
    "\n",
    "        if success:\n",
    "            print(f\"{self.name} just replicated in the nucleus of {self.host} cells\")"
   ]
  },
  {
   "cell_type": "code",
   "execution_count": 2,
   "metadata": {},
   "outputs": [
    {
     "name": "stdout",
     "output_type": "stream",
     "text": [
      "should mutate: 1\n",
      "The originalKCON virus just mutated its spike protien Krsna Consciousness\n",
      "(True, 'Virus reproduced in KCON. Viral Load: 100000') \n",
      "\n",
      "should mutate: 1\n",
      "The originalKCON virus just mutated its spike protien Krsna Consciousness\n",
      "(True, 'Virus reproduced in KCON. Viral Load: 10000000000') \n",
      "\n",
      "should mutate: 1\n",
      "The originalKCON virus just mutated its spike protien Krsna Consciousness\n",
      "(True, 'Virus reproduced in KCON. Viral Load: 1000000000000000') \n",
      "\n",
      "should mutate: 0\n",
      "(True, 'Virus reproduced in KCON. Viral Load: 100000000000000000000') \n",
      "\n",
      "should mutate: 0\n",
      "(True, 'Virus reproduced in KCON. Viral Load: 10000000000000000000000000') \n",
      "\n"
     ]
    }
   ],
   "source": [
    "class CoronaVirus(Virus):\n",
    "    pass\n",
    "\n",
    "class SARSCov2(CoronaVirus):\n",
    "    def mutate(self):\n",
    "        print(f\"The {self.name} virus just mutated its spike protien Krsna Consciousness\")\n",
    "\n",
    "cv = SARSCov2(\"originalKCON\", 99999, 999999)\n",
    "\n",
    "cv.infect(\"KCON\")\n",
    "\n",
    "for _ in range(5):\n",
    "    print(cv.reproduce(), \"\\n\")\n"
   ]
  },
  {
   "cell_type": "markdown",
   "metadata": {},
   "source": [
    "# Recap: Parent handle some of the logic and child subclass handle some of the handle.\n",
    "1. Descendant classes are always checked beore their ancestors\n",
    "2. if a descendant implements a method having the same name as its ancestor class, the descendant's implementation will take precedence.\n",
    "3. this applies to plain attributes as well as methods.\n",
    "4. The MRO lookup rules could be used flexibly to model various types of interplay between child and parent implementations.\n",
    "\n",
    "\n"
   ]
  },
  {
   "cell_type": "markdown",
   "metadata": {},
   "source": [
    "# Better Parent Delegation Super()\n",
    "We've seen several examples of subclasses overriding parent behavior or attributes.\n",
    "* This lecture will revisit this concept but in other direction.\n",
    "* so we'll talk about when a subclass needs to delegate to the parent.\n",
    "in fact, we're already doing this. If you recall subclass implementation of the reproduce method first delegates to the parent virus before proceeding to print some subclass specific informaiton.\n",
    "* That means, before we get to the subclass logic, we refernce the parent. A more robust way to do this delgation to parent in python is using the super built in.\n",
    "* A more robust way to do this delegation to parent in python is using the super built in.\n",
    "So super returns a temporary object of the super class that allows us to call its methods.\n",
    "# Super returns a temporary object of the super class that allows us to call its methods.\n",
    "\n",
    "# super is returning an object as an instance of the parent class, which then allows us to call the parent reproduce method using super.\n",
    "\n",
    "We could access this parent instance from inside any method in the subclass.\n",
    "\n",
    "# What is the benefit of using super instated as class name?\n",
    "What is the benefit of using super here instead of referring to the parent class by name explicitly?\n",
    "isn't this cleaner?\n",
    "\n",
    "a. one of the biggest advantage of using this super based approach is that it results in code that is mroe easy to maintain or refactor.\n",
    "b. one of the biggest advantage of using this super bases approach is that it results in code that is more easy to maintain or refactor.\n",
    "\n",
    "for example, if we change our definitions ina way that alters the class name for virus, our subclasses would not need to be updated if they reference their parent using super class.\n",
    "\n",
    "# Indirection \n",
    "in computer programming, indirection also called dereferencing is the ability to reference something using a name, refernce, or container instead of the vlaue itself. \n",
    "* Indirection also called dereferencing is the ability to reference something using a name, reference, or container instated of value itself.\n",
    "the most common form of indirection is the act of manipulating a value through its memory address. For example, accessing a variable through the use of a pointer. A stored pointer that exists to provide a reference to an object by double indirection is called an indirection node. in some older computer architectures, indirect words supported a variety of more or less complicated addressing modes.\n",
    "\n",
    "# All probles in computer science can be solved by another level of indirection ( the fundamental theorem of software engineering\"). This is often deliberately mis quoted with abstratction layer substituted for level of indirection. \n",
    "\n",
    "* it is  easier to move a problem around for example, by moving the problem to a different part of the overall network architecture than it is to solve it.\n",
    "corollary, it is always possible to add another level of indirection.\n",
    "\n",
    "# Object oriented programming makes use of indirection extensively, a simple example being dynamic dispatch. Higher level examples of indirection are the design patterns of the proxy and the proxy server. Delegation is another clasic example of an indirection pattern. In strongly typed interpreted languages with dynamic datatypes, most variable references require a level of indirection: first the type of the variable is checked for safety, and then the pointer ot hte actual value is dereferenced and located.\n",
    "\n",
    "* so instead of value itself, for example, the parent class name virus, we're indirectly referring to it using some other construct for single inheritance.\n",
    "* This is one of the biggest benefits of using super instead of literal class names.\n",
    "\n",
    "There is one of the biggest benefits of using super instated of literal class names:\n",
    "* But when we get to multiple inheritance, we'll see how super also helps in ensuring the respective method in the parent classes does not get called more than once, which is a huge benefit for our purposes.\n",
    "\n",
    "Super is used to avoid referencing base classes explicitly which may result in more maintainable code.\n",
    "* Super is used to avoid referencing base classes explicitly which may result in more maintainable code.\n",
    "\n",
    "# Recap: super\n",
    "1. the pythonic way to reference the parent class from a subclass is to use the super() built in.\n",
    "2. super()) returns an instance of the parent class, enabling us to directly reference its methods and attributes.\n",
    "3. super() could be called within any subclass method as well as at any step, i.e., not necessarily the first thing we do.\n",
    "\n",
    "\n",
    "\n",
    "\n",
    "\n"
   ]
  },
  {
   "cell_type": "code",
   "execution_count": null,
   "metadata": {},
   "outputs": [],
   "source": [
    "# Subclass __init__\n",
    "\"\"\"\n",
    "\n",
    "* The most common use of delegation is the dunder init\n",
    "* we have seen several times already, is the magic method responsible for instance, initialization.\n",
    "Initialization where we commonly bind the attributes to values on that newly created instance represented by \n",
    "self.\n",
    "\n",
    "we commonly bind attributes to values on that newly created instance represented by self.\n",
    "\n",
    "This is also known as the constructor method by the self itself.\n",
    "\n",
    "\n",
    "\"\"\""
   ]
  },
  {
   "cell_type": "markdown",
   "metadata": {},
   "source": [
    "* We commonly bind attributes to values on that newly created instnace represented by self.\n",
    "* This is done by using __init__ and also commonly known as the constructor method by some.\n",
    "\n",
    "* Now if we define a dunder init on a subclass, say our SARS-Cov2 here, it would appear to work just fine. \n"
   ]
  },
  {
   "cell_type": "code",
   "execution_count": 4,
   "metadata": {},
   "outputs": [
    {
     "ename": "NameError",
     "evalue": "name 'Virus' is not defined",
     "output_type": "error",
     "traceback": [
      "\u001b[0;31m---------------------------------------------------------------------------\u001b[0m",
      "\u001b[0;31mNameError\u001b[0m                                 Traceback (most recent call last)",
      "Cell \u001b[0;32mIn[4], line 1\u001b[0m\n\u001b[0;32m----> 1\u001b[0m \u001b[38;5;28;01mclass\u001b[39;00m \u001b[38;5;21;01mCoronaVirus\u001b[39;00m(\u001b[43mVirus\u001b[49m):\n\u001b[1;32m      2\u001b[0m     \u001b[38;5;28;01mpass\u001b[39;00m\n\u001b[1;32m      4\u001b[0m \u001b[38;5;28;01mclass\u001b[39;00m \u001b[38;5;21;01mSARSCov2\u001b[39;00m(CoronaVirus):\n\u001b[1;32m      5\u001b[0m     \u001b[38;5;66;03m# Adding dunder init\u001b[39;00m\n",
      "\u001b[0;31mNameError\u001b[0m: name 'Virus' is not defined"
     ]
    }
   ],
   "source": [
    "class CoronaVirus(Virus):\n",
    "    pass\n",
    "\n",
    "class SARSCov2(CoronaVirus):\n",
    "    # Adding dunder init\n",
    "    def __init__(self, variant):\n",
    "        self.variant = variant\n",
    "\n",
    "    def mutate(self):\n",
    "        print(f\"The {self.name} virus just mutated its spike protien Krsna Consciousness\")\n",
    "\n",
    "cv = SARSCov2(\"originalKCON\")\n",
    "\n"
   ]
  },
  {
   "cell_type": "code",
   "execution_count": 6,
   "metadata": {},
   "outputs": [
    {
     "data": {
      "text/plain": [
       "<__main__.SARSCov2 at 0x7f873c1eb940>"
      ]
     },
     "execution_count": 6,
     "metadata": {},
     "output_type": "execute_result"
    }
   ],
   "source": [
    "cv"
   ]
  },
  {
   "cell_type": "code",
   "execution_count": 7,
   "metadata": {},
   "outputs": [
    {
     "ename": "AttributeError",
     "evalue": "'SARSCov2' object has no attribute 'reproduction_rate'",
     "output_type": "error",
     "traceback": [
      "\u001b[0;31m---------------------------------------------------------------------------\u001b[0m",
      "\u001b[0;31mAttributeError\u001b[0m                            Traceback (most recent call last)",
      "Cell \u001b[0;32mIn[7], line 1\u001b[0m\n\u001b[0;32m----> 1\u001b[0m \u001b[43mcv\u001b[49m\u001b[38;5;241;43m.\u001b[39;49m\u001b[43mreproduction_rate\u001b[49m\n",
      "\u001b[0;31mAttributeError\u001b[0m: 'SARSCov2' object has no attribute 'reproduction_rate'"
     ]
    }
   ],
   "source": [
    "cv.reproduction_rate"
   ]
  },
  {
   "cell_type": "markdown",
   "metadata": {},
   "source": [
    "* As a traditional, we bind it to instance.\n",
    "* There is a serious issue here, none of the attributes we commonly expect of viruses are actually initialized in this instance. There is no reproduction rate for example:\n",
    "* There is no reproduction rate for example:\n",
    "* As a result, the instance we've created does not have the attributes that we set in the virus thunder.\n",
    "* intotal, there are 4 or 5 other attributes. So that's the big takeway that it's actually up to the subclass to properly initialize the superclass.\n",
    "That's a big takeaway, that it's actually up to the subclass ot properly initialize the superclass by delegating to the right init.\n",
    "\n",
    "# in otherwords, if a subclass defines a dunder init, then any necessary pareent initialization is up to us. Python wont take care of that.\n",
    "\n",
    "* Notice that when we say super().__init__, python goes all the way up to virus init\n",
    "- Eventhough immediate parent class is RNA. And the reason is that RNA virus does not implement an init, neither does corona. \n",
    "\n",
    "\n",
    "\n",
    "\n",
    "\n"
   ]
  },
  {
   "cell_type": "code",
   "execution_count": 8,
   "metadata": {},
   "outputs": [
    {
     "data": {
      "text/plain": [
       "{'variant': 'originalKCON'}"
      ]
     },
     "execution_count": 8,
     "metadata": {},
     "output_type": "execute_result"
    }
   ],
   "source": [
    "cv.__dict__"
   ]
  },
  {
   "cell_type": "code",
   "execution_count": 3,
   "metadata": {},
   "outputs": [
    {
     "ename": "NameError",
     "evalue": "name 'Virus' is not defined",
     "output_type": "error",
     "traceback": [
      "\u001b[0;31m---------------------------------------------------------------------------\u001b[0m",
      "\u001b[0;31mNameError\u001b[0m                                 Traceback (most recent call last)",
      "Cell \u001b[0;32mIn[3], line 1\u001b[0m\n\u001b[0;32m----> 1\u001b[0m \u001b[38;5;28;01mclass\u001b[39;00m \u001b[38;5;21;01mCoronaVirus\u001b[39;00m(\u001b[43mVirus\u001b[49m):\n\u001b[1;32m      2\u001b[0m     \u001b[38;5;28;01mpass\u001b[39;00m\n\u001b[1;32m      4\u001b[0m \u001b[38;5;28;01mclass\u001b[39;00m \u001b[38;5;21;01mSARSCov2\u001b[39;00m(CoronaVirus):\n\u001b[1;32m      5\u001b[0m     \u001b[38;5;66;03m# Adding dunder init\u001b[39;00m\n",
      "\u001b[0;31mNameError\u001b[0m: name 'Virus' is not defined"
     ]
    }
   ],
   "source": [
    "class CoronaVirus(Virus):\n",
    "    pass\n",
    "\n",
    "class SARSCov2(CoronaVirus):\n",
    "    # Adding dunder init\n",
    "    def __init__(self, variant):\n",
    "        super().__init__(\"SARSCov2\", 6336.99, 9.9999)\n",
    "        self.variant = variant\n",
    "\n",
    "    def mutate(self):\n",
    "        print(f\"The {self.name} virus just mutated its spike protien Krsna Consciousness\")\n",
    "\n",
    "cv = SARSCov2(\"originalKCON\")\n",
    "cv.reproduction_rate\n"
   ]
  },
  {
   "cell_type": "code",
   "execution_count": 18,
   "metadata": {},
   "outputs": [
    {
     "data": {
      "text/plain": [
       "6336.99"
      ]
     },
     "execution_count": 18,
     "metadata": {},
     "output_type": "execute_result"
    }
   ],
   "source": [
    "cv.reproduction_rate"
   ]
  },
  {
   "cell_type": "code",
   "execution_count": 15,
   "metadata": {},
   "outputs": [
    {
     "data": {
      "text/plain": [
       "{'name': 'SARSCov2',\n",
       " 'reproduction_rate': 6336.99,\n",
       " 'load': 1,\n",
       " 'host': None,\n",
       " 'variant': 'originalKCON'}"
      ]
     },
     "execution_count": 15,
     "metadata": {},
     "output_type": "execute_result"
    }
   ],
   "source": [
    "cv.__dict__"
   ]
  },
  {
   "cell_type": "code",
   "execution_count": 19,
   "metadata": {},
   "outputs": [
    {
     "data": {
      "text/plain": [
       "(__main__.SARSCov2, __main__.CoronaVirus, __main__.Virus, object)"
      ]
     },
     "execution_count": 19,
     "metadata": {},
     "output_type": "execute_result"
    }
   ],
   "source": [
    "SARSCov2.__mro__"
   ]
  },
  {
   "cell_type": "code",
   "execution_count": 12,
   "metadata": {},
   "outputs": [
    {
     "ename": "AttributeError",
     "evalue": "'SARSCov2' object has no attribute 'reprduction_rate'",
     "output_type": "error",
     "traceback": [
      "\u001b[0;31m---------------------------------------------------------------------------\u001b[0m",
      "\u001b[0;31mAttributeError\u001b[0m                            Traceback (most recent call last)",
      "Cell \u001b[0;32mIn[12], line 1\u001b[0m\n\u001b[0;32m----> 1\u001b[0m \u001b[43mcv\u001b[49m\u001b[38;5;241;43m.\u001b[39;49m\u001b[43mreprduction_rate\u001b[49m\n",
      "\u001b[0;31mAttributeError\u001b[0m: 'SARSCov2' object has no attribute 'reprduction_rate'"
     ]
    }
   ],
   "source": [
    "cv.reprduction_rate"
   ]
  },
  {
   "cell_type": "markdown",
   "metadata": {},
   "source": [
    "# super is the pythonic way to go about this delegation to parent.\n",
    "\n",
    "# Misuse looks something likes this\n",
    "- parent - child class relationship defined using inheritance.\n",
    "- where the child defined an init only for the purpose of calling the parent init.\n",
    "- "
   ]
  },
  {
   "cell_type": "code",
   "execution_count": 20,
   "metadata": {},
   "outputs": [],
   "source": [
    "class Parent:\n",
    "    def __init__(self):\n",
    "        print(\"parent init\")\n",
    "\n",
    "class Child(Parent):\n",
    "    def __init__(self):\n",
    "        super().__init__()"
   ]
  },
  {
   "cell_type": "code",
   "execution_count": 21,
   "metadata": {},
   "outputs": [
    {
     "name": "stdout",
     "output_type": "stream",
     "text": [
      "parent init\n"
     ]
    }
   ],
   "source": [
    "c = Child()"
   ]
  },
  {
   "cell_type": "markdown",
   "metadata": {},
   "source": [
    "From the above code we see that parent init printed out.\n",
    "* it just happens though, that in python this is completely unnecessary. And why is that?\n",
    "# well, if the subclass simply does not implement this init python will still travel up the inheritance hierarychy and identify the closeest implementaiton.\n",
    "\n",
    "Python will still travel up the inheritance hierarychy and idenfy the closest implementation.\n"
   ]
  },
  {
   "cell_type": "code",
   "execution_count": 22,
   "metadata": {},
   "outputs": [],
   "source": [
    "class Parent:\n",
    "    def __init__(self):\n",
    "        print(\"parent init\")\n",
    "\n",
    "class Child(Parent):\n",
    "    #def __init__(self):\n",
    "    #    super().__init__()\n",
    "    pass"
   ]
  },
  {
   "cell_type": "code",
   "execution_count": 23,
   "metadata": {},
   "outputs": [
    {
     "name": "stdout",
     "output_type": "stream",
     "text": [
      "parent init\n"
     ]
    }
   ],
   "source": [
    "ch = Child()"
   ]
  },
  {
   "cell_type": "markdown",
   "metadata": {},
   "source": [
    "# If a subclass implements the dunder init, that implementation will take precedence and its parents init will not be called unless that is the subclass dunder init.\n",
    "* Again, if a subclass implements the dunder init, that implementaiton will take precedence and its parents init will not be called unless that is the subclass dunder init.\n",
    "\n",
    "# Important Note: if a subclass does not define a dunder init when we create an instance of that subclass, python will still attempt to call dunder init on it.\n",
    "* And if a subclass does not have that implementation, the call will bubble up to the parent, the parent's parent and so on all the way up to object until it finds an implementation for dunder init.\n",
    "\n",
    "* if neither the subclass nor any of its parents define a dunder init python ends up calling the dunder init on object, which if you recall, is the grand ancestor of all classes.\n",
    "\n",
    "# Recap:\n",
    "1. the subclass defines if the subclass defines a dunder init, it is its responsibility to properly initialize all applicable attributes.\n",
    "2. if the subclass does not define a __init__, python automatic invocation at instance initialization will result in the parent's init if applicable, being called.\n",
    "\n",
    "\n",
    "\n",
    "\n",
    "\n",
    "\n",
    "\n",
    "\n"
   ]
  },
  {
   "cell_type": "markdown",
   "metadata": {},
   "source": [
    "# Subclassing properties\n",
    "\n",
    "* We will discuss or take a closer look at how properties work in the context of inheritance.\n"
   ]
  },
  {
   "cell_type": "code",
   "execution_count": 8,
   "metadata": {},
   "outputs": [],
   "source": [
    "from random import getrandbits\n",
    "class Virus:\n",
    "    def __init__(self, name, reproduction_rate, resistance):\n",
    "        self.name = name\n",
    "        self.reproduction_rate = reproduction_rate\n",
    "        self.load = 1\n",
    "        self.host = None\n",
    "\n",
    "    def infect(self, host):\n",
    "        self.host = host\n",
    "\n",
    "    def reproduce(self):\n",
    "        if self.host is not None:\n",
    "            self.load *= (1 + self.reproduction_rate)\n",
    "\n",
    "            should_mutate = getrandbits(1)\n",
    "            print(f\"should mutate: {should_mutate}\")\n",
    "\n",
    "            if should_mutate:\n",
    "                try:\n",
    "                    self.mutate()\n",
    "\n",
    "                except AttributeError:\n",
    "                    pass\n",
    "            \n",
    "\n",
    "\n",
    "            return True, f\"Virus reproduced in {self.host}. Viral Load: {int(self.load)}\"\n",
    "        \n",
    "        raise AttributeError(\"Virus needs to infect a host before being able to reproduce\")\n",
    "    \n",
    "\n",
    "class RNAVirus(Virus):\n",
    "    genome = \"riboneucleic\"\n",
    "\n",
    "    def reproduce(self):\n",
    "        #success, status = Virus.reproduce(self)\n",
    "        success, status = super().reproduce(self)\n",
    "\n",
    "        if success:\n",
    "            print(f\"{self.name} just replicated in the cytoplasm of {self.host} cells\")\n",
    "\n",
    "\n",
    "class DNAVirus(Virus):\n",
    "    genome = \"deoxyribonucleic\"\n",
    "\n",
    "    def reproduce(self):\n",
    "        success, status = Virus.reproduce(self)\n",
    "\n",
    "        if success:\n",
    "            print(f\"{self.name} just replicated in the nucleus of {self.host} cells\")"
   ]
  },
  {
   "cell_type": "code",
   "execution_count": 14,
   "metadata": {},
   "outputs": [],
   "source": [
    "class CoronaVirus(Virus):\n",
    "    pass\n",
    "\n",
    "class SARSCov2(CoronaVirus):\n",
    "    known_variants = [\"alpha\", \"beta\", \"gamma\", \"epsilon\"]\n",
    "\n",
    "    def __init__(self, variant):\n",
    "        super().__init__(\"KCON:Subclassing properties\", 99.99, 9999.0)\n",
    "        self.variant = variant # Remember this is not an instance variable, its a property\n",
    "    \n",
    "    def mutate(self):\n",
    "        print(f\"The {self.name} virus just mutated its spike protien\")\n",
    "\n",
    "    @property\n",
    "    def variant(self):\n",
    "        return self._variant\n",
    "    \n",
    "    @variant.setter\n",
    "    def variant(self, value):\n",
    "        if value.lower() not in self.known_variants:\n",
    "            raise ValueError(f\"Expected a known variant of concern: {value}\")\n",
    "        \n",
    "        self._variant = value.lower()\n",
    "\n",
    "\n"
   ]
  },
  {
   "cell_type": "code",
   "execution_count": 17,
   "metadata": {},
   "outputs": [],
   "source": [
    "# At this point we shall be able to create instance of specific variants\n",
    "\n",
    "cv = SARSCov2(\"ALPHA\")"
   ]
  },
  {
   "cell_type": "code",
   "execution_count": 18,
   "metadata": {},
   "outputs": [
    {
     "data": {
      "text/plain": [
       "{'name': 'KCON:Subclassing properties',\n",
       " 'reproduction_rate': 99.99,\n",
       " 'load': 1,\n",
       " 'host': None,\n",
       " '_variant': 'alpha'}"
      ]
     },
     "execution_count": 18,
     "metadata": {},
     "output_type": "execute_result"
    }
   ],
   "source": [
    "cv.__dict__"
   ]
  },
  {
   "cell_type": "code",
   "execution_count": 20,
   "metadata": {},
   "outputs": [
    {
     "ename": "ValueError",
     "evalue": "Expected a known variant of concern: KCON",
     "output_type": "error",
     "traceback": [
      "\u001b[0;31m---------------------------------------------------------------------------\u001b[0m",
      "\u001b[0;31mValueError\u001b[0m                                Traceback (most recent call last)",
      "Cell \u001b[0;32mIn[20], line 1\u001b[0m\n\u001b[0;32m----> 1\u001b[0m \u001b[43mcv\u001b[49m\u001b[38;5;241;43m.\u001b[39;49m\u001b[43mvariant\u001b[49m \u001b[38;5;241m=\u001b[39m \u001b[38;5;124m\"\u001b[39m\u001b[38;5;124mKCON\u001b[39m\u001b[38;5;124m\"\u001b[39m\n",
      "Cell \u001b[0;32mIn[14], line 21\u001b[0m, in \u001b[0;36mSARSCov2.variant\u001b[0;34m(self, value)\u001b[0m\n\u001b[1;32m     18\u001b[0m \u001b[38;5;129m@variant\u001b[39m\u001b[38;5;241m.\u001b[39msetter\n\u001b[1;32m     19\u001b[0m \u001b[38;5;28;01mdef\u001b[39;00m \u001b[38;5;21mvariant\u001b[39m(\u001b[38;5;28mself\u001b[39m, value):\n\u001b[1;32m     20\u001b[0m     \u001b[38;5;28;01mif\u001b[39;00m value\u001b[38;5;241m.\u001b[39mlower() \u001b[38;5;129;01mnot\u001b[39;00m \u001b[38;5;129;01min\u001b[39;00m \u001b[38;5;28mself\u001b[39m\u001b[38;5;241m.\u001b[39mknown_variants:\n\u001b[0;32m---> 21\u001b[0m         \u001b[38;5;28;01mraise\u001b[39;00m \u001b[38;5;167;01mValueError\u001b[39;00m(\u001b[38;5;124mf\u001b[39m\u001b[38;5;124m\"\u001b[39m\u001b[38;5;124mExpected a known variant of concern: \u001b[39m\u001b[38;5;132;01m{\u001b[39;00mvalue\u001b[38;5;132;01m}\u001b[39;00m\u001b[38;5;124m\"\u001b[39m)\n\u001b[1;32m     23\u001b[0m     \u001b[38;5;28mself\u001b[39m\u001b[38;5;241m.\u001b[39m_variant \u001b[38;5;241m=\u001b[39m value\u001b[38;5;241m.\u001b[39mlower()\n",
      "\u001b[0;31mValueError\u001b[0m: Expected a known variant of concern: KCON"
     ]
    }
   ],
   "source": [
    "cv.variant = \"KCON\""
   ]
  },
  {
   "cell_type": "code",
   "execution_count": 21,
   "metadata": {},
   "outputs": [],
   "source": [
    "cv.variant = \"beta\""
   ]
  },
  {
   "cell_type": "code",
   "execution_count": 22,
   "metadata": {},
   "outputs": [
    {
     "data": {
      "text/plain": [
       "'beta'"
      ]
     },
     "execution_count": 22,
     "metadata": {},
     "output_type": "execute_result"
    }
   ],
   "source": [
    "cv.variant"
   ]
  },
  {
   "cell_type": "code",
   "execution_count": 23,
   "metadata": {},
   "outputs": [],
   "source": [
    "class DoubleMutant(SARSCov2):\n",
    "    pass"
   ]
  },
  {
   "cell_type": "code",
   "execution_count": null,
   "metadata": {},
   "outputs": [],
   "source": [
    "# Lets see how this class behaves simply by virtue of inerting from SARS-CoV-2 \n",
    "# first things first, can we create new instances with new variants.\n",
    "\n",
    "#Ah, it would turn out that we are still constrained to the known variants of concern.\n"
   ]
  },
  {
   "cell_type": "code",
   "execution_count": 26,
   "metadata": {},
   "outputs": [
    {
     "ename": "ValueError",
     "evalue": "Expected a known variant of concern: new variant",
     "output_type": "error",
     "traceback": [
      "\u001b[0;31m---------------------------------------------------------------------------\u001b[0m",
      "\u001b[0;31mValueError\u001b[0m                                Traceback (most recent call last)",
      "Cell \u001b[0;32mIn[26], line 2\u001b[0m\n\u001b[1;32m      1\u001b[0m \u001b[38;5;66;03m# This doesnt work because there is no double under init defined under DoubleMutant\u001b[39;00m\n\u001b[0;32m----> 2\u001b[0m \u001b[43mDoubleMutant\u001b[49m\u001b[43m(\u001b[49m\u001b[38;5;124;43m\"\u001b[39;49m\u001b[38;5;124;43mnew variant\u001b[39;49m\u001b[38;5;124;43m\"\u001b[39;49m\u001b[43m)\u001b[49m\n",
      "Cell \u001b[0;32mIn[14], line 9\u001b[0m, in \u001b[0;36mSARSCov2.__init__\u001b[0;34m(self, variant)\u001b[0m\n\u001b[1;32m      7\u001b[0m \u001b[38;5;28;01mdef\u001b[39;00m \u001b[38;5;21m__init__\u001b[39m(\u001b[38;5;28mself\u001b[39m, variant):\n\u001b[1;32m      8\u001b[0m     \u001b[38;5;28msuper\u001b[39m()\u001b[38;5;241m.\u001b[39m\u001b[38;5;21m__init__\u001b[39m(\u001b[38;5;124m\"\u001b[39m\u001b[38;5;124mKCON:Subclassing properties\u001b[39m\u001b[38;5;124m\"\u001b[39m, \u001b[38;5;241m99.99\u001b[39m, \u001b[38;5;241m9999.0\u001b[39m)\n\u001b[0;32m----> 9\u001b[0m     \u001b[38;5;28;43mself\u001b[39;49m\u001b[38;5;241;43m.\u001b[39;49m\u001b[43mvariant\u001b[49m \u001b[38;5;241m=\u001b[39m variant\n",
      "Cell \u001b[0;32mIn[14], line 21\u001b[0m, in \u001b[0;36mSARSCov2.variant\u001b[0;34m(self, value)\u001b[0m\n\u001b[1;32m     18\u001b[0m \u001b[38;5;129m@variant\u001b[39m\u001b[38;5;241m.\u001b[39msetter\n\u001b[1;32m     19\u001b[0m \u001b[38;5;28;01mdef\u001b[39;00m \u001b[38;5;21mvariant\u001b[39m(\u001b[38;5;28mself\u001b[39m, value):\n\u001b[1;32m     20\u001b[0m     \u001b[38;5;28;01mif\u001b[39;00m value\u001b[38;5;241m.\u001b[39mlower() \u001b[38;5;129;01mnot\u001b[39;00m \u001b[38;5;129;01min\u001b[39;00m \u001b[38;5;28mself\u001b[39m\u001b[38;5;241m.\u001b[39mknown_variants:\n\u001b[0;32m---> 21\u001b[0m         \u001b[38;5;28;01mraise\u001b[39;00m \u001b[38;5;167;01mValueError\u001b[39;00m(\u001b[38;5;124mf\u001b[39m\u001b[38;5;124m\"\u001b[39m\u001b[38;5;124mExpected a known variant of concern: \u001b[39m\u001b[38;5;132;01m{\u001b[39;00mvalue\u001b[38;5;132;01m}\u001b[39;00m\u001b[38;5;124m\"\u001b[39m)\n\u001b[1;32m     23\u001b[0m     \u001b[38;5;28mself\u001b[39m\u001b[38;5;241m.\u001b[39m_variant \u001b[38;5;241m=\u001b[39m value\u001b[38;5;241m.\u001b[39mlower()\n",
      "\u001b[0;31mValueError\u001b[0m: Expected a known variant of concern: new variant"
     ]
    }
   ],
   "source": [
    "# This doesnt work because there is no double under init defined under DoubleMutant\n",
    "DoubleMutant(\"new variant\")"
   ]
  },
  {
   "cell_type": "code",
   "execution_count": 28,
   "metadata": {},
   "outputs": [],
   "source": [
    "class DoubleMutant(SARSCov2):\n",
    "    @SARSCov2.variant.setter\n",
    "    def variant(self, value):\n",
    "        self._variant = value.lower()\n"
   ]
  },
  {
   "cell_type": "code",
   "execution_count": 29,
   "metadata": {},
   "outputs": [],
   "source": [
    "dv = DoubleMutant(\"KCON\")"
   ]
  },
  {
   "cell_type": "code",
   "execution_count": 30,
   "metadata": {},
   "outputs": [
    {
     "data": {
      "text/plain": [
       "{'name': 'KCON:Subclassing properties',\n",
       " 'reproduction_rate': 99.99,\n",
       " 'load': 1,\n",
       " 'host': None,\n",
       " '_variant': 'kcon'}"
      ]
     },
     "execution_count": 30,
     "metadata": {},
     "output_type": "execute_result"
    }
   ],
   "source": [
    "dv.__dict__"
   ]
  },
  {
   "cell_type": "code",
   "execution_count": 37,
   "metadata": {},
   "outputs": [],
   "source": [
    "class CoronaVirus(Virus):\n",
    "    pass\n",
    "\n",
    "class SARSCov2(CoronaVirus):\n",
    "    known_variants = [\"alpha\", \"beta\", \"gamma\", \"epsilon\"]\n",
    "\n",
    "    def __init__(self, variant):\n",
    "        super().__init__(\"KCON:Subclassing properties\", 99.99, 9999.0)\n",
    "        self.variant = variant # Remember this is not an instance variable, its a property\n",
    "    \n",
    "    def mutate(self):\n",
    "        print(f\"The {self.name} virus just mutated its spike protien\")\n",
    "\n",
    "    @property\n",
    "    def variant(self):\n",
    "        return self._variant\n",
    "    \n",
    "    @variant.setter\n",
    "    def variant(self, value):\n",
    "        if value.lower() not in self.known_variants:\n",
    "            raise ValueError(f\"Expected a known variant of concern: {value}\")\n",
    "        \n",
    "        self._variant = value.lower()\n"
   ]
  },
  {
   "cell_type": "code",
   "execution_count": 38,
   "metadata": {},
   "outputs": [],
   "source": [
    "class DoubleMutant(SARSCov2):\n",
    "    @property\n",
    "    def variant(self):\n",
    "        print(\"Getter from the subclass\")\n",
    "        return self._variant\n",
    "    \n",
    "    @variant.setter\n",
    "    def variant(self, value):\n",
    "        self._variant = value.lower()\n",
    "\n",
    "    @variant.deleter\n",
    "    def variant(self):\n",
    "        del self._variant # deleting the attribute from the instance name space."
   ]
  },
  {
   "cell_type": "markdown",
   "metadata": {},
   "source": [
    "The above defined subclass and property lives in the subclass itself."
   ]
  },
  {
   "cell_type": "code",
   "execution_count": 35,
   "metadata": {},
   "outputs": [
    {
     "name": "stdout",
     "output_type": "stream",
     "text": [
      "Getter from the subclass\n"
     ]
    },
    {
     "data": {
      "text/plain": [
       "'kcon: yay completed subclassing properties'"
      ]
     },
     "execution_count": 35,
     "metadata": {},
     "output_type": "execute_result"
    }
   ],
   "source": [
    "dv2 = DoubleMutant(\"KCON: Yay completed subclassing properties\")\n",
    "dv2.variant"
   ]
  },
  {
   "cell_type": "code",
   "execution_count": 36,
   "metadata": {},
   "outputs": [
    {
     "name": "stdout",
     "output_type": "stream",
     "text": [
      "Getter from the subclass\n"
     ]
    },
    {
     "data": {
      "text/plain": [
       "'kcon: yay completed subclassing properties'"
      ]
     },
     "execution_count": 36,
     "metadata": {},
     "output_type": "execute_result"
    }
   ],
   "source": [
    "dv2.variant"
   ]
  },
  {
   "cell_type": "code",
   "execution_count": null,
   "metadata": {},
   "outputs": [],
   "source": [
    "\"\"\"\n",
    "The original parent class has its own property that lives in its namespace.\n",
    "so even though these two classes are quite related to each other. \n",
    "\n",
    "Double mutant is a subclass of the parent class SARSCov2\n",
    "\n",
    "They have different implementation of the same named property and the implementation plays a different rules.\n",
    "\n",
    "So the parent does the validation and child does not.\n",
    "\n",
    "So if we try to set something to the parent the parent will complain.\n",
    "so if we try to set something to the parent the parent will complain.\n",
    "\n",
    "but if we try to set something on an instance of double mutant, the child, the double mutant will not complain.\n",
    "\n",
    "\n",
    "\n",
    "\"\"\""
   ]
  },
  {
   "cell_type": "markdown",
   "metadata": {},
   "source": [
    "# Its important to note that even though we have this relationship, we have defined the same named property in two different classes that are otherwise related.\n",
    "Please see above comments for above note\n",
    "\n",
    "Even though we have parent child relation ship and we have defined the property with same name in both parent class and child class, and they are related, they do behave as if they wree completely separate.\n",
    "\n",
    "We have same named property defined in two classes otherwise they are related\n",
    "\n",
    "# There's no inheritance of property like functionality going on here\n",
    "\n",
    "# Recap: Subclassing properties\n",
    "1. Properties defined in the parent could be extended/modified in the subclass\n",
    "2. Because properties live in the namespace of the class in which they're defined, referring to them from the subclass requires the use of a fully qualified name in the subclass, i.e., one that specifies the parent class name.\n",
    "\n",
    "Because properties live in the namespace of the class in which they're defined, referring to them from the subclass requires the use of fully qualified name in the subclass i.e., one that specifies the parent class names.\n",
    "\n",
    "When inheriting the properties, we reserve the flexibility to only extend or modify the methods we care about, e.g., any combination of get set del.\n",
    "\n",
    "\n",
    "\n"
   ]
  },
  {
   "cell_type": "markdown",
   "metadata": {},
   "source": [
    "# Extending Built-ins\n",
    "Built in data structures: a list or dict but we need the behavior tweaked in one way or another.\n",
    "\n",
    "# creating a subclass out of these built ins is probably a pretty good place to start.\n",
    "\n",
    "Example:\n",
    "So, we want to improve the interface of the python dictionary so that it doesn't throw us a key error\n",
    "exception when it cannot find an item we're looking for.\n",
    "\n",
    "So what do we mean by that?\n",
    "we're going to create a quick example here\n"
   ]
  },
  {
   "cell_type": "code",
   "execution_count": 39,
   "metadata": {},
   "outputs": [],
   "source": [
    "population = {\n",
    "    \"Krsna\": 99,\n",
    "    \"KCON\": 99,\n",
    "    \"USAKCON\":999\n",
    "}"
   ]
  },
  {
   "cell_type": "code",
   "execution_count": 40,
   "metadata": {},
   "outputs": [
    {
     "data": {
      "text/plain": [
       "99"
      ]
     },
     "execution_count": 40,
     "metadata": {},
     "output_type": "execute_result"
    }
   ],
   "source": [
    "population[\"KCON\"]"
   ]
  },
  {
   "cell_type": "markdown",
   "metadata": {},
   "source": [
    "Behind the scenes, python is converting this square bracket syntac to a call todunder get item and it's actually that method that throws the exception.\n",
    "\n",
    "\n"
   ]
  },
  {
   "cell_type": "code",
   "execution_count": 41,
   "metadata": {},
   "outputs": [
    {
     "ename": "KeyError",
     "evalue": "'KConsciousness'",
     "output_type": "error",
     "traceback": [
      "\u001b[0;31m---------------------------------------------------------------------------\u001b[0m",
      "\u001b[0;31mKeyError\u001b[0m                                  Traceback (most recent call last)",
      "Cell \u001b[0;32mIn[41], line 1\u001b[0m\n\u001b[0;32m----> 1\u001b[0m \u001b[43mpopulation\u001b[49m\u001b[43m[\u001b[49m\u001b[38;5;124;43m\"\u001b[39;49m\u001b[38;5;124;43mKConsciousness\u001b[39;49m\u001b[38;5;124;43m\"\u001b[39;49m\u001b[43m]\u001b[49m\n",
      "\u001b[0;31mKeyError\u001b[0m: 'KConsciousness'"
     ]
    }
   ],
   "source": [
    "population[\"KConsciousness\"]"
   ]
  },
  {
   "cell_type": "code",
   "execution_count": null,
   "metadata": {},
   "outputs": [],
   "source": [
    "# Our example is to inherit from dict and then modify associated built in magic method that is responsible for throwing this error.\n"
   ]
  },
  {
   "cell_type": "markdown",
   "metadata": {},
   "source": [
    "# Extended Builtins\n",
    "Built in data structures:\n",
    "* list or dict\n",
    "\n",
    "# improve the interface of the python dictionary, if we cannot define the item that we are defining for.\n"
   ]
  },
  {
   "cell_type": "code",
   "execution_count": 2,
   "metadata": {},
   "outputs": [],
   "source": [
    "kcondev = {\n",
    "    \"BG\": 999,\n",
    "    \"BT\": 9999999\n",
    "}"
   ]
  },
  {
   "cell_type": "code",
   "execution_count": 3,
   "metadata": {},
   "outputs": [
    {
     "data": {
      "text/plain": [
       "999"
      ]
     },
     "execution_count": 3,
     "metadata": {},
     "output_type": "execute_result"
    }
   ],
   "source": [
    "kcondev['BG']\n"
   ]
  },
  {
   "cell_type": "markdown",
   "metadata": {},
   "source": [
    "Python is converting this square bracket syntax to a call to double underscore get item and its actually that method that throws the exception.\n",
    "* Square bracket syntax to a call to double underscore get item and its actually that method that throws the exception.\n",
    "\n"
   ]
  },
  {
   "cell_type": "code",
   "execution_count": 4,
   "metadata": {},
   "outputs": [
    {
     "ename": "KeyError",
     "evalue": "'ch'",
     "output_type": "error",
     "traceback": [
      "\u001b[0;31m---------------------------------------------------------------------------\u001b[0m",
      "\u001b[0;31mKeyError\u001b[0m                                  Traceback (most recent call last)",
      "Cell \u001b[0;32mIn[4], line 1\u001b[0m\n\u001b[0;32m----> 1\u001b[0m \u001b[43mkcondev\u001b[49m\u001b[43m[\u001b[49m\u001b[38;5;124;43m'\u001b[39;49m\u001b[38;5;124;43mch\u001b[39;49m\u001b[38;5;124;43m'\u001b[39;49m\u001b[43m]\u001b[49m\n",
      "\u001b[0;31mKeyError\u001b[0m: 'ch'"
     ]
    }
   ],
   "source": [
    "kcondev['ch']"
   ]
  },
  {
   "cell_type": "code",
   "execution_count": 5,
   "metadata": {},
   "outputs": [
    {
     "data": {
      "text/plain": [
       "999"
      ]
     },
     "execution_count": 5,
     "metadata": {},
     "output_type": "execute_result"
    }
   ],
   "source": [
    "kcondev.__getitem__(\"BG\")"
   ]
  },
  {
   "cell_type": "markdown",
   "metadata": {},
   "source": [
    "# Mission\n",
    "our mission is to build a nicer dictionary so, so to speak, so that instead of this exception, we get a somewhat funny and may be variable messgae indicated that an item by that key was not found.\n",
    "\n",
    "* or we program it in such a way that instead of throwing an error, we raise the exception and catch it and display a variable message indicated that an item by that key was not found or something like that...\n",
    "\n",
    "Rather than build a dictionary tlike data structure from absolute scratch, which by the way we could do for our purposes, may be its easier to simply inherit from dict and then modify the associated built in magic method that is responsible for throwing this error.\n"
   ]
  },
  {
   "cell_type": "code",
   "execution_count": 7,
   "metadata": {},
   "outputs": [],
   "source": [
    "from random import choice\n",
    "\n",
    "class ModifyDict(dict):\n",
    "    not_found = ['404', 'wait, what?', 'Try again or dont?']\n",
    "\n",
    "    def __getitem__(self, item):\n",
    "        if not item in self:\n",
    "            return choice(self.not_found)\n",
    "        \n",
    "        return super().__getitem__(item)"
   ]
  },
  {
   "cell_type": "code",
   "execution_count": 12,
   "metadata": {},
   "outputs": [],
   "source": [
    "kcondev1 = ModifyDict({\n",
    "    \"BG\": 999,\n",
    "    \"BT\": 9999999\n",
    "})"
   ]
  },
  {
   "cell_type": "code",
   "execution_count": 13,
   "metadata": {},
   "outputs": [
    {
     "data": {
      "text/plain": [
       "999"
      ]
     },
     "execution_count": 13,
     "metadata": {},
     "output_type": "execute_result"
    }
   ],
   "source": [
    "kcondev1['BG']"
   ]
  },
  {
   "cell_type": "code",
   "execution_count": 19,
   "metadata": {},
   "outputs": [
    {
     "data": {
      "text/plain": [
       "'Try again or dont?'"
      ]
     },
     "execution_count": 19,
     "metadata": {},
     "output_type": "execute_result"
    }
   ],
   "source": [
    "kcondev1['CT']"
   ]
  },
  {
   "cell_type": "code",
   "execution_count": 20,
   "metadata": {},
   "outputs": [
    {
     "name": "stdout",
     "output_type": "stream",
     "text": [
      "404\n",
      "404\n",
      "Try again or dont?\n",
      "wait, what?\n",
      "wait, what?\n",
      "404\n",
      "wait, what?\n",
      "404\n",
      "wait, what?\n",
      "Try again or dont?\n"
     ]
    }
   ],
   "source": [
    "for i in range(10):\n",
    "    print(kcondev1['Chaitanya'])"
   ]
  },
  {
   "cell_type": "markdown",
   "metadata": {},
   "source": [
    "# it meets our expectation here just to show its random\n",
    "Recap:\n",
    "\n",
    "* In python, we could extend the behavior of built in data structures just like we  do with regular user defined ones.\n",
    "* to do that, we simply define a subclass that inherits from the respective built in, and modify or enhance only the behaviour or we care about.\n",
    "\n",
    "\n"
   ]
  },
  {
   "cell_type": "code",
   "execution_count": null,
   "metadata": {},
   "outputs": [],
   "source": [
    "# Something we siwh python lists had is this ability to calculate averages when list consitutes"
   ]
  },
  {
   "cell_type": "code",
   "execution_count": 22,
   "metadata": {},
   "outputs": [
    {
     "ename": "NameError",
     "evalue": "name 'average' is not defined",
     "output_type": "error",
     "traceback": [
      "\u001b[0;31m---------------------------------------------------------------------------\u001b[0m",
      "\u001b[0;31mNameError\u001b[0m                                 Traceback (most recent call last)",
      "Cell \u001b[0;32mIn[22], line 2\u001b[0m\n\u001b[1;32m      1\u001b[0m l \u001b[38;5;241m=\u001b[39m [\u001b[38;5;241m1\u001b[39m,\u001b[38;5;241m2\u001b[39m,\u001b[38;5;241m3\u001b[39m,\u001b[38;5;241m4\u001b[39m,\u001b[38;5;241m5\u001b[39m]\n\u001b[0;32m----> 2\u001b[0m \u001b[43maverage\u001b[49m(l)\n",
      "\u001b[0;31mNameError\u001b[0m: name 'average' is not defined"
     ]
    }
   ],
   "source": [
    "l = [1,2,3,4,5]\n",
    "average(l)"
   ]
  },
  {
   "cell_type": "code",
   "execution_count": 23,
   "metadata": {},
   "outputs": [
    {
     "data": {
      "text/plain": [
       "15"
      ]
     },
     "execution_count": 23,
     "metadata": {},
     "output_type": "execute_result"
    }
   ],
   "source": [
    "sum(l)"
   ]
  },
  {
   "cell_type": "code",
   "execution_count": 24,
   "metadata": {},
   "outputs": [],
   "source": [
    "class AvgList(list):\n",
    "    def average(self):\n",
    "        return sum(self) /len(self)"
   ]
  },
  {
   "cell_type": "code",
   "execution_count": 26,
   "metadata": {},
   "outputs": [
    {
     "data": {
      "text/plain": [
       "369.0"
      ]
     },
     "execution_count": 26,
     "metadata": {},
     "output_type": "execute_result"
    }
   ],
   "source": [
    "\n",
    "l2 = [9,99,999]\n",
    "l3 = AvgList(l2)\n",
    "l3.average()"
   ]
  },
  {
   "cell_type": "code",
   "execution_count": 27,
   "metadata": {},
   "outputs": [
    {
     "ename": "TypeError",
     "evalue": "list expected at most 1 argument, got 5",
     "output_type": "error",
     "traceback": [
      "\u001b[0;31m---------------------------------------------------------------------------\u001b[0m",
      "\u001b[0;31mTypeError\u001b[0m                                 Traceback (most recent call last)",
      "Cell \u001b[0;32mIn[27], line 1\u001b[0m\n\u001b[0;32m----> 1\u001b[0m l3 \u001b[38;5;241m=\u001b[39m \u001b[43mAvgList\u001b[49m\u001b[43m(\u001b[49m\u001b[38;5;241;43m1\u001b[39;49m\u001b[43m,\u001b[49m\u001b[38;5;241;43m2\u001b[39;49m\u001b[43m,\u001b[49m\u001b[38;5;241;43m3\u001b[39;49m\u001b[43m,\u001b[49m\u001b[38;5;241;43m4\u001b[39;49m\u001b[43m,\u001b[49m\u001b[38;5;241;43m5\u001b[39;49m\u001b[43m)\u001b[49m\n",
      "\u001b[0;31mTypeError\u001b[0m: list expected at most 1 argument, got 5"
     ]
    }
   ],
   "source": [
    "l3 = AvgList(1,2,3,4,5)"
   ]
  },
  {
   "cell_type": "markdown",
   "metadata": {},
   "source": [
    "# What if we want to support the ability to also instantiate by simply passing in an arbitrary number or nurmeric arguments, let's say?\n"
   ]
  },
  {
   "cell_type": "code",
   "execution_count": 28,
   "metadata": {},
   "outputs": [
    {
     "ename": "TypeError",
     "evalue": "list expected at most 1 argument, got 5",
     "output_type": "error",
     "traceback": [
      "\u001b[0;31m---------------------------------------------------------------------------\u001b[0m",
      "\u001b[0;31mTypeError\u001b[0m                                 Traceback (most recent call last)",
      "Cell \u001b[0;32mIn[28], line 1\u001b[0m\n\u001b[0;32m----> 1\u001b[0m l4 \u001b[38;5;241m=\u001b[39m \u001b[43mAvgList\u001b[49m\u001b[43m(\u001b[49m\u001b[38;5;241;43m9\u001b[39;49m\u001b[43m,\u001b[49m\u001b[38;5;241;43m8\u001b[39;49m\u001b[43m,\u001b[49m\u001b[38;5;241;43m7\u001b[39;49m\u001b[43m,\u001b[49m\u001b[38;5;241;43m6\u001b[39;49m\u001b[43m,\u001b[49m\u001b[38;5;241;43m5\u001b[39;49m\u001b[43m)\u001b[49m\n",
      "\u001b[0;31mTypeError\u001b[0m: list expected at most 1 argument, got 5"
     ]
    }
   ],
   "source": [
    "l4 = AvgList(9,8,7,6,5)"
   ]
  },
  {
   "cell_type": "markdown",
   "metadata": {},
   "source": [
    "# How do we fix the above error and how do we evolve our interface here\n",
    "\n",
    "* We want to accept the arbitrary number of arguments\n",
    "* How do we do that?\n",
    "    Well, to do that for average list, we simply implement dunder init in the subclass, so we implmenting the subclass this time.\n",
    "\n",
    "    Well, to do that for average list, we simply implement dunder init in the subclass, therefore it takes the precedence over that implemented in list.\n",
    "    But also at the same time, it becomes our responsibility to delegate to the dunder init of the parent.\n",
    "\n",
    "    * "
   ]
  },
  {
   "cell_type": "code",
   "execution_count": 33,
   "metadata": {},
   "outputs": [],
   "source": [
    "class AvgList(list):\n",
    "    def __init__(self, *args): # arbitrary number of args \n",
    "        # take the arbitrary number of args and interpret them\n",
    "        if args and type(args[0]) != list:\n",
    "            super().__init__(args)\n",
    "        else:\n",
    "            super().__init__(args[0])\n",
    "\n",
    "    @property\n",
    "    def average(self):\n",
    "            return sum(self) / len(self)\n"
   ]
  },
  {
   "cell_type": "code",
   "execution_count": 30,
   "metadata": {},
   "outputs": [],
   "source": [
    "l4 = [6,5,4,3,2]"
   ]
  },
  {
   "cell_type": "code",
   "execution_count": 34,
   "metadata": {},
   "outputs": [
    {
     "name": "stdout",
     "output_type": "stream",
     "text": [
      "30.25\n"
     ]
    }
   ],
   "source": [
    "l5 = AvgList([1,10,20,90])\n",
    "print(l5.average)"
   ]
  },
  {
   "cell_type": "code",
   "execution_count": 35,
   "metadata": {},
   "outputs": [
    {
     "name": "stdout",
     "output_type": "stream",
     "text": [
      "30.25\n"
     ]
    }
   ],
   "source": [
    "l6 = AvgList(1,10,20,90)\n",
    "print(l6.average)"
   ]
  },
  {
   "cell_type": "markdown",
   "metadata": {},
   "source": [
    "# Extended builtin usin list recap\n",
    "1. built in types could be extedned both to add functionality as well customize existing behavior.\n",
    "2. this includes subclass overrides of specific dunders or the definition of new methods and attributes.\n",
    "3. some commonly extended built ins are list, set, dict, and str\n",
    "4. int and float are also often inherited in creating numeric abstractions with custom behavior.\n",
    "\n"
   ]
  }
 ],
 "metadata": {
  "kernelspec": {
   "display_name": "Python 3",
   "language": "python",
   "name": "python3"
  },
  "language_info": {
   "codemirror_mode": {
    "name": "ipython",
    "version": 3
   },
   "file_extension": ".py",
   "mimetype": "text/x-python",
   "name": "python",
   "nbconvert_exporter": "python",
   "pygments_lexer": "ipython3",
   "version": "3.8.10"
  }
 },
 "nbformat": 4,
 "nbformat_minor": 2
}
