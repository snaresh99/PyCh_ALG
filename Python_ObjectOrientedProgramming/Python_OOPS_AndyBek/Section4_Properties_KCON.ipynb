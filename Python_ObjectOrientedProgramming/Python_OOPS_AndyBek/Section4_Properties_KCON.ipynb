{
 "cells": [
  {
   "cell_type": "markdown",
   "metadata": {},
   "source": [
    "# Breaking Changes\n"
   ]
  },
  {
   "cell_type": "code",
   "execution_count": 6,
   "metadata": {},
   "outputs": [],
   "source": [
    "def get_discount(customer):\n",
    "    discounts = {\n",
    "        \"bronze\": .1,\n",
    "        \"gold\": .2,\n",
    "        \"platinum\": .35\n",
    "    }\n",
    "\n",
    "    discount = discounts.get(customer.loyalty, None)\n",
    "\n",
    "    if not discount:\n",
    "        raise ValueError(\"Could not determine the customer's discount!\")\n",
    "\n",
    "    return discount\n",
    "\n"
   ]
  },
  {
   "cell_type": "code",
   "execution_count": null,
   "metadata": {},
   "outputs": [],
   "source": [
    "class Customer:\n",
    "    loyalty_levels = {\"bronze\", \"gold\", \"platinum\"}\n",
    "\n",
    "    def __init__(self, loyalty, membership=0):\n",
    "        self.loyalty = loyalty # self.set_loyalty(loyalty)\n",
    "        self.membership = membership\n",
    "\n",
    "    # To add validation we need to make it part of propert as defined below.\n",
    "    def get_membership(self):\n",
    "        return self._membership\n",
    "    \n",
    "    def set_membership(self, value):\n",
    "        if value < 0  or value > 34:\n",
    "            raise ValueError(\"Invalid Membership years\")\n",
    "    \n",
    "        self._membership = value\n",
    "\n",
    "    def get_loyalty(self):\n",
    "        return self._loyalty\n",
    "    \n",
    "    def set_loyalty(self, level):\n",
    "        if level not in self.loyalty_levels:\n",
    "            raise ValueError(f\"Invalid loyalty {level} specified\")\n",
    "        \n",
    "        self._loyalty = level\n",
    "\n",
    "    loyalty = property(fget = get_loyalty, fset = set_loyalty)\n",
    "    membership = property(fget = get_membership, fset=set_membership)\n",
    "\n",
    "    "
   ]
  },
  {
   "cell_type": "code",
   "execution_count": null,
   "metadata": {},
   "outputs": [],
   "source": [
    "# Properties: Properties are class attributes with added functionality\n",
    "# they allow us to customize access to instance variables through getters and setters without\n",
    "# changing the straight forward dot notation that client code may be depend on.\n",
    "\n",
    "\"\"\"\n",
    "They allow us to customize access to instance variables through getters and setters without\n",
    "changing the straight forward dot notation that client code may be depend on.\n",
    "\n",
    "When we say self.loyalty under __init__, python recognizes that this is a property and recognizes\n",
    "that this is a setting. Assignment statement.\n",
    "\n",
    "But that value is controlled by a property and therefore.  It redirects it to the set, right\n",
    "to the setter of the associated property.deleter\n",
    "\n",
    "So, what that does is triggers the set loyalty function that we have here.\n",
    "\n",
    "\"\"\""
   ]
  },
  {
   "cell_type": "code",
   "execution_count": 20,
   "metadata": {},
   "outputs": [],
   "source": [
    "c = Customer(\"bronze\")\n",
    "c2 = Customer(\"gold\")\n",
    "c3 = Customer(\"platinum\")\n"
   ]
  },
  {
   "cell_type": "code",
   "execution_count": 21,
   "metadata": {},
   "outputs": [
    {
     "data": {
      "text/plain": [
       "{'_loyalty': 'gold', '_membership': 0}"
      ]
     },
     "execution_count": 21,
     "metadata": {},
     "output_type": "execute_result"
    }
   ],
   "source": [
    "c2.__dict__"
   ]
  },
  {
   "cell_type": "code",
   "execution_count": 22,
   "metadata": {},
   "outputs": [
    {
     "data": {
      "text/plain": [
       "'gold'"
      ]
     },
     "execution_count": 22,
     "metadata": {},
     "output_type": "execute_result"
    }
   ],
   "source": [
    "c2.loyalty"
   ]
  },
  {
   "cell_type": "code",
   "execution_count": 23,
   "metadata": {},
   "outputs": [
    {
     "name": "stdout",
     "output_type": "stream",
     "text": [
      "your discount is 10%\n",
      "your discount is 20%\n",
      "your discount is 35%\n"
     ]
    }
   ],
   "source": [
    "for customer in [c, c2, c3]:\n",
    "    print(f\"your discount is {get_discount(customer):.0%}\")\n",
    "    "
   ]
  },
  {
   "cell_type": "markdown",
   "metadata": {},
   "source": [
    "# Recap of Breaking Changes\n",
    "1. Properties are attributes with special behavior.\n",
    "2. They wrap functionality around instance attributes while providing a simple, public interface using dot notaiton.\n",
    "3. They wrap functionality around instnace attributes while providing a simple, public, interface using dot notation.\n",
    "4. properties help us avoid unnecessary use of getters and setters while keeping the code clean, short and pythonic.\n",
    "\n"
   ]
  },
  {
   "cell_type": "markdown",
   "metadata": {},
   "source": [
    "# Properties Live in the Class\n",
    "\n",
    "So far, we have seen how properties allow us to wrap additional functionality around instnace attributes while keeping the same dot notation syntax.\n",
    "\n",
    "* One may reasonably expect that properties should be instance attributes, but if we take a look at the instance dictionary, we could quickly rule that out.\n",
    "\n"
   ]
  },
  {
   "cell_type": "code",
   "execution_count": 24,
   "metadata": {},
   "outputs": [],
   "source": [
    "c = Customer(\"bronze\")"
   ]
  },
  {
   "cell_type": "code",
   "execution_count": 25,
   "metadata": {},
   "outputs": [
    {
     "data": {
      "text/plain": [
       "{'_loyalty': 'bronze', '_membership': 0}"
      ]
     },
     "execution_count": 25,
     "metadata": {},
     "output_type": "execute_result"
    }
   ],
   "source": [
    "c.__dict__"
   ]
  },
  {
   "cell_type": "code",
   "execution_count": 27,
   "metadata": {},
   "outputs": [],
   "source": [
    "# In earlier section, we also saw how we could reach directly into the instance dictionary\n",
    "# modify these attribute bindings.\n",
    "\n",
    "\"\"\"\n",
    "c.__dict__[\"_loyalty\"] = \"platinum\"\n",
    "\n",
    "\"\"\"\n",
    "c.__dict__[\"_loyalty\"] = \"platinum\""
   ]
  },
  {
   "cell_type": "code",
   "execution_count": 29,
   "metadata": {},
   "outputs": [
    {
     "data": {
      "text/plain": [
       "'platinum'"
      ]
     },
     "execution_count": 29,
     "metadata": {},
     "output_type": "execute_result"
    }
   ],
   "source": [
    "c.loyalty"
   ]
  },
  {
   "cell_type": "code",
   "execution_count": 30,
   "metadata": {},
   "outputs": [],
   "source": [
    "c.__dict__[\"loyalty\"] = \"gold\""
   ]
  },
  {
   "cell_type": "code",
   "execution_count": 31,
   "metadata": {},
   "outputs": [
    {
     "data": {
      "text/plain": [
       "'platinum'"
      ]
     },
     "execution_count": 31,
     "metadata": {},
     "output_type": "execute_result"
    }
   ],
   "source": [
    "c.loyalty"
   ]
  },
  {
   "cell_type": "code",
   "execution_count": 32,
   "metadata": {},
   "outputs": [
    {
     "data": {
      "text/plain": [
       "{'_loyalty': 'platinum', '_membership': 0, 'loyalty': 'gold'}"
      ]
     },
     "execution_count": 32,
     "metadata": {},
     "output_type": "execute_result"
    }
   ],
   "source": [
    "c.__dict__"
   ]
  },
  {
   "cell_type": "markdown",
   "metadata": {},
   "source": [
    "# Background for descriptors\n",
    "* In the above example, we  do not get gold, which is right there part of class dictionary, but we still get platinum as output.\n",
    "* we'll have a lot more to say about the background mechanics of this when we talk about descriptors in a future section.\n",
    "8 We'll have a lot more to say about the background mechanics of this when we talk aboiut descriptors in a future section.\n",
    "\n",
    "Note: Important to note that defining a property sidesteps some of the rules we 're used to .\n",
    "* It behaves a bit differently from what we could expect as we saw even having an attribute by the same name in the local instance, dictionary does not play any role in the presence of a property by the same name.\n",
    "\n",
    "* Right: So we have a property by the name loyalty and therefore this is completely skipped.\n"
   ]
  },
  {
   "cell_type": "code",
   "execution_count": 33,
   "metadata": {},
   "outputs": [
    {
     "data": {
      "text/plain": [
       "mappingproxy({'__module__': '__main__',\n",
       "              'loyalty_levels': {'bronze', 'gold', 'platinum'},\n",
       "              '__init__': <function __main__.Customer.__init__(self, loyalty, membership=0)>,\n",
       "              'get_membership': <function __main__.Customer.get_membership(self)>,\n",
       "              'set_membership': <function __main__.Customer.set_membership(self, value)>,\n",
       "              'get_loyalty': <function __main__.Customer.get_loyalty(self)>,\n",
       "              'set_loyalty': <function __main__.Customer.set_loyalty(self, level)>,\n",
       "              'loyalty': <property at 0x7f9dc00ce900>,\n",
       "              'membership': <property at 0x7f9da9e0eef0>,\n",
       "              '__dict__': <attribute '__dict__' of 'Customer' objects>,\n",
       "              '__weakref__': <attribute '__weakref__' of 'Customer' objects>,\n",
       "              '__doc__': None})"
      ]
     },
     "execution_count": 33,
     "metadata": {},
     "output_type": "execute_result"
    }
   ],
   "source": [
    "Customer.__dict__"
   ]
  },
  {
   "cell_type": "code",
   "execution_count": null,
   "metadata": {},
   "outputs": [],
   "source": [
    "# c.loyalty"
   ]
  },
  {
   "cell_type": "markdown",
   "metadata": {},
   "source": [
    "# Recap of properties live in the class\n",
    "1. all the proerites we define live in the class mapping proxy, not the instance dictionary.\n",
    "\n",
    "1. All the properties we define live in the class mapping proxy, not the instance dictionary.\n",
    "2. instance attributes that have the same name as the proerty do not shadow the workings of the property.\n",
    "* In other words, properties take precedence over instance attriutes of the same name.\n",
    "* The mechanics of this are driven by the fact that properties are descriptors, which we'll discuss in depth in a future section.\n",
    "\n"
   ]
  },
  {
   "cell_type": "markdown",
   "metadata": {},
   "source": [
    "$ git reset --soft HEAD~1\n"
   ]
  },
  {
   "cell_type": "markdown",
   "metadata": {},
   "source": [
    "/home/naresh/Pictures/Screenshot from 2025-01-03 10-08-45.png\n"
   ]
  },
  {
   "cell_type": "markdown",
   "metadata": {},
   "source": [
    "# Requirements\n",
    "1. Define a new type called DNABase which takes a single arg (nucleotide) at initiation.\n",
    "2. internally the value specified in the nucleotide arg should be validated and standardized.\n",
    "3. the class should expose the nucleotide in an attribute called base\n"
   ]
  },
  {
   "cell_type": "code",
   "execution_count": 35,
   "metadata": {},
   "outputs": [],
   "source": [
    "# Properties Challenge\n",
    "\n",
    "class DNABase:\n",
    "    def __init__(self, nucleotide):\n",
    "        #self.nucleotide = nucleotide # This is how we do it regularly but based on requirement 3 defined below, i have to assign neuclotide to base\n",
    "        self.base = nucleotide\n",
    "\n",
    "    # 2. Requirement: Internally the value specified in the nucloetide arg should be validated and standardized.\n",
    "    #3. Requirement: The class should expose the nucleotide in an attribute called base.\n",
    "\n",
    "    # Adenine, cytosine, guanine, and thymine\n",
    "    # We decided to use a staticmethod because its not an instance specific.\n",
    "\n",
    "\n",
    "    @staticmethod\n",
    "    # Also, its a good idea for this method to exist in the class namespace because it does something very specific for this class.\n",
    "    # It will support the validation on the setter for base.\n",
    "    # Since, this method doesn't depend on any instance state, so static method will do just fine and it will take a base.\n",
    "\n",
    "    def _validate_and_standardize(base):\n",
    "        allowed = [('a', 'adenine'), ('c', 'cytosine'), ('g','guanine'), ('t','thymine')]\n",
    "        # list of tuples\n",
    "\n",
    "        for b in allowed:\n",
    "            if base.lower().strip() in b:\n",
    "                return b[1]\n",
    "        return False\n",
    "    \n",
    "    def set_base(self, base):\n",
    "        valid_base = self._validate_and_standardize(base)\n",
    "\n",
    "        if valid_base:\n",
    "            self._base = valid_base\n",
    "        else:\n",
    "            raise ValueError(f\"{base} is not a recognized DNA nucleotide\")\n",
    "        \n",
    "    def get_base(self):\n",
    "        return self._base\n",
    "    \n",
    "    # base = property()\n",
    "    base = property(fset = set_base, fget=get_base)\n",
    "    \n",
    "    def __repr__(self):\n",
    "        return f\"{type(self).__name__}(nucleotide='{self.base}')\"\n",
    "    \n",
    "    \n",
    "\n",
    "\n",
    "\n",
    "\n",
    "\n",
    "\n",
    "    "
   ]
  },
  {
   "cell_type": "code",
   "execution_count": 36,
   "metadata": {},
   "outputs": [
    {
     "data": {
      "text/plain": [
       "'thymine'"
      ]
     },
     "execution_count": 36,
     "metadata": {},
     "output_type": "execute_result"
    }
   ],
   "source": [
    "b1 = DNABase('T')\n",
    "b1.base"
   ]
  },
  {
   "cell_type": "code",
   "execution_count": 37,
   "metadata": {},
   "outputs": [
    {
     "ename": "ValueError",
     "evalue": "Krsna is not a recognized DNA nucleotide",
     "output_type": "error",
     "traceback": [
      "\u001b[0;31m---------------------------------------------------------------------------\u001b[0m",
      "\u001b[0;31mValueError\u001b[0m                                Traceback (most recent call last)",
      "Cell \u001b[0;32mIn[37], line 1\u001b[0m\n\u001b[0;32m----> 1\u001b[0m \u001b[43mb1\u001b[49m\u001b[38;5;241;43m.\u001b[39;49m\u001b[43mbase\u001b[49m \u001b[38;5;241m=\u001b[39m \u001b[38;5;124m\"\u001b[39m\u001b[38;5;124mKrsna\u001b[39m\u001b[38;5;124m\"\u001b[39m\n",
      "Cell \u001b[0;32mIn[35], line 35\u001b[0m, in \u001b[0;36mDNABase.set_base\u001b[0;34m(self, base)\u001b[0m\n\u001b[1;32m     33\u001b[0m     \u001b[38;5;28mself\u001b[39m\u001b[38;5;241m.\u001b[39m_base \u001b[38;5;241m=\u001b[39m valid_base\n\u001b[1;32m     34\u001b[0m \u001b[38;5;28;01melse\u001b[39;00m:\n\u001b[0;32m---> 35\u001b[0m     \u001b[38;5;28;01mraise\u001b[39;00m \u001b[38;5;167;01mValueError\u001b[39;00m(\u001b[38;5;124mf\u001b[39m\u001b[38;5;124m\"\u001b[39m\u001b[38;5;132;01m{\u001b[39;00mbase\u001b[38;5;132;01m}\u001b[39;00m\u001b[38;5;124m is not a recognized DNA nucleotide\u001b[39m\u001b[38;5;124m\"\u001b[39m)\n",
      "\u001b[0;31mValueError\u001b[0m: Krsna is not a recognized DNA nucleotide"
     ]
    }
   ],
   "source": [
    "b1.base = \"Krsna\""
   ]
  },
  {
   "cell_type": "code",
   "execution_count": null,
   "metadata": {},
   "outputs": [],
   "source": [
    "/home/naresh/Pictures/Screenshot from 2025-01-03 10-08-45.png\n"
   ]
  },
  {
   "cell_type": "code",
   "execution_count": 38,
   "metadata": {},
   "outputs": [
    {
     "data": {
      "text/plain": [
       "DNABase(nucleotide='thymine')"
      ]
     },
     "execution_count": 38,
     "metadata": {},
     "output_type": "execute_result"
    }
   ],
   "source": [
    "b1"
   ]
  },
  {
   "cell_type": "code",
   "execution_count": 39,
   "metadata": {},
   "outputs": [],
   "source": [
    "b1.base = 'a'"
   ]
  },
  {
   "cell_type": "code",
   "execution_count": 40,
   "metadata": {},
   "outputs": [
    {
     "data": {
      "text/plain": [
       "DNABase(nucleotide='adenine')"
      ]
     },
     "execution_count": 40,
     "metadata": {},
     "output_type": "execute_result"
    }
   ],
   "source": [
    "b1"
   ]
  },
  {
   "cell_type": "code",
   "execution_count": 41,
   "metadata": {},
   "outputs": [
    {
     "data": {
      "text/plain": [
       "'adenine'"
      ]
     },
     "execution_count": 41,
     "metadata": {},
     "output_type": "execute_result"
    }
   ],
   "source": [
    "b1.base"
   ]
  },
  {
   "cell_type": "markdown",
   "metadata": {},
   "source": [
    "# Decorator Syntax\n"
   ]
  },
  {
   "cell_type": "code",
   "execution_count": 43,
   "metadata": {},
   "outputs": [],
   "source": [
    "class Customer:\n",
    "    loyalty_levels = {\"bronze\", \"gold\", \"platinum\"}\n",
    "\n",
    "    def __init__(self, loyalty, membership=0):\n",
    "        self.loyalty = loyalty # self.set_loyalty(loyalty)\n",
    "        self.membership = membership\n",
    "\n",
    "    # To add validation we need to make it part of propert as defined below.\n",
    "    @property\n",
    "    def membership(self):\n",
    "        return self._membership\n",
    "    \n",
    "    @membership.setter\n",
    "    def membership(self, value):\n",
    "        if value < 0  or value > 34:\n",
    "            raise ValueError(\"Invalid Membership years\")\n",
    "    \n",
    "        self._membership = value\n",
    "    @property\n",
    "    def loyalty(self):\n",
    "        return self._loyalty\n",
    "    \n",
    "    @loyalty.setter\n",
    "    def loyalty(self, level):\n",
    "        if level not in self.loyalty_levels:\n",
    "            raise ValueError(f\"Invalid loyalty {level} specified\")\n",
    "        \n",
    "        self._loyalty = level\n",
    "\n",
    "    #loyalty = property(fget = get_loyalty, fset = set_loyalty)\n",
    "    #membership = property(fget = get_membership, fset=set_membership)\n"
   ]
  },
  {
   "cell_type": "code",
   "execution_count": null,
   "metadata": {},
   "outputs": [],
   "source": [
    "# Something to keep in mind, when defining the properties using the decorator syntax, the name of the methods should always align\n",
    "\"\"\"\n",
    "1. A more common syntax for defining properties relies on decorators\n",
    "2. to use this syntax:\n",
    "    * The getter is decorated with @property\n",
    "    * the setter with @property_name.setter\n",
    "    * all methods carry the name of the property.\n",
    "\n",
    "\"\"\""
   ]
  },
  {
   "cell_type": "markdown",
   "metadata": {},
   "source": [
    "# Decorators\n",
    "* A decorator is a function that takes another function as an argument, adds some functionality, that returns it, and does all of this without otherwise changing the function.\n",
    "\n",
    "# Property syntax\n",
    "@property\n",
    "@property_name.setter\n",
    "\n",
    "# First class citizens\n",
    "\n",
    "def ten_times(x):\n",
    "    return x = 18\n",
    "\n",
    "\n"
   ]
  },
  {
   "cell_type": "code",
   "execution_count": null,
   "metadata": {},
   "outputs": [],
   "source": [
    "# 1. Function could be assigned to other variables\n",
    "def ten_times(x):\n",
    "    return x * 10"
   ]
  },
  {
   "cell_type": "code",
   "execution_count": 4,
   "metadata": {},
   "outputs": [
    {
     "name": "stdout",
     "output_type": "stream",
     "text": [
      "50\n"
     ]
    }
   ],
   "source": [
    "ten_x = ten_times(5)\n",
    "print(ten_x)"
   ]
  },
  {
   "cell_type": "code",
   "execution_count": 6,
   "metadata": {},
   "outputs": [
    {
     "data": {
      "text/plain": [
       "70"
      ]
     },
     "execution_count": 6,
     "metadata": {},
     "output_type": "execute_result"
    }
   ],
   "source": [
    "# Reminder of Decorator definition\n",
    "\"\"\"\n",
    "* A decorator is a function that takes another function as an argument, \n",
    "adds some functionality, that returns it, and does all of this without otherwise changing the function.\n",
    "\n",
    "\"\"\"\n",
    "ten_x = ten_times\n",
    "ten_x(7)\n"
   ]
  },
  {
   "cell_type": "markdown",
   "metadata": {},
   "source": [
    "# Decorator:\n",
    "* Point: Function can also be passed as an argument to other functions and add some functionality.\n",
    "- Functions can be passed as other functions.\n"
   ]
  },
  {
   "cell_type": "code",
   "execution_count": 9,
   "metadata": {},
   "outputs": [],
   "source": [
    "# 2. Could be passed as args to ther functions\n",
    "def pass_three_to(func):\n",
    "    what = 3\n",
    "    \n",
    "    return func(what)"
   ]
  },
  {
   "cell_type": "code",
   "execution_count": 10,
   "metadata": {},
   "outputs": [
    {
     "data": {
      "text/plain": [
       "30"
      ]
     },
     "execution_count": 10,
     "metadata": {},
     "output_type": "execute_result"
    }
   ],
   "source": [
    "# We can pass function as an argument\n",
    "pass_three_to(ten_times)"
   ]
  },
  {
   "cell_type": "code",
   "execution_count": 18,
   "metadata": {},
   "outputs": [],
   "source": [
    "# Function within function can also be defined\n",
    "\n",
    "def outer():\n",
    "    def inner():\n",
    "        return \"inner func\"\n",
    "    \n",
    "    s = inner()\n",
    "    return s"
   ]
  },
  {
   "cell_type": "code",
   "execution_count": 19,
   "metadata": {},
   "outputs": [
    {
     "name": "stdout",
     "output_type": "stream",
     "text": [
      "inner func\n"
     ]
    }
   ],
   "source": [
    "# Defining function within another one\n",
    "a = outer()\n",
    "print(a)"
   ]
  },
  {
   "cell_type": "code",
   "execution_count": null,
   "metadata": {},
   "outputs": [
    {
     "data": {
      "text/plain": [
       "'The new function is returning'"
      ]
     },
     "execution_count": 20,
     "metadata": {},
     "output_type": "execute_result"
    }
   ],
   "source": [
    "# Return function instead of doing or calling function within functions.\n",
    "# functions being first class in python. Just like any other object. We can manipulate and transfer then just like objects\n",
    "def give_me_a_new_func():\n",
    "    def new_func():\n",
    "        return \"The new function is returning\"\n",
    "    \n",
    "    return new_func\n",
    "\n",
    "f = give_me_a_new_func()\n",
    "f()"
   ]
  },
  {
   "cell_type": "code",
   "execution_count": null,
   "metadata": {},
   "outputs": [
    {
     "name": "stdout",
     "output_type": "stream",
     "text": [
      "Greetings KCON  - Thank you Krsna,Narasimha\n"
     ]
    }
   ],
   "source": [
    "# Closure\n",
    "# A closure is a nested function that have access to variable in it\n",
    "# This is called a closure, we have a nested function which is return by outer function\n",
    "\n",
    "def greet(who):\n",
    "    how = \"Greetings KCON  - Thank you Krsna\"\n",
    "\n",
    "    def create_greeting():\n",
    "        print(f\"{how},{who}\")\n",
    "\n",
    "    return create_greeting\n",
    "# a variable points to instance of create greeting\n",
    "# The variable a points to instance of create_greeting function.\n",
    "# When we invoke it we notice that full greeting is printed which also includes variable from outter function\n",
    "# we have a nested function, and a return statement defined under outer function, which remembers variables from outter function and returns\n",
    "# We have a nested function: It's like function travelling with it's enclosing scope.\n",
    "\n",
    "\n",
    "\n",
    "a = greet(\"Narasimha\")\n",
    "a()"
   ]
  },
  {
   "cell_type": "code",
   "execution_count": null,
   "metadata": {},
   "outputs": [],
   "source": [
    "# decorators -> Design patterns built on the shoulders of these two giants: First class functions + closures\n",
    "# decorators -> Design patterns built on the shoulders of these two giants: first class functions + closures"
   ]
  },
  {
   "cell_type": "markdown",
   "metadata": {},
   "source": [
    "# Decorator Definition recap\n",
    "A decorator is a function that takes another function as an argument, adds some functionality that returns it, and does all of this without otherwise changing the function.\n",
    "\n",
    "* A decorator is a function that takes another function as an argument, adds some functionality that returns it and does all of this without otherwise changing the function.\n"
   ]
  },
  {
   "cell_type": "code",
   "execution_count": 24,
   "metadata": {},
   "outputs": [
    {
     "name": "stdout",
     "output_type": "stream",
     "text": [
      "9\n",
      "19\n",
      "30\n"
     ]
    }
   ],
   "source": [
    "from random import randint\n",
    "\n",
    "def bingo():\n",
    "    return randint(1, 47)\n",
    "\n",
    "for i in range(3):\n",
    "    print(bingo())"
   ]
  },
  {
   "cell_type": "code",
   "execution_count": 26,
   "metadata": {},
   "outputs": [
    {
     "name": "stdout",
     "output_type": "stream",
     "text": [
      "The selected number is  odd\n",
      "The selected number is  odd\n",
      "15\n",
      "The selected number is  odd\n",
      "The selected number is  odd\n",
      "13\n",
      "The selected number is  even\n",
      "The selected number is  even\n",
      "42\n"
     ]
    }
   ],
   "source": [
    "# get even or odd\n",
    "def even_or_odd(func):\n",
    "    def inner():\n",
    "        num = func()\n",
    "        print(f\"The selected number is  {'even' if num % 2 ==0 else 'odd'}\")\n",
    "\n",
    "        return num\n",
    "    \n",
    "    return inner\n",
    "\n",
    "bingo = even_or_odd(bingo)\n",
    "\n",
    "for i in range(3):\n",
    "    print(bingo())"
   ]
  },
  {
   "cell_type": "markdown",
   "metadata": {},
   "source": [
    "# Decorator:\n",
    "Decorator is a design pattern using @ syntax\n",
    "# Instead of passing a function to the closure and pointing it back:\n"
   ]
  },
  {
   "cell_type": "code",
   "execution_count": 28,
   "metadata": {},
   "outputs": [
    {
     "name": "stdout",
     "output_type": "stream",
     "text": [
      "The selected number is  odd\n",
      "37\n",
      "The selected number is  odd\n",
      "27\n",
      "The selected number is  even\n",
      "2\n"
     ]
    }
   ],
   "source": [
    "@even_or_odd\n",
    "def bingo():\n",
    "    return randint(1, 50)\n",
    "\n",
    "for i in range(3):\n",
    "    print(bingo())"
   ]
  },
  {
   "cell_type": "code",
   "execution_count": null,
   "metadata": {},
   "outputs": [],
   "source": [
    "# to say @ even_or_odd is just a syntatic sugar\n",
    "# Decorator is a design pattern that is really independent of syntax.\n",
    "# So its defined by what it does rather than what it  looks like.\n",
    "\n",
    "#This is a syntatic sugar.\n"
   ]
  },
  {
   "cell_type": "markdown",
   "metadata": {},
   "source": [
    "# Read or Write only properties\n",
    "\n",
    "All property parameters are optional.\n",
    "* Remember when we define property we define fget and fset as defined below, well these two arguments turned out to be optional\n",
    "\n",
    "# property(fget, fset)\n",
    "* note: fget and fset are optional.\n"
   ]
  },
  {
   "cell_type": "code",
   "execution_count": 29,
   "metadata": {},
   "outputs": [],
   "source": [
    "# Read or write only properties\n",
    "\n",
    "class Customer:\n",
    "    loyalty_levels = {\"bronze\", \"gold\", \"platinum\"}\n",
    "\n",
    "    def __init__(self, loyalty, membership = 0):\n",
    "        self.loyalty = loyalty\n",
    "\n",
    "    loyalty = property()"
   ]
  },
  {
   "cell_type": "code",
   "execution_count": 30,
   "metadata": {},
   "outputs": [
    {
     "data": {
      "text/plain": [
       "mappingproxy({'__module__': '__main__',\n",
       "              'loyalty_levels': {'bronze', 'gold', 'platinum'},\n",
       "              '__init__': <function __main__.Customer.__init__(self, loyalty, membership=0)>,\n",
       "              'loyalty': <property at 0x7f38d00de400>,\n",
       "              '__dict__': <attribute '__dict__' of 'Customer' objects>,\n",
       "              '__weakref__': <attribute '__weakref__' of 'Customer' objects>,\n",
       "              '__doc__': None})"
      ]
     },
     "execution_count": 30,
     "metadata": {},
     "output_type": "execute_result"
    }
   ],
   "source": [
    "Customer.__dict__"
   ]
  },
  {
   "cell_type": "code",
   "execution_count": 31,
   "metadata": {},
   "outputs": [],
   "source": [
    "# Property constructor treats all of it parameter as optional.\n",
    "# In order to build read or write only properties\n",
    "# Read or write only properties\n",
    "\n",
    "class Customer:\n",
    "    loyalty_levels = {\"bronze\", \"gold\", \"platinum\"}\n",
    "\n",
    "    def __init__(self, loyalty, membership = 0):\n",
    "        self.loyalty = loyalty\n",
    "\n",
    "    loyalty = property()\n",
    "\n",
    "    @loyalty.setter\n",
    "    def loyalty(self, level):\n",
    "        if level not in self.loyalty_levels:\n",
    "            raise ValueError(f\"invalid loyalty {level} specified\")\n",
    "        \n",
    "        self._loyalty = level\n"
   ]
  },
  {
   "cell_type": "code",
   "execution_count": 32,
   "metadata": {},
   "outputs": [],
   "source": [
    "c = Customer(\"platinum\")"
   ]
  },
  {
   "cell_type": "code",
   "execution_count": 33,
   "metadata": {},
   "outputs": [],
   "source": [
    "c.loyalty = \"gold\""
   ]
  },
  {
   "cell_type": "code",
   "execution_count": 34,
   "metadata": {},
   "outputs": [
    {
     "ename": "AttributeError",
     "evalue": "unreadable attribute",
     "output_type": "error",
     "traceback": [
      "\u001b[0;31m---------------------------------------------------------------------------\u001b[0m",
      "\u001b[0;31mAttributeError\u001b[0m                            Traceback (most recent call last)",
      "Cell \u001b[0;32mIn[34], line 1\u001b[0m\n\u001b[0;32m----> 1\u001b[0m \u001b[43mc\u001b[49m\u001b[38;5;241;43m.\u001b[39;49m\u001b[43mloyalty\u001b[49m\n",
      "\u001b[0;31mAttributeError\u001b[0m: unreadable attribute"
     ]
    }
   ],
   "source": [
    "c.loyalty"
   ]
  },
  {
   "cell_type": "code",
   "execution_count": 35,
   "metadata": {},
   "outputs": [
    {
     "data": {
      "text/plain": [
       "{'_loyalty': 'gold'}"
      ]
     },
     "execution_count": 35,
     "metadata": {},
     "output_type": "execute_result"
    }
   ],
   "source": [
    "c.__dict__"
   ]
  },
  {
   "cell_type": "code",
   "execution_count": 36,
   "metadata": {},
   "outputs": [],
   "source": [
    "# Above class, we only defined the setter, that is write only property, there is no read defined.\n",
    "\n",
    "class Customer:\n",
    "    loyalty_levels = {\"bronze\", \"gold\", \"platinum\"}\n",
    "\n",
    "    def __init__(self, loyalty, membership = 0):\n",
    "        self._loyalty = loyalty\n",
    "\n",
    "    loyalty = property()\n",
    "    @loyalty.getter\n",
    "\n",
    "    def loyalty(self):\n",
    "        return self._loyalty\n",
    "\n",
    "\n",
    "    '''\n",
    "    @loyalty.setter\n",
    "    def loyalty(self, level):\n",
    "        if level not in self.loyalty_levels:\n",
    "            raise ValueError(f\"invalid loyalty {level} specified\")\n",
    "        \n",
    "        self._loyalty = level\n",
    "\n",
    "    '''\n"
   ]
  },
  {
   "cell_type": "code",
   "execution_count": 37,
   "metadata": {},
   "outputs": [
    {
     "data": {
      "text/plain": [
       "'platinum'"
      ]
     },
     "execution_count": 37,
     "metadata": {},
     "output_type": "execute_result"
    }
   ],
   "source": [
    "c1 = Customer(\"platinum\")\n",
    "c1.loyalty"
   ]
  },
  {
   "cell_type": "code",
   "execution_count": 38,
   "metadata": {},
   "outputs": [
    {
     "ename": "AttributeError",
     "evalue": "can't set attribute",
     "output_type": "error",
     "traceback": [
      "\u001b[0;31m---------------------------------------------------------------------------\u001b[0m",
      "\u001b[0;31mAttributeError\u001b[0m                            Traceback (most recent call last)",
      "Cell \u001b[0;32mIn[38], line 2\u001b[0m\n\u001b[1;32m      1\u001b[0m \u001b[38;5;66;03m# We cannot set it now\u001b[39;00m\n\u001b[0;32m----> 2\u001b[0m \u001b[43mc1\u001b[49m\u001b[38;5;241;43m.\u001b[39;49m\u001b[43mloyalty\u001b[49m \u001b[38;5;241m=\u001b[39m \u001b[38;5;124m\"\u001b[39m\u001b[38;5;124mgold\u001b[39m\u001b[38;5;124m\"\u001b[39m\n",
      "\u001b[0;31mAttributeError\u001b[0m: can't set attribute"
     ]
    }
   ],
   "source": [
    "# We cannot set it now\n",
    "c1.loyalty = \"gold\""
   ]
  },
  {
   "cell_type": "code",
   "execution_count": 39,
   "metadata": {},
   "outputs": [],
   "source": [
    "class Customer:\n",
    "    loyalty_levels = {\"bronze\", \"gold\", \"platinum\"}\n",
    "\n",
    "    def __init__(self, loyalty, membership = 0):\n",
    "        self._loyalty = loyalty\n",
    "\n",
    "    #loyalty = property()\n",
    "    #@loyalty.getter\n",
    "\n",
    "    @property\n",
    "    def loyalty(self):\n",
    "        return self._loyalty\n",
    "\n",
    "\n",
    "    '''\n",
    "    @loyalty.setter\n",
    "    def loyalty(self, level):\n",
    "        if level not in self.loyalty_levels:\n",
    "            raise ValueError(f\"invalid loyalty {level} specified\")\n",
    "        \n",
    "        self._loyalty = level\n",
    "\n",
    "    '''"
   ]
  },
  {
   "cell_type": "code",
   "execution_count": 40,
   "metadata": {},
   "outputs": [
    {
     "data": {
      "text/plain": [
       "'bronze'"
      ]
     },
     "execution_count": 40,
     "metadata": {},
     "output_type": "execute_result"
    }
   ],
   "source": [
    "c2 = Customer(\"bronze\")\n",
    "c2.loyalty"
   ]
  },
  {
   "cell_type": "markdown",
   "metadata": {},
   "source": [
    "# Recap of Read or write only properties\n",
    "1. parameters to the properpty constructor are optional:\n",
    "* Only what we define is supported\n",
    "\n",
    "2. to support aread only attribute, we simply define the getter\n",
    "3. to define a write only attribute, we only define the setter.\n",
    "4. when a property() parameter has not been set, the corresponding operation raises an Attribute error.\n"
   ]
  },
  {
   "cell_type": "markdown",
   "metadata": {},
   "source": [
    "# Managed Attributes\n"
   ]
  },
  {
   "cell_type": "code",
   "execution_count": 50,
   "metadata": {},
   "outputs": [],
   "source": [
    "# We have defined private attributes by using _ (underscore)\n",
    "# Private variable which is defined as _loyalty.\n",
    "# This supporting variable _loyaty is strictly not required.\n",
    "# An interesting application of read only property is that of managed attributes.\n",
    "\n",
    "class Customer:\n",
    "    loyalty_levels = {\"bronze\", \"gold\", \"platinum\"}\n",
    "\n",
    "    def __init__(self, loyalty):\n",
    "        self._loyalty = loyalty\n",
    "        self._reviews = []\n",
    "\n",
    "    @property\n",
    "    def loyalty(self):\n",
    "        return self._loyalty\n",
    "        \n",
    "    @loyalty.setter\n",
    "    def loyalty(self, level):\n",
    "        if level in self.__class__.loyalty_levels:\n",
    "            self._loyalty = level\n",
    "\n",
    "        else:\n",
    "            raise ValueError(f\"Invalid loyalty {level}\")\n",
    "            \n",
    "    def add_reviews(self, review):\n",
    "        if not(type(review) == int or 0 <= review <= 10):\n",
    "            raise ValueError(\"Th review must be an int between 0 and 10, inclusive\")\n",
    "        self._reviews.append(review)\n",
    "    @property\n",
    "    def average_review(self):\n",
    "        return sum(self._reviews) / len(self._reviews)\n"
   ]
  },
  {
   "cell_type": "code",
   "execution_count": null,
   "metadata": {},
   "outputs": [
    {
     "data": {
      "text/plain": [
       "9.5"
      ]
     },
     "execution_count": 52,
     "metadata": {},
     "output_type": "execute_result"
    }
   ],
   "source": [
    "# I have made the change to average_review() method -  by converting it to read only property\n",
    "# Method invocation no longer works by converting a method to a read only property. \n",
    "# but on the bright  side, we have average_review as an attribute. \n",
    "# What we are calling an attribute, but the value return is the result of computation running on a method.\n",
    "\n",
    "d4 = Customer(\"platinum\")\n",
    "d4.add_reviews(10)\n",
    "d4.add_reviews(9)\n",
    "d4.average_review"
   ]
  },
  {
   "cell_type": "code",
   "execution_count": 45,
   "metadata": {},
   "outputs": [],
   "source": [
    "c4 = Customer(\"platinum\")\n",
    "c4.add_reviews(10)\n",
    "c4.add_reviews(9)\n",
    "c4.add_reviews(10)\n",
    "c4.add_reviews(9)\n",
    "c4.add_reviews(10)\n",
    "c4.add_reviews(9)\n"
   ]
  },
  {
   "cell_type": "code",
   "execution_count": 46,
   "metadata": {},
   "outputs": [
    {
     "data": {
      "text/plain": [
       "9.5"
      ]
     },
     "execution_count": 46,
     "metadata": {},
     "output_type": "execute_result"
    }
   ],
   "source": [
    "c4.average_review()"
   ]
  },
  {
   "cell_type": "code",
   "execution_count": 47,
   "metadata": {},
   "outputs": [
    {
     "data": {
      "text/plain": [
       "<bound method Customer.average_review of <__main__.Customer object at 0x7f38d011f310>>"
      ]
     },
     "execution_count": 47,
     "metadata": {},
     "output_type": "execute_result"
    }
   ],
   "source": [
    "c4.average_review"
   ]
  },
  {
   "cell_type": "markdown",
   "metadata": {},
   "source": [
    "# Note on method calling\n",
    "average_review method is bound to instance c4.\n",
    "\n",
    "Which when we invoke method we get averag_review method back\n",
    "\n",
    "Question: How do we get average_review method back without actually calling its bound method\n",
    "\n",
    "The best way to do in python is convert a method as read only property.\n",
    "\n",
    "# important question:\n",
    "How do we get average_review method back without actually calling its bound method?\n",
    "\n",
    "*How do we convert a method as a read only property? As we have seen in the previous lecture, all that we have to do is to define the read only property  is to define the getter and leave the setter.\n",
    "\n"
   ]
  },
  {
   "cell_type": "markdown",
   "metadata": {},
   "source": [
    "# Python gives us a mechanism through which we could support attributes that look plain but work like functions.\n",
    "* Managed Attributes: Python gives us a mechanism through which we could support attributes that look plain but work like function.\n",
    "* These are the attributes that don't have a variable supporting them but are instead calculated dynamically.\n",
    "* Particulary, to associate a function with what looks like plain attribute, we simply define a read only proeprty.\n",
    "\n",
    "* particularly, to associate a function with what looks like plain attribute, we simply define a read only property.\n",
    "\n",
    "* this pattern goes by the following synonymous names, managed properties, computed attributes, computed properties."
   ]
  },
  {
   "cell_type": "markdown",
   "metadata": {},
   "source": [
    "# Bonus Cache average review Implementation\n",
    "\n",
    "* average review need not be calculated every single time unless a new review has been provided by an end user.\n",
    "* In this case review value can be cached and can return directly instead of re-calculating or invoking average_review function.\n",
    "\n",
    "#  will see how this works..."
   ]
  },
  {
   "cell_type": "code",
   "execution_count": 11,
   "metadata": {},
   "outputs": [],
   "source": [
    "# Cache average revie value\n",
    "class Customer:\n",
    "    loyalty_levels = {\"bronze\", \"gold\", \"platinum\"}\n",
    "\n",
    "    def __init__(self, loyalty):\n",
    "        self._loyalty = loyalty\n",
    "        self._reviews = []\n",
    "        self._average_review_cache = None\n",
    "\n",
    "    @property\n",
    "    def loyalty(self):\n",
    "        \"\"\"A property that returns the loyalty level of the customer\n",
    "        setting and deleting is also covered\n",
    "        \"\"\"\n",
    "        return self._loyalty\n",
    "        \n",
    "    @loyalty.setter\n",
    "    def loyalty(self, level):\n",
    "        if level in self.__class__.loyalty_levels:\n",
    "            self._loyalty = level\n",
    "\n",
    "        else:\n",
    "            raise ValueError(f\"Invalid loyalty {level}\")\n",
    "            \n",
    "    def add_reviews(self, review):\n",
    "        if not(type(review) == int or 0 <= review <= 10):\n",
    "            raise ValueError(\"Th review must be an int between 0 and 10, inclusive\")\n",
    "        \n",
    "        self._reviews.append(review)\n",
    "        self._average_review_cache = None\n",
    "    @property\n",
    "    def average_review(self):\n",
    "        if self._average_review_cache is None:\n",
    "            print(\"Calculating...\")\n",
    "            self._average_review_cache = sum(self._reviews) / len(self._reviews)\n",
    "        return sum(self._reviews) / len(self._reviews)\n"
   ]
  },
  {
   "cell_type": "code",
   "execution_count": 3,
   "metadata": {},
   "outputs": [],
   "source": [
    "c5 = Customer(\"platinum\")\n",
    "c5.add_reviews(10)\n",
    "c5.add_reviews(9)\n",
    "c5.add_reviews(10)\n",
    "c5.add_reviews(9)\n",
    "c5.add_reviews(10)\n",
    "c5.add_reviews(9)"
   ]
  },
  {
   "cell_type": "code",
   "execution_count": 12,
   "metadata": {},
   "outputs": [
    {
     "name": "stdout",
     "output_type": "stream",
     "text": [
      "Help on property:\n",
      "\n",
      "    A property that returns the loyalty level of the customer\n",
      "    setting and deleting is also covered\n",
      "\n"
     ]
    }
   ],
   "source": [
    "help(Customer.loyalty)"
   ]
  },
  {
   "cell_type": "code",
   "execution_count": 9,
   "metadata": {},
   "outputs": [
    {
     "data": {
      "text/plain": [
       "8.857142857142858"
      ]
     },
     "execution_count": 9,
     "metadata": {},
     "output_type": "execute_result"
    }
   ],
   "source": [
    "c5.average_review"
   ]
  },
  {
   "cell_type": "code",
   "execution_count": null,
   "metadata": {},
   "outputs": [],
   "source": []
  },
  {
   "cell_type": "code",
   "execution_count": 6,
   "metadata": {},
   "outputs": [],
   "source": [
    "c5.add_reviews(5)"
   ]
  },
  {
   "cell_type": "markdown",
   "metadata": {},
   "source": [
    "# Cache average review value\n"
   ]
  },
  {
   "cell_type": "markdown",
   "metadata": {},
   "source": [
    "# Deleting properties\n",
    "Recap of deleting properties\n",
    "1. property mangaged attriutes are undeletable unless their deleter is explicitly defined.\n",
    "2. property managed attributes are undeletable unless their deleter is explicitly defined.\n",
    "3. the deleter could be added using the @property_name.deleter decorator syntax or as the third argument fdel to the built in property constructor.\n",
    "4. property deleters are used to delete the supporting variables from the instance, rather than the property form the class namespace.\n",
    "* Property deleters are used to delete the supporting variables from the instance, rather than the property from the class namespace.\n",
    "\n"
   ]
  },
  {
   "cell_type": "markdown",
   "metadata": {},
   "source": [
    "# Recap of Property Doc Strings:\n",
    "* We add property docstrings by defining them for the getter of the property.\n",
    "\n",
    "* Because docstrings for setter and deleters are ignored, it's a good practice to document the property holistically in the getter.\n",
    "\n"
   ]
  },
  {
   "cell_type": "markdown",
   "metadata": {},
   "source": [
    "# Skill Challenge #6"
   ]
  },
  {
   "cell_type": "code",
   "execution_count": 1,
   "metadata": {},
   "outputs": [],
   "source": [
    "class Tablet:\n",
    "    MAX_STORAGE = 1024\n",
    "    Models = {\n",
    "        \"lite\": {\n",
    "            \"base_storage\": 32,\n",
    "            \"memory\": 2\n",
    "        },\n",
    "\n",
    "        \"pro\": {\n",
    "            \"base_storage\":64,\n",
    "            \"memory\": 4\n",
    "        },\n",
    "        \"max\": {\n",
    "            \"base_storage\": 128,\n",
    "            \"memory\": 8\n",
    "        },\n",
    "\n",
    "    }\n",
    "\n",
    "\n",
    "    def __init__(self, model):\n",
    "        model = model.lower().strip()\n",
    "\n",
    "        if model not in list(self.MODELS.keys()):\n",
    "            raise ValueError(\"Unrecognized Model\")\n",
    "        \n",
    "        specs = self.MODELS[model]\n",
    "\n",
    "        self.model = model\n",
    "        self._base_storage = specs[\"base_storage\"]\n",
    "        self._memory = specs[\"memory\"]\n",
    "\n",
    "        self._added_storage = 0\n",
    "\n",
    "    def add_storage(self, additional_storage):\n",
    "        if self._base_storage + additional_storage > 1024:\n",
    "            raise ValueError(f\"Device memory cannot exceed maximum of {self.MAX_STORAGE}\")\n",
    "        \n",
    "        self._added_storage = additional_storage\n",
    "\n",
    "    @property\n",
    "    def storage(self):\n",
    "        return self._base_storage + self._added_storage\n",
    "    \n",
    "    @storage.setter\n",
    "    def storage(self, memory):\n",
    "        additional = memory - self._base_storage\n",
    "\n",
    "        if additional < 0:\n",
    "            raise ValueError(f\"Device memory cannot exceed\\\n",
    "                             lower than base memory of {self._base_storage}\")\n",
    "        \n",
    "        \n",
    "    \n",
    "        \n"
   ]
  }
 ],
 "metadata": {
  "kernelspec": {
   "display_name": "Python 3",
   "language": "python",
   "name": "python3"
  },
  "language_info": {
   "codemirror_mode": {
    "name": "ipython",
    "version": 3
   },
   "file_extension": ".py",
   "mimetype": "text/x-python",
   "name": "python",
   "nbconvert_exporter": "python",
   "pygments_lexer": "ipython3",
   "version": "3.8.10"
  }
 },
 "nbformat": 4,
 "nbformat_minor": 2
}
