{
 "cells": [
  {
   "cell_type": "markdown",
   "metadata": {},
   "source": [
    "# Breaking Changes\n"
   ]
  },
  {
   "cell_type": "code",
   "execution_count": 6,
   "metadata": {},
   "outputs": [],
   "source": [
    "def get_discount(customer):\n",
    "    discounts = {\n",
    "        \"bronze\": .1,\n",
    "        \"gold\": .2,\n",
    "        \"platinum\": .35\n",
    "    }\n",
    "\n",
    "    discount = discounts.get(customer.loyalty, None)\n",
    "\n",
    "    if not discount:\n",
    "        raise ValueError(\"Could not determine the customer's discount!\")\n",
    "\n",
    "    return discount\n",
    "\n"
   ]
  },
  {
   "cell_type": "code",
   "execution_count": null,
   "metadata": {},
   "outputs": [],
   "source": [
    "class Customer:\n",
    "    loyalty_levels = {\"bronze\", \"gold\", \"platinum\"}\n",
    "\n",
    "    def __init__(self, loyalty, membership=0):\n",
    "        self.loyalty = loyalty # self.set_loyalty(loyalty)\n",
    "        self.membership = membership\n",
    "\n",
    "    # To add validation we need to make it part of propert as defined below.\n",
    "    def get_membership(self):\n",
    "        return self._membership\n",
    "    \n",
    "    def set_membership(self, value):\n",
    "        if value < 0  or value > 34:\n",
    "            raise ValueError(\"Invalid Membership years\")\n",
    "    \n",
    "        self._membership = value\n",
    "\n",
    "    def get_loyalty(self):\n",
    "        return self._loyalty\n",
    "    \n",
    "    def set_loyalty(self, level):\n",
    "        if level not in self.loyalty_levels:\n",
    "            raise ValueError(f\"Invalid loyalty {level} specified\")\n",
    "        \n",
    "        self._loyalty = level\n",
    "\n",
    "    loyalty = property(fget = get_loyalty, fset = set_loyalty)\n",
    "    membership = property(fget = get_membership, fset=set_membership)\n",
    "\n",
    "    "
   ]
  },
  {
   "cell_type": "code",
   "execution_count": null,
   "metadata": {},
   "outputs": [],
   "source": [
    "# Properties: Properties are class attributes with added functionality\n",
    "# they allow us to customize access to instance variables through getters and setters without\n",
    "# changing the straight forward dot notation that client code may be depend on.\n",
    "\n",
    "\"\"\"\n",
    "They allow us to customize access to instance variables through getters and setters without\n",
    "changing the straight forward dot notation that client code may be depend on.\n",
    "\n",
    "When we say self.loyalty under __init__, python recognizes that this is a property and recognizes\n",
    "that this is a setting. Assignment statement.\n",
    "\n",
    "But that value is controlled by a property and therefore.  It redirects it to the set, right\n",
    "to the setter of the associated property.deleter\n",
    "\n",
    "So, what that does is triggers the set loyalty function that we have here.\n",
    "\n",
    "\"\"\""
   ]
  },
  {
   "cell_type": "code",
   "execution_count": 20,
   "metadata": {},
   "outputs": [],
   "source": [
    "c = Customer(\"bronze\")\n",
    "c2 = Customer(\"gold\")\n",
    "c3 = Customer(\"platinum\")\n"
   ]
  },
  {
   "cell_type": "code",
   "execution_count": 21,
   "metadata": {},
   "outputs": [
    {
     "data": {
      "text/plain": [
       "{'_loyalty': 'gold', '_membership': 0}"
      ]
     },
     "execution_count": 21,
     "metadata": {},
     "output_type": "execute_result"
    }
   ],
   "source": [
    "c2.__dict__"
   ]
  },
  {
   "cell_type": "code",
   "execution_count": 22,
   "metadata": {},
   "outputs": [
    {
     "data": {
      "text/plain": [
       "'gold'"
      ]
     },
     "execution_count": 22,
     "metadata": {},
     "output_type": "execute_result"
    }
   ],
   "source": [
    "c2.loyalty"
   ]
  },
  {
   "cell_type": "code",
   "execution_count": 23,
   "metadata": {},
   "outputs": [
    {
     "name": "stdout",
     "output_type": "stream",
     "text": [
      "your discount is 10%\n",
      "your discount is 20%\n",
      "your discount is 35%\n"
     ]
    }
   ],
   "source": [
    "for customer in [c, c2, c3]:\n",
    "    print(f\"your discount is {get_discount(customer):.0%}\")\n",
    "    "
   ]
  },
  {
   "cell_type": "markdown",
   "metadata": {},
   "source": [
    "# Recap of Breaking Changes\n",
    "1. Properties are attributes with special behavior.\n",
    "2. They wrap functionality around instance attributes while providing a simple, public interface using dot notaiton.\n",
    "3. They wrap functionality around instnace attributes while providing a simple, public, interface using dot notation.\n",
    "4. properties help us avoid unnecessary use of getters and setters while keeping the code clean, short and pythonic.\n",
    "\n"
   ]
  },
  {
   "cell_type": "markdown",
   "metadata": {},
   "source": [
    "# Properties Live in the Class\n",
    "\n",
    "So far, we have seen how properties allow us to wrap additional functionality around instnace attributes while keeping the same dot notation syntax.\n",
    "\n",
    "* One may reasonably expect that properties should be instance attributes, but if we take a look at the instance dictionary, we could quickly rule that out.\n",
    "\n"
   ]
  },
  {
   "cell_type": "code",
   "execution_count": 24,
   "metadata": {},
   "outputs": [],
   "source": [
    "c = Customer(\"bronze\")"
   ]
  },
  {
   "cell_type": "code",
   "execution_count": 25,
   "metadata": {},
   "outputs": [
    {
     "data": {
      "text/plain": [
       "{'_loyalty': 'bronze', '_membership': 0}"
      ]
     },
     "execution_count": 25,
     "metadata": {},
     "output_type": "execute_result"
    }
   ],
   "source": [
    "c.__dict__"
   ]
  },
  {
   "cell_type": "code",
   "execution_count": 27,
   "metadata": {},
   "outputs": [],
   "source": [
    "# In earlier section, we also saw how we could reach directly into the instance dictionary\n",
    "# modify these attribute bindings.\n",
    "\n",
    "\"\"\"\n",
    "c.__dict__[\"_loyalty\"] = \"platinum\"\n",
    "\n",
    "\"\"\"\n",
    "c.__dict__[\"_loyalty\"] = \"platinum\""
   ]
  },
  {
   "cell_type": "code",
   "execution_count": 29,
   "metadata": {},
   "outputs": [
    {
     "data": {
      "text/plain": [
       "'platinum'"
      ]
     },
     "execution_count": 29,
     "metadata": {},
     "output_type": "execute_result"
    }
   ],
   "source": [
    "c.loyalty"
   ]
  },
  {
   "cell_type": "code",
   "execution_count": 30,
   "metadata": {},
   "outputs": [],
   "source": [
    "c.__dict__[\"loyalty\"] = \"gold\""
   ]
  },
  {
   "cell_type": "code",
   "execution_count": 31,
   "metadata": {},
   "outputs": [
    {
     "data": {
      "text/plain": [
       "'platinum'"
      ]
     },
     "execution_count": 31,
     "metadata": {},
     "output_type": "execute_result"
    }
   ],
   "source": [
    "c.loyalty"
   ]
  },
  {
   "cell_type": "code",
   "execution_count": 32,
   "metadata": {},
   "outputs": [
    {
     "data": {
      "text/plain": [
       "{'_loyalty': 'platinum', '_membership': 0, 'loyalty': 'gold'}"
      ]
     },
     "execution_count": 32,
     "metadata": {},
     "output_type": "execute_result"
    }
   ],
   "source": [
    "c.__dict__"
   ]
  },
  {
   "cell_type": "markdown",
   "metadata": {},
   "source": [
    "# Background for descriptors\n",
    "* In the above example, we  do not get gold, which is right there part of class dictionary, but we still get platinum as output.\n",
    "* we'll have a lot more to say about the background mechanics of this when we talk about descriptors in a future section.\n",
    "8 We'll have a lot more to say about the background mechanics of this when we talk aboiut descriptors in a future section.\n",
    "\n",
    "Note: Important to note that defining a property sidesteps some of the rules we 're used to .\n",
    "* It behaves a bit differently from what we could expect as we saw even having an attribute by the same name in the local instance, dictionary does not play any role in the presence of a property by the same name.\n",
    "\n",
    "* Right: So we have a property by the name loyalty and therefore this is completely skipped.\n"
   ]
  },
  {
   "cell_type": "code",
   "execution_count": 33,
   "metadata": {},
   "outputs": [
    {
     "data": {
      "text/plain": [
       "mappingproxy({'__module__': '__main__',\n",
       "              'loyalty_levels': {'bronze', 'gold', 'platinum'},\n",
       "              '__init__': <function __main__.Customer.__init__(self, loyalty, membership=0)>,\n",
       "              'get_membership': <function __main__.Customer.get_membership(self)>,\n",
       "              'set_membership': <function __main__.Customer.set_membership(self, value)>,\n",
       "              'get_loyalty': <function __main__.Customer.get_loyalty(self)>,\n",
       "              'set_loyalty': <function __main__.Customer.set_loyalty(self, level)>,\n",
       "              'loyalty': <property at 0x7f9dc00ce900>,\n",
       "              'membership': <property at 0x7f9da9e0eef0>,\n",
       "              '__dict__': <attribute '__dict__' of 'Customer' objects>,\n",
       "              '__weakref__': <attribute '__weakref__' of 'Customer' objects>,\n",
       "              '__doc__': None})"
      ]
     },
     "execution_count": 33,
     "metadata": {},
     "output_type": "execute_result"
    }
   ],
   "source": [
    "Customer.__dict__"
   ]
  },
  {
   "cell_type": "code",
   "execution_count": null,
   "metadata": {},
   "outputs": [],
   "source": [
    "# c.loyalty"
   ]
  },
  {
   "cell_type": "markdown",
   "metadata": {},
   "source": [
    "# Recap of properties live in the class\n",
    "1. all the proerites we define live in the class mapping proxy, not the instance dictionary.\n",
    "\n",
    "1. All the properties we define live in the class mapping proxy, not the instance dictionary.\n",
    "2. instance attributes that have the same name as the proerty do not shadow the workings of the property.\n",
    "* In other words, properties take precedence over instance attriutes of the same name.\n",
    "* The mechanics of this are driven by the fact that properties are descriptors, which we'll discuss in depth in a future section.\n",
    "\n"
   ]
  }
 ],
 "metadata": {
  "kernelspec": {
   "display_name": "Python 3",
   "language": "python",
   "name": "python3"
  },
  "language_info": {
   "codemirror_mode": {
    "name": "ipython",
    "version": 3
   },
   "file_extension": ".py",
   "mimetype": "text/x-python",
   "name": "python",
   "nbconvert_exporter": "python",
   "pygments_lexer": "ipython3",
   "version": "3.8.10"
  }
 },
 "nbformat": 4,
 "nbformat_minor": 2
}
