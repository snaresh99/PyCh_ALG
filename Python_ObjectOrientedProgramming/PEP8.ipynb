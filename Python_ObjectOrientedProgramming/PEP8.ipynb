{
 "cells": [
  {
   "cell_type": "markdown",
   "metadata": {},
   "source": [
    "PEP8:\n",
    "* PEP8 Python Coding standard.\n",
    "* Style guide for python code.\n",
    "\n",
    "Class Names:\n",
    "* Class names should normally use the CapWords convention. camelCase letters."
   ]
  },
  {
   "cell_type": "code",
   "execution_count": 3,
   "metadata": {},
   "outputs": [],
   "source": [
    "class Krsna:\n",
    "    pass"
   ]
  },
  {
   "cell_type": "code",
   "execution_count": 4,
   "metadata": {},
   "outputs": [
    {
     "data": {
      "text/plain": [
       "__main__.Krsna"
      ]
     },
     "execution_count": 4,
     "metadata": {},
     "output_type": "execute_result"
    }
   ],
   "source": [
    "Krsna"
   ]
  },
  {
   "cell_type": "markdown",
   "metadata": {},
   "source": [
    "Krsna corresponds to something in memory and its type is type.\n",
    "\n",
    "Krsna class defined above simply defines the base blueprint out of which those instances could be created.\n",
    "* Eventhough, the simple class that we created with name \"Krsna\", it comes with state and behavior.\n",
    "* By simply defining a class we get an object that encapsulates a number of properties.\n",
    "* "
   ]
  },
  {
   "cell_type": "code",
   "execution_count": 5,
   "metadata": {},
   "outputs": [
    {
     "data": {
      "text/plain": [
       "type"
      ]
     },
     "execution_count": 5,
     "metadata": {},
     "output_type": "execute_result"
    }
   ],
   "source": [
    "\n",
    "type(Krsna)\n"
   ]
  },
  {
   "cell_type": "code",
   "execution_count": 6,
   "metadata": {},
   "outputs": [],
   "source": [
    "class MercedezBenz:\n",
    "    pass"
   ]
  },
  {
   "cell_type": "code",
   "execution_count": 9,
   "metadata": {},
   "outputs": [
    {
     "data": {
      "text/plain": [
       "'MercedezBenz'"
      ]
     },
     "execution_count": 9,
     "metadata": {},
     "output_type": "execute_result"
    }
   ],
   "source": [
    "MercedezBenz.__bases__\n"
   ]
  },
  {
   "cell_type": "code",
   "execution_count": 10,
   "metadata": {},
   "outputs": [
    {
     "data": {
      "text/plain": [
       "'MercedezBenz'"
      ]
     },
     "execution_count": 10,
     "metadata": {},
     "output_type": "execute_result"
    }
   ],
   "source": [
    "MercedezBenz.__name__"
   ]
  },
  {
   "cell_type": "code",
   "execution_count": 11,
   "metadata": {},
   "outputs": [
    {
     "data": {
      "text/plain": [
       "<__main__.MercedezBenz at 0x7f8da8127490>"
      ]
     },
     "execution_count": 11,
     "metadata": {},
     "output_type": "execute_result"
    }
   ],
   "source": [
    "# Class has behavior and we call it we get new instances\n",
    "MercedezBenz()\n",
    "# We created new instance of Mercedez Benz class and we got the memory location for that instance."
   ]
  },
  {
   "cell_type": "code",
   "execution_count": 12,
   "metadata": {},
   "outputs": [
    {
     "name": "stdout",
     "output_type": "stream",
     "text": [
      "<__main__.MercedezBenz object at 0x7f8da8147940>\n",
      "<__main__.MercedezBenz object at 0x7f8da8147dc0>\n"
     ]
    },
    {
     "data": {
      "text/plain": [
       "False"
      ]
     },
     "execution_count": 12,
     "metadata": {},
     "output_type": "execute_result"
    }
   ],
   "source": [
    "# First Instance of MercedezBenz Class()\n",
    "m1 = MercedezBenz()\n",
    "m2 = MercedezBenz()\n",
    "\n",
    "print(m1)\n",
    "print(m2)\n",
    "\n",
    "m1 == m2\n",
    "#Two instances of class cannot be same by default because they represent\n",
    "# different entities in memory. They are separate objects, just like two otherwise\n",
    "# identical cars int he real workd would be considered.\n",
    "\n",
    "\"\"\"\n",
    "These two instances of the same blueprint are also considered differenty \n",
    "by default.\n",
    "\n",
    "1. A class is a blueprint that represents a type of object\n",
    "2. even the simplest class has a state and behavior.\n",
    "3. calling the class creaets instances or objects of that class.\n",
    "\"\"\"\n",
    "\n"
   ]
  },
  {
   "cell_type": "markdown",
   "metadata": {},
   "source": [
    "For example, if under dunder bases, we get the tuple of base classes for this pertainign to this class. Right now, its just (object,) which is the root object for all classes in Python.\n",
    "\n",
    "* <classname>.__name__ gives you the class name \n",
    "Class also has behavior. We can call it for example: MercedezBenz(), when we call it, we get new instances.\n",
    "\n",
    "From the new instance above, we got the following output:\n",
    "<__main__.MercedezBenz at 0x7f8da8127490>\n",
    "we got a new instance for MercedezBenz and we got the memory location for that.\n",
    "\n",
    "\n",
    "\n",
    "\n",
    "\n",
    "\n",
    "\n",
    "\n",
    "\n",
    "What is a tuple?\n",
    "* Tuples in python are used to store multiple items in a single variable.\n",
    "* Tuple is one of 4 built in data types in Python used to store collections of data, the other 3 are list, set, and Dictionary.\n",
    "\n",
    "List\n",
    "Set\n",
    "Dictionary\n",
    "\n",
    "A tuple is a collection which is ordered and unchangeable.\n",
    "\n",
    "Tuples are written with round brackets.\n",
    "\n",
    "thistuple = ('apple', 'bananna', 'cherry')\n",
    "print(thistuple)\n",
    "\n",
    "* Tuple items are orderd, unchangeable, and allow duplicate values.\n",
    "* Tuple items are indexed, the first item has index [0], the second item has index [1] etc.\n",
    "* When we say that tuples are orderd, it means that the items have a defined order, and that order will not change.\n",
    "\n",
    "Unchangeable:\n",
    "Tuples are unchangeable, meaning that we cannot change, add or remove items after the tuple has been created."
   ]
  },
  {
   "cell_type": "code",
   "execution_count": 8,
   "metadata": {},
   "outputs": [
    {
     "name": "stdout",
     "output_type": "stream",
     "text": [
      "('apple', 'bananna', 'cherry')\n"
     ]
    }
   ],
   "source": [
    "thistuple = ('apple', 'bananna', 'cherry')\n",
    "print(thistuple)"
   ]
  }
 ],
 "metadata": {
  "kernelspec": {
   "display_name": "Python 3",
   "language": "python",
   "name": "python3"
  },
  "language_info": {
   "codemirror_mode": {
    "name": "ipython",
    "version": 3
   },
   "file_extension": ".py",
   "mimetype": "text/x-python",
   "name": "python",
   "nbconvert_exporter": "python",
   "pygments_lexer": "ipython3",
   "version": "3.8.10"
  }
 },
 "nbformat": 4,
 "nbformat_minor": 2
}
