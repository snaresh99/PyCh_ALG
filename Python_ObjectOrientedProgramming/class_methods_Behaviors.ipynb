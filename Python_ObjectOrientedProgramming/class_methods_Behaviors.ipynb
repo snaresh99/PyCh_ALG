{
 "cells": [
  {
   "cell_type": "code",
   "execution_count": null,
   "metadata": {},
   "outputs": [],
   "source": [
    "\"\"\"\n",
    "Keeping class variables within the class definition, as we were doing\n",
    "below will be much easier to read and also leads to code that\n",
    "is better organized.\n",
    "\n",
    "\"\"\"\n",
    "\n",
    "class MercedezBenz:\n",
    "    doors = 4\n",
    "    wheels = 4\n",
    "    model = \"Krsna\"\n",
    "\n",
    "\n"
   ]
  },
  {
   "cell_type": "code",
   "execution_count": 1,
   "metadata": {},
   "outputs": [],
   "source": [
    "def drive():\n",
    "    return \"A car is being driven\""
   ]
  },
  {
   "cell_type": "code",
   "execution_count": 2,
   "metadata": {},
   "outputs": [
    {
     "data": {
      "text/plain": [
       "'A car is being driven'"
      ]
     },
     "execution_count": 2,
     "metadata": {},
     "output_type": "execute_result"
    }
   ],
   "source": [
    "# Below line indicates invoking a function.\n",
    "# When you invoke a function the statements in its body gets executed and we\n",
    "# either get a return value as we are getting in this case.\n",
    "# a string or some sort of side effect happens.\n",
    "\n",
    "drive()"
   ]
  },
  {
   "cell_type": "code",
   "execution_count": 20,
   "metadata": {},
   "outputs": [],
   "source": [
    "\"\"\"\n",
    "To add behavior to a class, we simply define a function \n",
    "within its body.\n",
    "- Now this function looks just like the regular ones, but they \n",
    "are bit different.\n",
    "- The function will now be part of the class definition.\n",
    "- they do start with the def keyword and followed by space,\n",
    "- followed by the function.\n",
    "- The moment we open brackets, dataloader automatically adds self\n",
    "- \"self\" is the default required first parameter for a method \n",
    "inside the class definition.\n",
    "- Reason is that by default, unless we otherwise specify this method\n",
    "that we are defining in the body of the class is considered to \n",
    "be an instance method and instance methods always take self as \n",
    "required first parameter.\n",
    "\n",
    "- \"self\" is the key word defined by convention, it can be called \n",
    "anything else and it represents instance itself.\n",
    "\n",
    "\n",
    "\n",
    "\n",
    "\"\"\"\n",
    "\n",
    "class MercedezBenz:\n",
    "    doors = 4\n",
    "    wheels = 4\n",
    "    model = \"Krsna\"\n",
    "\n",
    "    def drive(self):\n",
    "        return self"
   ]
  },
  {
   "cell_type": "code",
   "execution_count": 4,
   "metadata": {},
   "outputs": [
    {
     "data": {
      "text/plain": [
       "<__main__.MercedezBenz at 0x7f28dde76d60>"
      ]
     },
     "execution_count": 4,
     "metadata": {},
     "output_type": "execute_result"
    }
   ],
   "source": [
    "\"\"\"\n",
    "What we get back here is seems to be the representation for the instance itself\n",
    "M1 instance.\n",
    "\n",
    "\"\"\"\n",
    "M1 = MercedezBenz()\n",
    "M1.drive()"
   ]
  },
  {
   "cell_type": "code",
   "execution_count": 5,
   "metadata": {},
   "outputs": [
    {
     "data": {
      "text/plain": [
       "True"
      ]
     },
     "execution_count": 5,
     "metadata": {},
     "output_type": "execute_result"
    }
   ],
   "source": [
    "# Confirm that visually self and object are same\n",
    "M1 == M1.drive()"
   ]
  },
  {
   "cell_type": "code",
   "execution_count": 6,
   "metadata": {},
   "outputs": [
    {
     "data": {
      "text/plain": [
       "True"
      ]
     },
     "execution_count": 6,
     "metadata": {},
     "output_type": "execute_result"
    }
   ],
   "source": [
    "# You can also confirm with object identity \"is\"\n",
    "\n",
    "M1 is M1.drive()\n"
   ]
  },
  {
   "cell_type": "code",
   "execution_count": 8,
   "metadata": {},
   "outputs": [
    {
     "data": {
      "text/plain": [
       "False"
      ]
     },
     "execution_count": 8,
     "metadata": {},
     "output_type": "execute_result"
    }
   ],
   "source": [
    "# Importantly self is not the blueprint or the class itself.\n",
    "# Veriy important self is not the class itself. Its simply the instance\n",
    "# Critical to remember - Self is not the class or blueprint.\n",
    "# self is instance of the class\n",
    "\n",
    "M1 == MercedezBenz"
   ]
  },
  {
   "cell_type": "code",
   "execution_count": 16,
   "metadata": {},
   "outputs": [],
   "source": [
    "class MercedezBenz:\n",
    "    doors = 4\n",
    "    wheels = 4\n",
    "    model = \"Krsna\"\n",
    "\n",
    "    def drive(self):\n",
    "        return f\"Krsna is driving MercedezBenz Electric Vehichle and it is {self}\\n\""
   ]
  },
  {
   "cell_type": "code",
   "execution_count": 17,
   "metadata": {},
   "outputs": [
    {
     "data": {
      "text/plain": [
       "'Krsna is driving MercedezBenz Electric Vehichle and it is <__main__.MercedezBenz object at 0x7f28dd471610>\\n'"
      ]
     },
     "execution_count": 17,
     "metadata": {},
     "output_type": "execute_result"
    }
   ],
   "source": [
    "M1 = MercedezBenz()\n",
    "M2 = MercedezBenz()\n",
    "M1.drive()"
   ]
  },
  {
   "cell_type": "markdown",
   "metadata": {},
   "source": [
    "M1.drive()"
   ]
  },
  {
   "cell_type": "code",
   "execution_count": 18,
   "metadata": {},
   "outputs": [
    {
     "data": {
      "text/plain": [
       "'Krsna is driving MercedezBenz Electric Vehichle and it is <__main__.MercedezBenz object at 0x7f28dd432400>\\n'"
      ]
     },
     "execution_count": 18,
     "metadata": {},
     "output_type": "execute_result"
    }
   ],
   "source": [
    "M2.drive()"
   ]
  },
  {
   "cell_type": "markdown",
   "metadata": {},
   "source": [
    "Both M1 and M2 are two different instances of class MercedezBenz\n",
    "\n",
    "Important to note: when we create two different objects and call the same drive function. The self value or the instances will be different because they are two unique objects of same class MercedezBenz.\n",
    "\n",
    "- Self represents different objects when called from M1 opposed to when we called from M2\n",
    "- as we are calling from two different instances, we get differnet output.\n",
    "\n",
    "Drive method is bound to different instances.\n",
    "\n"
   ]
  },
  {
   "cell_type": "code",
   "execution_count": 23,
   "metadata": {},
   "outputs": [
    {
     "data": {
      "text/plain": [
       "<function __main__.MercedezBenz.drive(self)>"
      ]
     },
     "execution_count": 23,
     "metadata": {},
     "output_type": "execute_result"
    }
   ],
   "source": [
    "# tracking drive\n",
    "MercedezBenz.drive"
   ]
  },
  {
   "cell_type": "code",
   "execution_count": 24,
   "metadata": {},
   "outputs": [
    {
     "data": {
      "text/plain": [
       "function"
      ]
     },
     "execution_count": 24,
     "metadata": {},
     "output_type": "execute_result"
    }
   ],
   "source": [
    "type(MercedezBenz.drive)"
   ]
  },
  {
   "cell_type": "code",
   "execution_count": 25,
   "metadata": {},
   "outputs": [
    {
     "data": {
      "text/plain": [
       "<bound method MercedezBenz.drive of <__main__.MercedezBenz object at 0x7f28dd471610>>"
      ]
     },
     "execution_count": 25,
     "metadata": {},
     "output_type": "execute_result"
    }
   ],
   "source": [
    "\"\"\"\n",
    "\n",
    "We see that drive on Mercedez is a function, but when we look at the intance,\n",
    "instance however, we see that it becomes a bound method of a very\n",
    "specific object\n",
    "\n",
    "\"\"\"\n",
    "M1.drive"
   ]
  },
  {
   "cell_type": "code",
   "execution_count": 26,
   "metadata": {},
   "outputs": [
    {
     "data": {
      "text/plain": [
       "<bound method MercedezBenz.drive of <__main__.MercedezBenz object at 0x7f28dd432400>>"
      ]
     },
     "execution_count": 26,
     "metadata": {},
     "output_type": "execute_result"
    }
   ],
   "source": [
    "M2.drive"
   ]
  },
  {
   "cell_type": "code",
   "execution_count": 27,
   "metadata": {},
   "outputs": [
    {
     "data": {
      "text/plain": [
       "method"
      ]
     },
     "execution_count": 27,
     "metadata": {},
     "output_type": "execute_result"
    }
   ],
   "source": [
    "type(M1.drive)"
   ]
  },
  {
   "cell_type": "markdown",
   "metadata": {},
   "source": [
    "The same drive function definition that we defined under class body has resulted in \"Function\" and when we invoke it using object it resulted as \"method\".\n",
    "\n",
    "The reason its different because the input the specific instance in calling is different.\n",
    "\n",
    "A Method is simply a function that is bound to a very specific instance.\n",
    "Recap:\n",
    "1. We add behavior to our classes by defining functions.\n",
    "2. These functions are special in that they always have atleast one parameter called self.\n",
    "3. That parameter is by convention called self.\n",
    "4. when functions are defined within the body of a class, they become bound or attached to instances of that class.\n",
    "\n",
    "\n",
    "\n"
   ]
  }
 ],
 "metadata": {
  "kernelspec": {
   "display_name": "Python 3",
   "language": "python",
   "name": "python3"
  },
  "language_info": {
   "codemirror_mode": {
    "name": "ipython",
    "version": 3
   },
   "file_extension": ".py",
   "mimetype": "text/x-python",
   "name": "python",
   "nbconvert_exporter": "python",
   "pygments_lexer": "ipython3",
   "version": "3.8.10"
  }
 },
 "nbformat": 4,
 "nbformat_minor": 2
}
