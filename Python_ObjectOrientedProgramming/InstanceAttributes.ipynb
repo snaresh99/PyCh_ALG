{
 "cells": [
  {
   "cell_type": "markdown",
   "metadata": {},
   "source": [
    "# Instance Attributes"
   ]
  },
  {
   "cell_type": "code",
   "execution_count": 1,
   "metadata": {},
   "outputs": [],
   "source": [
    "class MercedezBenz:\n",
    "    doors = 4\n",
    "    wheels = 4\n",
    "    model = 'KCON'\n",
    "\n",
    "    def drive(self):\n",
    "        print(f\"A Mercedez is driving. it is{self}\\n\")\n",
    "    \n"
   ]
  },
  {
   "cell_type": "code",
   "execution_count": 2,
   "metadata": {},
   "outputs": [
    {
     "data": {
      "text/plain": [
       "(4, 4)"
      ]
     },
     "execution_count": 2,
     "metadata": {},
     "output_type": "execute_result"
    }
   ],
   "source": [
    "m1 = MercedezBenz()\n",
    "m2 = MercedezBenz()\n",
    "\n",
    "m1.doors, m2.doors"
   ]
  },
  {
   "cell_type": "code",
   "execution_count": 3,
   "metadata": {},
   "outputs": [
    {
     "data": {
      "text/plain": [
       "('KCON', 'KCON')"
      ]
     },
     "execution_count": 3,
     "metadata": {},
     "output_type": "execute_result"
    }
   ],
   "source": [
    "m1.model, m2.model"
   ]
  },
  {
   "cell_type": "markdown",
   "metadata": {},
   "source": [
    "Both instances have the same attributes, this is not flexible. \n",
    "\n",
    "#Quite frequently, in object oriented programming, we need to create objects that have differnet characteristics.\n",
    "\n",
    "Example: we need a way to say that m1 instance is black and m2 instance is red, m3 instance is white.\n",
    "\n",
    "* One approach we could consider her is to set those attributes on the instance objects directly after the instance has been created.\n",
    "* We can go in and simply assign as shown below."
   ]
  },
  {
   "cell_type": "code",
   "execution_count": 5,
   "metadata": {},
   "outputs": [
    {
     "data": {
      "text/plain": [
       "'Dedicated KCON'"
      ]
     },
     "execution_count": 5,
     "metadata": {},
     "output_type": "execute_result"
    }
   ],
   "source": [
    "m1.model = 'Dedicated KCON'\n",
    "m1.model"
   ]
  },
  {
   "cell_type": "markdown",
   "metadata": {},
   "source": [
    "# Proper way to set instance attributes is during the instance initialization itself and python gives us access to that step using a special method called init.\n",
    "\n"
   ]
  },
  {
   "cell_type": "code",
   "execution_count": 6,
   "metadata": {},
   "outputs": [],
   "source": [
    "class MercedezBenz:\n",
    "    doors = 4\n",
    "    wheels = 4\n",
    "    model = 'KCON'\n",
    "\n",
    "    def __init__(self): # Init is after instance creation but before it is returned.\n",
    "        pass\n",
    "\n",
    "    def drive(self):\n",
    "        print(f\"A Mercedez is driving. it is{self}\\n\")"
   ]
  },
  {
   "cell_type": "markdown",
   "metadata": {},
   "source": [
    "Notice that we are using two leading and traling underscores herer in \"__init__\" definition.\n",
    "# In Python the naming convention is reserved for methods that implement special behavior.\n",
    "\n",
    "This methods are also called Dunders for double underscores. and we will explore them in great depth.\n",
    "\n",
    "* Python automatically calls this dunder init after the instnace has been created, but before it is returned to us.\n",
    "* It gives us the opportunity to customize those instance specific attributes.\n",
    "\n",
    "if you want to customize the color, we customoize the color, we add color to the method signature then on the instance itself we set the color the color specified as showen below.\n",
    "\n",
    "class MercedezBenz:\n",
    "    doors = 4\n",
    "    wheels = 4\n",
    "    model = 'KCON'\n",
    "\n",
    "    def __init__(self, color): # Init is after instance creation but before it is returned.\n",
    "        self.color = color\n",
    "\n",
    "    def drive(self):\n",
    "        print(f\"A Mercedez is driving. it is{self}\\n\")\n",
    "\n",
    "\n",
    "# Where did the color comes from for init method:\n",
    "- The arguments that python passes to dunder init are the same that we specify when creating the instance.\n",
    "- so we try to create an instance now without any arguments specify, this not gonna work.\n",
    "- now on instances will be created with color specified.\n",
    "\n",
    "\n",
    "\n",
    "\n",
    "\n"
   ]
  },
  {
   "cell_type": "code",
   "execution_count": 7,
   "metadata": {},
   "outputs": [],
   "source": [
    "class MercedezBenz:\n",
    "    doors = 4\n",
    "    wheels = 4\n",
    "    model = 'KCON'\n",
    "\n",
    "    def __init__(self, color): # Init is after instance creation but before it is returned.\n",
    "        self.color = color\n",
    "\n",
    "    def drive(self):\n",
    "        print(f\"A Mercedez is driving. it is{self}\\n\")"
   ]
  },
  {
   "cell_type": "code",
   "execution_count": 8,
   "metadata": {},
   "outputs": [
    {
     "ename": "TypeError",
     "evalue": "__init__() missing 1 required positional argument: 'color'",
     "output_type": "error",
     "traceback": [
      "\u001b[0;31m---------------------------------------------------------------------------\u001b[0m",
      "\u001b[0;31mTypeError\u001b[0m                                 Traceback (most recent call last)",
      "Cell \u001b[0;32mIn[8], line 1\u001b[0m\n\u001b[0;32m----> 1\u001b[0m m1 \u001b[38;5;241m=\u001b[39m \u001b[43mMercedezBenz\u001b[49m\u001b[43m(\u001b[49m\u001b[43m)\u001b[49m\n",
      "\u001b[0;31mTypeError\u001b[0m: __init__() missing 1 required positional argument: 'color'"
     ]
    }
   ],
   "source": [
    "m1 = MercedezBenz()"
   ]
  },
  {
   "cell_type": "code",
   "execution_count": 14,
   "metadata": {},
   "outputs": [
    {
     "data": {
      "text/plain": [
       "'\\nWe have different values associated with same attribute\\nacross two differnt instances.\\n\\n'"
      ]
     },
     "execution_count": 14,
     "metadata": {},
     "output_type": "execute_result"
    }
   ],
   "source": [
    "# you cannot create an instances without positional argument because the init\n",
    "# method expects color as positional argument.\n",
    "\n",
    "m1 = MercedezBenz(color=\"red\")\n",
    "m2 = MercedezBenz(color=\"White\")\n",
    "# that's the proper pythonic object oriented way of doing that instance specific\n",
    "# customization.\n",
    "\n",
    "m1.color, m2.color\n",
    "\"\"\"\n",
    "We have different values associated with same attribute\n",
    "across two differnt instances.\n",
    "\n",
    "\"\"\"\n"
   ]
  },
  {
   "cell_type": "markdown",
   "metadata": {},
   "source": [
    "Why does this error indicate that only one required argument is missing?\n",
    "* When infact the Dunder init method as we defined it, expectes two arguments.\n",
    "* The reason is that dunder init, just like our drive method here, is bound to the instance. It is an instance method and there for it willr eceive the instance object as the first argument self.\n",
    "\n",
    "* So when we call this method, which python does for us at method, at instantiation, when we call this method, we only need to specify the rest of the arguments because in this case just caller because self is already passed on.\n",
    "* the same rules we see here with regular functions also apply to dunder init.\n",
    "* If we want to avoid having to always pass in a color, we can set a default of \"black\", let's say. Then we can go ahead and create an instances without color definition.\n",
    "class MercedezBenz:\n",
    "    doors = 4\n",
    "    wheels = 4\n",
    "    model = 'KCON'\n",
    "\n",
    "    def __init__(self, color=\"black\"): # Init is after instance creation but before it is returned.\n",
    "        self.color = color\n",
    "\n",
    "    def drive(self):\n",
    "        print(f\"A Mercedez is driving. it is{self}\\n\")\n",
    "\n",
    "\n",
    "* The color argument becomes optional and correspondingly the default color becomes black on all new instances.\n",
    "Quick Recap:\n",
    "1. attributes are simply variables associated with objects.\n",
    "2. instance attributes could be set before or after the instance object is returned.\n",
    "3. that's said, it's a best practice to set them in __init__, a special method which exists specifically for this purpose."
   ]
  },
  {
   "cell_type": "code",
   "execution_count": 15,
   "metadata": {},
   "outputs": [],
   "source": [
    "class MercedezBenz:\n",
    "    doors = 4\n",
    "    wheels = 4\n",
    "    model = 'KCON'\n",
    "\n",
    "    def __init__(self, color=\"black\"): # Init is after instance creation but before it is returned.\n",
    "        self.color = color\n",
    "\n",
    "    def drive(self):\n",
    "        print(f\"A Mercedez is driving. it is{self}\\n\")"
   ]
  },
  {
   "cell_type": "code",
   "execution_count": 18,
   "metadata": {},
   "outputs": [
    {
     "data": {
      "text/plain": [
       "('black', 'white')"
      ]
     },
     "execution_count": 18,
     "metadata": {},
     "output_type": "execute_result"
    }
   ],
   "source": [
    "m1 = MercedezBenz()\n",
    "m2 = MercedezBenz(color=\"white\")\n",
    "m1.color, m2.color"
   ]
  }
 ],
 "metadata": {
  "kernelspec": {
   "display_name": "Python 3",
   "language": "python",
   "name": "python3"
  },
  "language_info": {
   "codemirror_mode": {
    "name": "ipython",
    "version": 3
   },
   "file_extension": ".py",
   "mimetype": "text/x-python",
   "name": "python",
   "nbconvert_exporter": "python",
   "pygments_lexer": "ipython3",
   "version": "3.8.10"
  }
 },
 "nbformat": 4,
 "nbformat_minor": 2
}
