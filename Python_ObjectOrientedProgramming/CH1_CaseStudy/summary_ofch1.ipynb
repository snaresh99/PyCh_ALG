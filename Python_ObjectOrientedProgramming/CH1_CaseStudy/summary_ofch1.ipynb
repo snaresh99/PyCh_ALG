{
 "cells": [
  {
   "cell_type": "markdown",
   "metadata": {},
   "source": [
    "# Recall from Chapter 1\n",
    "1. Python has optional type hints to help describe how data objects are related and what are parameters should be for methods and functions.\n",
    "2. We create Python classes with the class statement.We should initialize attributes in the special __init__() method.\n",
    "3. modules and packages are used as higher-level groupings of classes.\n",
    "4. We need to plan out the organization of module content. While the general advice is flat is better than nexted.\n",
    "- Flat is better than nested\n",
    "5. There are few cases where it can be helpful to have nested packages.\n",
    "6. Python has no notion of private data. we often say we are all adults here.\n",
    "7. we can see the source code, and private declarations aren't very helpful, this doesn't change our designl; it simply removes the need for a handful of keywords.\n"
   ]
  }
 ],
 "metadata": {
  "language_info": {
   "name": "python"
  }
 },
 "nbformat": 4,
 "nbformat_minor": 2
}
