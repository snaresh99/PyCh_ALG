{
 "cells": [
  {
   "cell_type": "markdown",
   "metadata": {},
   "source": [
    "Here are some examples of sending a high/low signal from a Raspberry Pi to an NI DAQ 6002. The process involves toggling a GPIO pin on the Raspberry Pi and reading that signal on the DAQ.\n",
    "\n",
    "Example 1: Raspberry Pi GPIO Control\n",
    "This example toggles a GPIO pin on the Raspberry Pi to send a high/low signal.\n",
    "\n",
    "Requirements\n",
    "GPIO Library: Ensure you have the RPi.GPIO library installed.\n",
    "Wiring: Connect a GPIO pin (e.g., GPIO17) to a digital input on the NI DAQ. Make sure to connect ground (GND) between the Raspberry Pi and NI DAQ.\n"
   ]
  },
  {
   "cell_type": "code",
   "execution_count": null,
   "metadata": {},
   "outputs": [],
   "source": [
    "import RPi.GPIO as GPIO\n",
    "import time\n",
    "\n",
    "# Setup\n",
    "GPIO.setmode(GPIO.BCM)  # Use BCM pin numbering\n",
    "gpio_pin = 17\n",
    "GPIO.setup(gpio_pin, GPIO.OUT)\n",
    "\n",
    "try:\n",
    "    while True:\n",
    "        # Send HIGH signal\n",
    "        GPIO.output(gpio_pin, GPIO.HIGH)\n",
    "        print(\"Signal HIGH\")\n",
    "        time.sleep(1)  # Wait for 1 second\n",
    "\n",
    "        # Send LOW signal\n",
    "        GPIO.output(gpio_pin, GPIO.LOW)\n",
    "        print(\"Signal LOW\")\n",
    "        time.sleep(1)  # Wait for 1 second\n",
    "except KeyboardInterrupt:\n",
    "    pass\n",
    "finally:\n",
    "    GPIO.cleanup()  # Clean up GPIO settings\n"
   ]
  },
  {
   "cell_type": "markdown",
   "metadata": {},
   "source": [
    "Example 2: Reading the Signal with NI DAQ\n",
    "This example reads the signal sent from the Raspberry Pi on the NI DAQ using the NI-DAQmx Python API.\n",
    "\n",
    "Requirements\n",
    "NI-DAQmx: Make sure the NI-DAQmx drivers and Python wrapper (nidaqmx) are installed.\n",
    "Python Code to Read from NI DAQ"
   ]
  },
  {
   "cell_type": "code",
   "execution_count": null,
   "metadata": {},
   "outputs": [],
   "source": [
    "import nidaqmx\n",
    "from nidaqmx.constants import AcquisitionType\n",
    "import time\n",
    "\n",
    "# Configure the task\n",
    "with nidaqmx.Task() as task:\n",
    "    task.ai_channels.add_ai_voltage_chan(\"Dev1/ai0\")  # Change to your DAQ channel\n",
    "\n",
    "    task.timing.cfg_samp_clk_timing(1000.0, sample_mode=AcquisitionType.CONTINUOUS)\n",
    "\n",
    "    # Start the task\n",
    "    task.start()\n",
    "\n",
    "    try:\n",
    "        while True:\n",
    "            data = task.read(number_of_samples_per_channel=1)\n",
    "            print(f\"DAQ Reading: {data[0]} V\")  # Print the voltage reading\n",
    "            time.sleep(0.5)  # Adjust the reading frequency as needed\n",
    "    except KeyboardInterrupt:\n",
    "        pass\n"
   ]
  },
  {
   "cell_type": "markdown",
   "metadata": {},
   "source": [
    "Steps to Run\n",
    "Set Up Wiring:\n",
    "\n",
    "Connect the chosen GPIO pin on the Raspberry Pi to a digital input on the NI DAQ.\n",
    "Connect grounds between the Raspberry Pi and NI DAQ.\n",
    "Run the GPIO Control Code:\n",
    "\n",
    "Execute the first script on the Raspberry Pi to toggle the GPIO pin.\n",
    "Run the NI DAQ Reading Code:\n",
    "\n",
    "Execute the second script on your computer or another environment where the NI DAQ is configured.\n",
    "Observations\n",
    "You should see the GPIO control script toggling the output every second.\n",
    "The DAQ reading script will display voltage readings, switching between near 0V (LOW) and the voltage level corresponding to HIGH (often around 3.3V).\n",
    "Note\n",
    "Make sure to adjust the DAQ channel and any timing or sampling parameters based on your specific setup. If you encounter any issues or need more specific guidance, feel free to ask!"
   ]
  },
  {
   "cell_type": "markdown",
   "metadata": {},
   "source": [
    "explain Connect a GPIO pin (e.g., GPIO17) to a digital input on the NI DAQ.\n",
    "ChatGPT said:\n",
    "ChatGPT\n",
    "Connecting a GPIO pin from the Raspberry Pi to a digital input on the NI DAQ involves a few straightforward steps. Here's how to do it:\n",
    "\n",
    "1. Identify GPIO Pin\n",
    "Choose a GPIO Pin: For example, you can use GPIO17. This pin will be configured as an output on the Raspberry Pi to send signals.\n",
    "2. Identify NI DAQ Input Channel\n",
    "Choose a Digital Input Channel: On the NI DAQ 6002, identify one of the digital input channels (e.g., Dev1/port0/line0). This is where the Raspberry Pi's GPIO signal will be read.\n",
    "3. Gather Required Materials\n",
    "Jumper Wires: You’ll need jumper wires to make the connections.\n",
    "Breadboard (optional): A breadboard can help organize connections.\n",
    "4. Make the Connection\n",
    "Step-by-Step Wiring\n",
    "Power Off Both Devices: Always ensure that both the Raspberry Pi and NI DAQ are powered off before making connections to avoid damage.\n",
    "\n",
    "Connect GPIO Pin to DAQ:\n",
    "\n",
    "Use a jumper wire to connect GPIO17 (on the Raspberry Pi) to the chosen digital input channel on the NI DAQ (e.g., Dev1/port0/line0).\n",
    "Connect Ground:\n",
    "\n",
    "Connect a ground (GND) pin from the Raspberry Pi to the ground terminal of the NI DAQ. This is crucial for a common reference voltage between the two devices.\n",
    "Example Connections\n",
    "Raspberry Pi:\n",
    "\n",
    "GPIO17: This is the output pin you will control with your code.\n",
    "GND: Any GND pin on the Raspberry Pi.\n",
    "NI DAQ:\n",
    "\n",
    "Digital Input (e.g., Dev1/port0/line0): This is the input channel where the GPIO signal is received.\n",
    "GND: The GND terminal on the NI DAQ.\n",
    "5. Testing the Connection\n",
    "Power On Both Devices: After wiring, power on both the Raspberry Pi and the NI DAQ.\n",
    "Run the Raspberry Pi Code: Execute the code that toggles GPIO17 between high and low.\n",
    "Run the NI DAQ Code: Use the NI-DAQmx code to read the digital input channel where GPIO17 is connected.\n",
    "Important Considerations\n",
    "Voltage Levels: Ensure that the voltage levels are compatible. The Raspberry Pi typically outputs 3.3V when a GPIO pin is high, which is acceptable for the NI DAQ.\n",
    "Debouncing: If you're using this setup for button presses or similar applications, consider debouncing the signal in software to avoid false readings.\n",
    "Isolation: In critical applications, consider using opto-isolators to protect the Raspberry Pi from any potential voltage spikes from the NI DAQ.\n",
    "By following these steps, you'll have a working connection between the Raspberry Pi's GPIO and the NI DAQ, allowing you to send digital signals effectively! If you have any questions or need further clarification, just let me know!\n"
   ]
  }
 ],
 "metadata": {
  "kernelspec": {
   "display_name": "Python 3",
   "language": "python",
   "name": "python3"
  },
  "language_info": {
   "name": "python",
   "version": "3.8.10"
  }
 },
 "nbformat": 4,
 "nbformat_minor": 2
}
