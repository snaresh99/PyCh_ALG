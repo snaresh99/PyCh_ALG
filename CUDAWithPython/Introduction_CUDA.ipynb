{
 "cells": [
  {
   "cell_type": "markdown",
   "metadata": {},
   "source": [
    "# Introduction to CUDa Python with Numba\n",
    "\n",
    "What is CUDA?\n",
    "\n",
    "CUDA, or Compute unified device architectures, is a parallel computing platorm and programming model that allows developers to use GPUs for general purpose processing.\n",
    "\n",
    "- CUDA, or compute unified device architecture, is a parallel computing platform and programmingmodel that allows developers to use GPUs for general purpose processing.\n",
    "\n",
    "CUDA enables developers to speed up compute intensive applications by offloading complex tasks from the CPU to the GPU. This is possible because GPUs have many more cores than CPUs, which are designed to perform tasks sequentially.\n",
    "- CUDA allows developers to run tasks in parallel on the GPU, which can significantly increase computing performance.\n",
    "\n",
    "CUDA is usedin manu differnent industries, including:\n",
    "a. Artific Intelligence\n",
    "b. Deep learning\n",
    "c. Scientific Computing,\n",
    "d. Machine learning reserach\n",
    "e. Medical Sciences\n",
    "f. sypercomputing.\n",
    "g. crypto mining and \n",
    "h. Scientific modeling.\n",
    "\n",
    "\n",
    "Developers can use CUDA to program in languages like c, C++ Fortran, Python, and MATLAB. The NVIDIA CUDA tool kit provides the tool need to develop GPU accelerated applications, including a compiler. GPU accelerated libraries, and the CUDA runtime.\n",
    "\n"
   ]
  }
 ],
 "metadata": {
  "language_info": {
   "name": "python"
  }
 },
 "nbformat": 4,
 "nbformat_minor": 2
}
